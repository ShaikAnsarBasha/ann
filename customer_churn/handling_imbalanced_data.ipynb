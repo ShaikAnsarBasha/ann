{
 "cells": [
  {
   "cell_type": "markdown",
   "metadata": {},
   "source": [
    "<h3 style='color:blue' align='center'>Handling imbalanced data in customer churn prediction</h3>"
   ]
  },
  {
   "cell_type": "code",
   "execution_count": 1,
   "metadata": {},
   "outputs": [],
   "source": [
    "import pandas as pd\n",
    "from matplotlib import pyplot as plt\n",
    "import numpy as np\n",
    "%matplotlib inline"
   ]
  },
  {
   "cell_type": "code",
   "execution_count": 2,
   "metadata": {},
   "outputs": [],
   "source": [
    "import warnings\n",
    "warnings.filterwarnings('ignore')"
   ]
  },
  {
   "cell_type": "markdown",
   "metadata": {},
   "source": [
    "**Load the data**"
   ]
  },
  {
   "cell_type": "code",
   "execution_count": 3,
   "metadata": {
    "scrolled": true
   },
   "outputs": [
    {
     "data": {
      "text/html": [
       "<div>\n",
       "<style scoped>\n",
       "    .dataframe tbody tr th:only-of-type {\n",
       "        vertical-align: middle;\n",
       "    }\n",
       "\n",
       "    .dataframe tbody tr th {\n",
       "        vertical-align: top;\n",
       "    }\n",
       "\n",
       "    .dataframe thead th {\n",
       "        text-align: right;\n",
       "    }\n",
       "</style>\n",
       "<table border=\"1\" class=\"dataframe\">\n",
       "  <thead>\n",
       "    <tr style=\"text-align: right;\">\n",
       "      <th></th>\n",
       "      <th>customerID</th>\n",
       "      <th>gender</th>\n",
       "      <th>SeniorCitizen</th>\n",
       "      <th>Partner</th>\n",
       "      <th>Dependents</th>\n",
       "      <th>tenure</th>\n",
       "      <th>PhoneService</th>\n",
       "      <th>MultipleLines</th>\n",
       "      <th>InternetService</th>\n",
       "      <th>OnlineSecurity</th>\n",
       "      <th>...</th>\n",
       "      <th>DeviceProtection</th>\n",
       "      <th>TechSupport</th>\n",
       "      <th>StreamingTV</th>\n",
       "      <th>StreamingMovies</th>\n",
       "      <th>Contract</th>\n",
       "      <th>PaperlessBilling</th>\n",
       "      <th>PaymentMethod</th>\n",
       "      <th>MonthlyCharges</th>\n",
       "      <th>TotalCharges</th>\n",
       "      <th>Churn</th>\n",
       "    </tr>\n",
       "  </thead>\n",
       "  <tbody>\n",
       "    <tr>\n",
       "      <th>4825</th>\n",
       "      <td>0921-OHLVP</td>\n",
       "      <td>Male</td>\n",
       "      <td>0</td>\n",
       "      <td>No</td>\n",
       "      <td>No</td>\n",
       "      <td>22</td>\n",
       "      <td>Yes</td>\n",
       "      <td>Yes</td>\n",
       "      <td>Fiber optic</td>\n",
       "      <td>No</td>\n",
       "      <td>...</td>\n",
       "      <td>No</td>\n",
       "      <td>No</td>\n",
       "      <td>No</td>\n",
       "      <td>Yes</td>\n",
       "      <td>Month-to-month</td>\n",
       "      <td>No</td>\n",
       "      <td>Electronic check</td>\n",
       "      <td>83.05</td>\n",
       "      <td>1799.3</td>\n",
       "      <td>No</td>\n",
       "    </tr>\n",
       "    <tr>\n",
       "      <th>2216</th>\n",
       "      <td>8495-LJDFO</td>\n",
       "      <td>Female</td>\n",
       "      <td>1</td>\n",
       "      <td>No</td>\n",
       "      <td>No</td>\n",
       "      <td>64</td>\n",
       "      <td>Yes</td>\n",
       "      <td>Yes</td>\n",
       "      <td>Fiber optic</td>\n",
       "      <td>Yes</td>\n",
       "      <td>...</td>\n",
       "      <td>Yes</td>\n",
       "      <td>Yes</td>\n",
       "      <td>Yes</td>\n",
       "      <td>Yes</td>\n",
       "      <td>Month-to-month</td>\n",
       "      <td>Yes</td>\n",
       "      <td>Bank transfer (automatic)</td>\n",
       "      <td>108.95</td>\n",
       "      <td>7111.3</td>\n",
       "      <td>No</td>\n",
       "    </tr>\n",
       "    <tr>\n",
       "      <th>2877</th>\n",
       "      <td>0310-MVLET</td>\n",
       "      <td>Female</td>\n",
       "      <td>0</td>\n",
       "      <td>Yes</td>\n",
       "      <td>Yes</td>\n",
       "      <td>61</td>\n",
       "      <td>Yes</td>\n",
       "      <td>Yes</td>\n",
       "      <td>Fiber optic</td>\n",
       "      <td>No</td>\n",
       "      <td>...</td>\n",
       "      <td>No</td>\n",
       "      <td>No</td>\n",
       "      <td>Yes</td>\n",
       "      <td>Yes</td>\n",
       "      <td>Month-to-month</td>\n",
       "      <td>Yes</td>\n",
       "      <td>Electronic check</td>\n",
       "      <td>99.15</td>\n",
       "      <td>6010.05</td>\n",
       "      <td>Yes</td>\n",
       "    </tr>\n",
       "    <tr>\n",
       "      <th>5604</th>\n",
       "      <td>9432-VOFYX</td>\n",
       "      <td>Male</td>\n",
       "      <td>0</td>\n",
       "      <td>No</td>\n",
       "      <td>No</td>\n",
       "      <td>17</td>\n",
       "      <td>Yes</td>\n",
       "      <td>No</td>\n",
       "      <td>Fiber optic</td>\n",
       "      <td>No</td>\n",
       "      <td>...</td>\n",
       "      <td>No</td>\n",
       "      <td>No</td>\n",
       "      <td>No</td>\n",
       "      <td>No</td>\n",
       "      <td>Month-to-month</td>\n",
       "      <td>Yes</td>\n",
       "      <td>Electronic check</td>\n",
       "      <td>70.80</td>\n",
       "      <td>1207</td>\n",
       "      <td>No</td>\n",
       "    </tr>\n",
       "    <tr>\n",
       "      <th>5633</th>\n",
       "      <td>1222-LRYKO</td>\n",
       "      <td>Male</td>\n",
       "      <td>0</td>\n",
       "      <td>No</td>\n",
       "      <td>Yes</td>\n",
       "      <td>6</td>\n",
       "      <td>Yes</td>\n",
       "      <td>Yes</td>\n",
       "      <td>No</td>\n",
       "      <td>No internet service</td>\n",
       "      <td>...</td>\n",
       "      <td>No internet service</td>\n",
       "      <td>No internet service</td>\n",
       "      <td>No internet service</td>\n",
       "      <td>No internet service</td>\n",
       "      <td>Month-to-month</td>\n",
       "      <td>No</td>\n",
       "      <td>Mailed check</td>\n",
       "      <td>26.35</td>\n",
       "      <td>184.05</td>\n",
       "      <td>No</td>\n",
       "    </tr>\n",
       "  </tbody>\n",
       "</table>\n",
       "<p>5 rows × 21 columns</p>\n",
       "</div>"
      ],
      "text/plain": [
       "      customerID  gender  SeniorCitizen Partner Dependents  tenure  \\\n",
       "4825  0921-OHLVP    Male              0      No         No      22   \n",
       "2216  8495-LJDFO  Female              1      No         No      64   \n",
       "2877  0310-MVLET  Female              0     Yes        Yes      61   \n",
       "5604  9432-VOFYX    Male              0      No         No      17   \n",
       "5633  1222-LRYKO    Male              0      No        Yes       6   \n",
       "\n",
       "     PhoneService MultipleLines InternetService       OnlineSecurity  ...  \\\n",
       "4825          Yes           Yes     Fiber optic                   No  ...   \n",
       "2216          Yes           Yes     Fiber optic                  Yes  ...   \n",
       "2877          Yes           Yes     Fiber optic                   No  ...   \n",
       "5604          Yes            No     Fiber optic                   No  ...   \n",
       "5633          Yes           Yes              No  No internet service  ...   \n",
       "\n",
       "         DeviceProtection          TechSupport          StreamingTV  \\\n",
       "4825                   No                   No                   No   \n",
       "2216                  Yes                  Yes                  Yes   \n",
       "2877                   No                   No                  Yes   \n",
       "5604                   No                   No                   No   \n",
       "5633  No internet service  No internet service  No internet service   \n",
       "\n",
       "          StreamingMovies        Contract PaperlessBilling  \\\n",
       "4825                  Yes  Month-to-month               No   \n",
       "2216                  Yes  Month-to-month              Yes   \n",
       "2877                  Yes  Month-to-month              Yes   \n",
       "5604                   No  Month-to-month              Yes   \n",
       "5633  No internet service  Month-to-month               No   \n",
       "\n",
       "                  PaymentMethod MonthlyCharges  TotalCharges Churn  \n",
       "4825           Electronic check          83.05        1799.3    No  \n",
       "2216  Bank transfer (automatic)         108.95        7111.3    No  \n",
       "2877           Electronic check          99.15       6010.05   Yes  \n",
       "5604           Electronic check          70.80          1207    No  \n",
       "5633               Mailed check          26.35        184.05    No  \n",
       "\n",
       "[5 rows x 21 columns]"
      ]
     },
     "execution_count": 3,
     "metadata": {},
     "output_type": "execute_result"
    }
   ],
   "source": [
    "df = pd.read_csv(\"customer_churn.csv\")\n",
    "df.sample(5)"
   ]
  },
  {
   "cell_type": "code",
   "execution_count": 4,
   "metadata": {},
   "outputs": [
    {
     "data": {
      "text/plain": [
       "No     5174\n",
       "Yes    1869\n",
       "Name: Churn, dtype: int64"
      ]
     },
     "execution_count": 4,
     "metadata": {},
     "output_type": "execute_result"
    }
   ],
   "source": [
    "df.Churn.value_counts()"
   ]
  },
  {
   "cell_type": "markdown",
   "metadata": {},
   "source": [
    "**First of all, drop customerID column as it is of no use**"
   ]
  },
  {
   "cell_type": "code",
   "execution_count": 5,
   "metadata": {},
   "outputs": [],
   "source": [
    "df.drop('customerID',axis='columns',inplace=True)"
   ]
  },
  {
   "cell_type": "code",
   "execution_count": 6,
   "metadata": {
    "scrolled": false
   },
   "outputs": [
    {
     "data": {
      "text/plain": [
       "gender               object\n",
       "SeniorCitizen         int64\n",
       "Partner              object\n",
       "Dependents           object\n",
       "tenure                int64\n",
       "PhoneService         object\n",
       "MultipleLines        object\n",
       "InternetService      object\n",
       "OnlineSecurity       object\n",
       "OnlineBackup         object\n",
       "DeviceProtection     object\n",
       "TechSupport          object\n",
       "StreamingTV          object\n",
       "StreamingMovies      object\n",
       "Contract             object\n",
       "PaperlessBilling     object\n",
       "PaymentMethod        object\n",
       "MonthlyCharges      float64\n",
       "TotalCharges         object\n",
       "Churn                object\n",
       "dtype: object"
      ]
     },
     "execution_count": 6,
     "metadata": {},
     "output_type": "execute_result"
    }
   ],
   "source": [
    "df.dtypes"
   ]
  },
  {
   "cell_type": "markdown",
   "metadata": {},
   "source": [
    "**Quick glance at above makes me realize that TotalCharges should be float but it is an object. Let's check what's going on with  this column**"
   ]
  },
  {
   "cell_type": "code",
   "execution_count": 7,
   "metadata": {},
   "outputs": [
    {
     "data": {
      "text/plain": [
       "array(['29.85', '1889.5', '108.15', ..., '346.45', '306.6', '6844.5'],\n",
       "      dtype=object)"
      ]
     },
     "execution_count": 7,
     "metadata": {},
     "output_type": "execute_result"
    }
   ],
   "source": [
    "df.TotalCharges.values"
   ]
  },
  {
   "cell_type": "markdown",
   "metadata": {},
   "source": [
    "**Ahh... it is string. Lets convert it to numbers**"
   ]
  },
  {
   "cell_type": "code",
   "execution_count": 8,
   "metadata": {},
   "outputs": [
    {
     "data": {
      "text/plain": [
       "0       False\n",
       "1       False\n",
       "2       False\n",
       "3       False\n",
       "4       False\n",
       "        ...  \n",
       "7038    False\n",
       "7039    False\n",
       "7040    False\n",
       "7041    False\n",
       "7042    False\n",
       "Name: TotalCharges, Length: 7043, dtype: bool"
      ]
     },
     "execution_count": 8,
     "metadata": {},
     "output_type": "execute_result"
    }
   ],
   "source": [
    "pd.to_numeric(df.TotalCharges,errors='coerce').isnull()"
   ]
  },
  {
   "cell_type": "code",
   "execution_count": 9,
   "metadata": {},
   "outputs": [
    {
     "data": {
      "text/html": [
       "<div>\n",
       "<style scoped>\n",
       "    .dataframe tbody tr th:only-of-type {\n",
       "        vertical-align: middle;\n",
       "    }\n",
       "\n",
       "    .dataframe tbody tr th {\n",
       "        vertical-align: top;\n",
       "    }\n",
       "\n",
       "    .dataframe thead th {\n",
       "        text-align: right;\n",
       "    }\n",
       "</style>\n",
       "<table border=\"1\" class=\"dataframe\">\n",
       "  <thead>\n",
       "    <tr style=\"text-align: right;\">\n",
       "      <th></th>\n",
       "      <th>gender</th>\n",
       "      <th>SeniorCitizen</th>\n",
       "      <th>Partner</th>\n",
       "      <th>Dependents</th>\n",
       "      <th>tenure</th>\n",
       "      <th>PhoneService</th>\n",
       "      <th>MultipleLines</th>\n",
       "      <th>InternetService</th>\n",
       "      <th>OnlineSecurity</th>\n",
       "      <th>OnlineBackup</th>\n",
       "      <th>DeviceProtection</th>\n",
       "      <th>TechSupport</th>\n",
       "      <th>StreamingTV</th>\n",
       "      <th>StreamingMovies</th>\n",
       "      <th>Contract</th>\n",
       "      <th>PaperlessBilling</th>\n",
       "      <th>PaymentMethod</th>\n",
       "      <th>MonthlyCharges</th>\n",
       "      <th>TotalCharges</th>\n",
       "      <th>Churn</th>\n",
       "    </tr>\n",
       "  </thead>\n",
       "  <tbody>\n",
       "    <tr>\n",
       "      <th>488</th>\n",
       "      <td>Female</td>\n",
       "      <td>0</td>\n",
       "      <td>Yes</td>\n",
       "      <td>Yes</td>\n",
       "      <td>0</td>\n",
       "      <td>No</td>\n",
       "      <td>No phone service</td>\n",
       "      <td>DSL</td>\n",
       "      <td>Yes</td>\n",
       "      <td>No</td>\n",
       "      <td>Yes</td>\n",
       "      <td>Yes</td>\n",
       "      <td>Yes</td>\n",
       "      <td>No</td>\n",
       "      <td>Two year</td>\n",
       "      <td>Yes</td>\n",
       "      <td>Bank transfer (automatic)</td>\n",
       "      <td>52.55</td>\n",
       "      <td></td>\n",
       "      <td>No</td>\n",
       "    </tr>\n",
       "    <tr>\n",
       "      <th>753</th>\n",
       "      <td>Male</td>\n",
       "      <td>0</td>\n",
       "      <td>No</td>\n",
       "      <td>Yes</td>\n",
       "      <td>0</td>\n",
       "      <td>Yes</td>\n",
       "      <td>No</td>\n",
       "      <td>No</td>\n",
       "      <td>No internet service</td>\n",
       "      <td>No internet service</td>\n",
       "      <td>No internet service</td>\n",
       "      <td>No internet service</td>\n",
       "      <td>No internet service</td>\n",
       "      <td>No internet service</td>\n",
       "      <td>Two year</td>\n",
       "      <td>No</td>\n",
       "      <td>Mailed check</td>\n",
       "      <td>20.25</td>\n",
       "      <td></td>\n",
       "      <td>No</td>\n",
       "    </tr>\n",
       "    <tr>\n",
       "      <th>936</th>\n",
       "      <td>Female</td>\n",
       "      <td>0</td>\n",
       "      <td>Yes</td>\n",
       "      <td>Yes</td>\n",
       "      <td>0</td>\n",
       "      <td>Yes</td>\n",
       "      <td>No</td>\n",
       "      <td>DSL</td>\n",
       "      <td>Yes</td>\n",
       "      <td>Yes</td>\n",
       "      <td>Yes</td>\n",
       "      <td>No</td>\n",
       "      <td>Yes</td>\n",
       "      <td>Yes</td>\n",
       "      <td>Two year</td>\n",
       "      <td>No</td>\n",
       "      <td>Mailed check</td>\n",
       "      <td>80.85</td>\n",
       "      <td></td>\n",
       "      <td>No</td>\n",
       "    </tr>\n",
       "    <tr>\n",
       "      <th>1082</th>\n",
       "      <td>Male</td>\n",
       "      <td>0</td>\n",
       "      <td>Yes</td>\n",
       "      <td>Yes</td>\n",
       "      <td>0</td>\n",
       "      <td>Yes</td>\n",
       "      <td>Yes</td>\n",
       "      <td>No</td>\n",
       "      <td>No internet service</td>\n",
       "      <td>No internet service</td>\n",
       "      <td>No internet service</td>\n",
       "      <td>No internet service</td>\n",
       "      <td>No internet service</td>\n",
       "      <td>No internet service</td>\n",
       "      <td>Two year</td>\n",
       "      <td>No</td>\n",
       "      <td>Mailed check</td>\n",
       "      <td>25.75</td>\n",
       "      <td></td>\n",
       "      <td>No</td>\n",
       "    </tr>\n",
       "    <tr>\n",
       "      <th>1340</th>\n",
       "      <td>Female</td>\n",
       "      <td>0</td>\n",
       "      <td>Yes</td>\n",
       "      <td>Yes</td>\n",
       "      <td>0</td>\n",
       "      <td>No</td>\n",
       "      <td>No phone service</td>\n",
       "      <td>DSL</td>\n",
       "      <td>Yes</td>\n",
       "      <td>Yes</td>\n",
       "      <td>Yes</td>\n",
       "      <td>Yes</td>\n",
       "      <td>Yes</td>\n",
       "      <td>No</td>\n",
       "      <td>Two year</td>\n",
       "      <td>No</td>\n",
       "      <td>Credit card (automatic)</td>\n",
       "      <td>56.05</td>\n",
       "      <td></td>\n",
       "      <td>No</td>\n",
       "    </tr>\n",
       "    <tr>\n",
       "      <th>3331</th>\n",
       "      <td>Male</td>\n",
       "      <td>0</td>\n",
       "      <td>Yes</td>\n",
       "      <td>Yes</td>\n",
       "      <td>0</td>\n",
       "      <td>Yes</td>\n",
       "      <td>No</td>\n",
       "      <td>No</td>\n",
       "      <td>No internet service</td>\n",
       "      <td>No internet service</td>\n",
       "      <td>No internet service</td>\n",
       "      <td>No internet service</td>\n",
       "      <td>No internet service</td>\n",
       "      <td>No internet service</td>\n",
       "      <td>Two year</td>\n",
       "      <td>No</td>\n",
       "      <td>Mailed check</td>\n",
       "      <td>19.85</td>\n",
       "      <td></td>\n",
       "      <td>No</td>\n",
       "    </tr>\n",
       "    <tr>\n",
       "      <th>3826</th>\n",
       "      <td>Male</td>\n",
       "      <td>0</td>\n",
       "      <td>Yes</td>\n",
       "      <td>Yes</td>\n",
       "      <td>0</td>\n",
       "      <td>Yes</td>\n",
       "      <td>Yes</td>\n",
       "      <td>No</td>\n",
       "      <td>No internet service</td>\n",
       "      <td>No internet service</td>\n",
       "      <td>No internet service</td>\n",
       "      <td>No internet service</td>\n",
       "      <td>No internet service</td>\n",
       "      <td>No internet service</td>\n",
       "      <td>Two year</td>\n",
       "      <td>No</td>\n",
       "      <td>Mailed check</td>\n",
       "      <td>25.35</td>\n",
       "      <td></td>\n",
       "      <td>No</td>\n",
       "    </tr>\n",
       "    <tr>\n",
       "      <th>4380</th>\n",
       "      <td>Female</td>\n",
       "      <td>0</td>\n",
       "      <td>Yes</td>\n",
       "      <td>Yes</td>\n",
       "      <td>0</td>\n",
       "      <td>Yes</td>\n",
       "      <td>No</td>\n",
       "      <td>No</td>\n",
       "      <td>No internet service</td>\n",
       "      <td>No internet service</td>\n",
       "      <td>No internet service</td>\n",
       "      <td>No internet service</td>\n",
       "      <td>No internet service</td>\n",
       "      <td>No internet service</td>\n",
       "      <td>Two year</td>\n",
       "      <td>No</td>\n",
       "      <td>Mailed check</td>\n",
       "      <td>20.00</td>\n",
       "      <td></td>\n",
       "      <td>No</td>\n",
       "    </tr>\n",
       "    <tr>\n",
       "      <th>5218</th>\n",
       "      <td>Male</td>\n",
       "      <td>0</td>\n",
       "      <td>Yes</td>\n",
       "      <td>Yes</td>\n",
       "      <td>0</td>\n",
       "      <td>Yes</td>\n",
       "      <td>No</td>\n",
       "      <td>No</td>\n",
       "      <td>No internet service</td>\n",
       "      <td>No internet service</td>\n",
       "      <td>No internet service</td>\n",
       "      <td>No internet service</td>\n",
       "      <td>No internet service</td>\n",
       "      <td>No internet service</td>\n",
       "      <td>One year</td>\n",
       "      <td>Yes</td>\n",
       "      <td>Mailed check</td>\n",
       "      <td>19.70</td>\n",
       "      <td></td>\n",
       "      <td>No</td>\n",
       "    </tr>\n",
       "    <tr>\n",
       "      <th>6670</th>\n",
       "      <td>Female</td>\n",
       "      <td>0</td>\n",
       "      <td>Yes</td>\n",
       "      <td>Yes</td>\n",
       "      <td>0</td>\n",
       "      <td>Yes</td>\n",
       "      <td>Yes</td>\n",
       "      <td>DSL</td>\n",
       "      <td>No</td>\n",
       "      <td>Yes</td>\n",
       "      <td>Yes</td>\n",
       "      <td>Yes</td>\n",
       "      <td>Yes</td>\n",
       "      <td>No</td>\n",
       "      <td>Two year</td>\n",
       "      <td>No</td>\n",
       "      <td>Mailed check</td>\n",
       "      <td>73.35</td>\n",
       "      <td></td>\n",
       "      <td>No</td>\n",
       "    </tr>\n",
       "    <tr>\n",
       "      <th>6754</th>\n",
       "      <td>Male</td>\n",
       "      <td>0</td>\n",
       "      <td>No</td>\n",
       "      <td>Yes</td>\n",
       "      <td>0</td>\n",
       "      <td>Yes</td>\n",
       "      <td>Yes</td>\n",
       "      <td>DSL</td>\n",
       "      <td>Yes</td>\n",
       "      <td>Yes</td>\n",
       "      <td>No</td>\n",
       "      <td>Yes</td>\n",
       "      <td>No</td>\n",
       "      <td>No</td>\n",
       "      <td>Two year</td>\n",
       "      <td>Yes</td>\n",
       "      <td>Bank transfer (automatic)</td>\n",
       "      <td>61.90</td>\n",
       "      <td></td>\n",
       "      <td>No</td>\n",
       "    </tr>\n",
       "  </tbody>\n",
       "</table>\n",
       "</div>"
      ],
      "text/plain": [
       "      gender  SeniorCitizen Partner Dependents  tenure PhoneService  \\\n",
       "488   Female              0     Yes        Yes       0           No   \n",
       "753     Male              0      No        Yes       0          Yes   \n",
       "936   Female              0     Yes        Yes       0          Yes   \n",
       "1082    Male              0     Yes        Yes       0          Yes   \n",
       "1340  Female              0     Yes        Yes       0           No   \n",
       "3331    Male              0     Yes        Yes       0          Yes   \n",
       "3826    Male              0     Yes        Yes       0          Yes   \n",
       "4380  Female              0     Yes        Yes       0          Yes   \n",
       "5218    Male              0     Yes        Yes       0          Yes   \n",
       "6670  Female              0     Yes        Yes       0          Yes   \n",
       "6754    Male              0      No        Yes       0          Yes   \n",
       "\n",
       "         MultipleLines InternetService       OnlineSecurity  \\\n",
       "488   No phone service             DSL                  Yes   \n",
       "753                 No              No  No internet service   \n",
       "936                 No             DSL                  Yes   \n",
       "1082               Yes              No  No internet service   \n",
       "1340  No phone service             DSL                  Yes   \n",
       "3331                No              No  No internet service   \n",
       "3826               Yes              No  No internet service   \n",
       "4380                No              No  No internet service   \n",
       "5218                No              No  No internet service   \n",
       "6670               Yes             DSL                   No   \n",
       "6754               Yes             DSL                  Yes   \n",
       "\n",
       "             OnlineBackup     DeviceProtection          TechSupport  \\\n",
       "488                    No                  Yes                  Yes   \n",
       "753   No internet service  No internet service  No internet service   \n",
       "936                   Yes                  Yes                   No   \n",
       "1082  No internet service  No internet service  No internet service   \n",
       "1340                  Yes                  Yes                  Yes   \n",
       "3331  No internet service  No internet service  No internet service   \n",
       "3826  No internet service  No internet service  No internet service   \n",
       "4380  No internet service  No internet service  No internet service   \n",
       "5218  No internet service  No internet service  No internet service   \n",
       "6670                  Yes                  Yes                  Yes   \n",
       "6754                  Yes                   No                  Yes   \n",
       "\n",
       "              StreamingTV      StreamingMovies  Contract PaperlessBilling  \\\n",
       "488                   Yes                   No  Two year              Yes   \n",
       "753   No internet service  No internet service  Two year               No   \n",
       "936                   Yes                  Yes  Two year               No   \n",
       "1082  No internet service  No internet service  Two year               No   \n",
       "1340                  Yes                   No  Two year               No   \n",
       "3331  No internet service  No internet service  Two year               No   \n",
       "3826  No internet service  No internet service  Two year               No   \n",
       "4380  No internet service  No internet service  Two year               No   \n",
       "5218  No internet service  No internet service  One year              Yes   \n",
       "6670                  Yes                   No  Two year               No   \n",
       "6754                   No                   No  Two year              Yes   \n",
       "\n",
       "                  PaymentMethod  MonthlyCharges TotalCharges Churn  \n",
       "488   Bank transfer (automatic)           52.55                 No  \n",
       "753                Mailed check           20.25                 No  \n",
       "936                Mailed check           80.85                 No  \n",
       "1082               Mailed check           25.75                 No  \n",
       "1340    Credit card (automatic)           56.05                 No  \n",
       "3331               Mailed check           19.85                 No  \n",
       "3826               Mailed check           25.35                 No  \n",
       "4380               Mailed check           20.00                 No  \n",
       "5218               Mailed check           19.70                 No  \n",
       "6670               Mailed check           73.35                 No  \n",
       "6754  Bank transfer (automatic)           61.90                 No  "
      ]
     },
     "execution_count": 9,
     "metadata": {},
     "output_type": "execute_result"
    }
   ],
   "source": [
    "df[pd.to_numeric(df.TotalCharges,errors='coerce').isnull()]"
   ]
  },
  {
   "cell_type": "code",
   "execution_count": 10,
   "metadata": {},
   "outputs": [
    {
     "data": {
      "text/plain": [
       "(7043, 20)"
      ]
     },
     "execution_count": 10,
     "metadata": {},
     "output_type": "execute_result"
    }
   ],
   "source": [
    "df.shape"
   ]
  },
  {
   "cell_type": "code",
   "execution_count": 11,
   "metadata": {},
   "outputs": [
    {
     "data": {
      "text/plain": [
       "' '"
      ]
     },
     "execution_count": 11,
     "metadata": {},
     "output_type": "execute_result"
    }
   ],
   "source": [
    "df.iloc[488].TotalCharges"
   ]
  },
  {
   "cell_type": "code",
   "execution_count": 12,
   "metadata": {},
   "outputs": [
    {
     "data": {
      "text/plain": [
       "(7032, 20)"
      ]
     },
     "execution_count": 12,
     "metadata": {},
     "output_type": "execute_result"
    }
   ],
   "source": [
    "df[df.TotalCharges!=' '].shape"
   ]
  },
  {
   "cell_type": "markdown",
   "metadata": {},
   "source": [
    "**Remove rows with space in TotalCharges**"
   ]
  },
  {
   "cell_type": "code",
   "execution_count": 13,
   "metadata": {},
   "outputs": [
    {
     "data": {
      "text/plain": [
       "(7032, 20)"
      ]
     },
     "execution_count": 13,
     "metadata": {},
     "output_type": "execute_result"
    }
   ],
   "source": [
    "df1 = df[df.TotalCharges!=' ']\n",
    "df1.shape"
   ]
  },
  {
   "cell_type": "code",
   "execution_count": 14,
   "metadata": {
    "scrolled": true
   },
   "outputs": [
    {
     "data": {
      "text/plain": [
       "gender               object\n",
       "SeniorCitizen         int64\n",
       "Partner              object\n",
       "Dependents           object\n",
       "tenure                int64\n",
       "PhoneService         object\n",
       "MultipleLines        object\n",
       "InternetService      object\n",
       "OnlineSecurity       object\n",
       "OnlineBackup         object\n",
       "DeviceProtection     object\n",
       "TechSupport          object\n",
       "StreamingTV          object\n",
       "StreamingMovies      object\n",
       "Contract             object\n",
       "PaperlessBilling     object\n",
       "PaymentMethod        object\n",
       "MonthlyCharges      float64\n",
       "TotalCharges         object\n",
       "Churn                object\n",
       "dtype: object"
      ]
     },
     "execution_count": 14,
     "metadata": {},
     "output_type": "execute_result"
    }
   ],
   "source": [
    "df1.dtypes"
   ]
  },
  {
   "cell_type": "code",
   "execution_count": 15,
   "metadata": {},
   "outputs": [],
   "source": [
    "df1.TotalCharges = pd.to_numeric(df1.TotalCharges)"
   ]
  },
  {
   "cell_type": "code",
   "execution_count": 16,
   "metadata": {},
   "outputs": [
    {
     "data": {
      "text/plain": [
       "array([  29.85, 1889.5 ,  108.15, ...,  346.45,  306.6 , 6844.5 ])"
      ]
     },
     "execution_count": 16,
     "metadata": {},
     "output_type": "execute_result"
    }
   ],
   "source": [
    "df1.TotalCharges.values"
   ]
  },
  {
   "cell_type": "code",
   "execution_count": 17,
   "metadata": {
    "scrolled": true
   },
   "outputs": [
    {
     "data": {
      "text/html": [
       "<div>\n",
       "<style scoped>\n",
       "    .dataframe tbody tr th:only-of-type {\n",
       "        vertical-align: middle;\n",
       "    }\n",
       "\n",
       "    .dataframe tbody tr th {\n",
       "        vertical-align: top;\n",
       "    }\n",
       "\n",
       "    .dataframe thead th {\n",
       "        text-align: right;\n",
       "    }\n",
       "</style>\n",
       "<table border=\"1\" class=\"dataframe\">\n",
       "  <thead>\n",
       "    <tr style=\"text-align: right;\">\n",
       "      <th></th>\n",
       "      <th>gender</th>\n",
       "      <th>SeniorCitizen</th>\n",
       "      <th>Partner</th>\n",
       "      <th>Dependents</th>\n",
       "      <th>tenure</th>\n",
       "      <th>PhoneService</th>\n",
       "      <th>MultipleLines</th>\n",
       "      <th>InternetService</th>\n",
       "      <th>OnlineSecurity</th>\n",
       "      <th>OnlineBackup</th>\n",
       "      <th>DeviceProtection</th>\n",
       "      <th>TechSupport</th>\n",
       "      <th>StreamingTV</th>\n",
       "      <th>StreamingMovies</th>\n",
       "      <th>Contract</th>\n",
       "      <th>PaperlessBilling</th>\n",
       "      <th>PaymentMethod</th>\n",
       "      <th>MonthlyCharges</th>\n",
       "      <th>TotalCharges</th>\n",
       "      <th>Churn</th>\n",
       "    </tr>\n",
       "  </thead>\n",
       "  <tbody>\n",
       "    <tr>\n",
       "      <th>0</th>\n",
       "      <td>Female</td>\n",
       "      <td>0</td>\n",
       "      <td>Yes</td>\n",
       "      <td>No</td>\n",
       "      <td>1</td>\n",
       "      <td>No</td>\n",
       "      <td>No phone service</td>\n",
       "      <td>DSL</td>\n",
       "      <td>No</td>\n",
       "      <td>Yes</td>\n",
       "      <td>No</td>\n",
       "      <td>No</td>\n",
       "      <td>No</td>\n",
       "      <td>No</td>\n",
       "      <td>Month-to-month</td>\n",
       "      <td>Yes</td>\n",
       "      <td>Electronic check</td>\n",
       "      <td>29.85</td>\n",
       "      <td>29.85</td>\n",
       "      <td>No</td>\n",
       "    </tr>\n",
       "    <tr>\n",
       "      <th>1</th>\n",
       "      <td>Male</td>\n",
       "      <td>0</td>\n",
       "      <td>No</td>\n",
       "      <td>No</td>\n",
       "      <td>34</td>\n",
       "      <td>Yes</td>\n",
       "      <td>No</td>\n",
       "      <td>DSL</td>\n",
       "      <td>Yes</td>\n",
       "      <td>No</td>\n",
       "      <td>Yes</td>\n",
       "      <td>No</td>\n",
       "      <td>No</td>\n",
       "      <td>No</td>\n",
       "      <td>One year</td>\n",
       "      <td>No</td>\n",
       "      <td>Mailed check</td>\n",
       "      <td>56.95</td>\n",
       "      <td>1889.50</td>\n",
       "      <td>No</td>\n",
       "    </tr>\n",
       "    <tr>\n",
       "      <th>3</th>\n",
       "      <td>Male</td>\n",
       "      <td>0</td>\n",
       "      <td>No</td>\n",
       "      <td>No</td>\n",
       "      <td>45</td>\n",
       "      <td>No</td>\n",
       "      <td>No phone service</td>\n",
       "      <td>DSL</td>\n",
       "      <td>Yes</td>\n",
       "      <td>No</td>\n",
       "      <td>Yes</td>\n",
       "      <td>Yes</td>\n",
       "      <td>No</td>\n",
       "      <td>No</td>\n",
       "      <td>One year</td>\n",
       "      <td>No</td>\n",
       "      <td>Bank transfer (automatic)</td>\n",
       "      <td>42.30</td>\n",
       "      <td>1840.75</td>\n",
       "      <td>No</td>\n",
       "    </tr>\n",
       "    <tr>\n",
       "      <th>6</th>\n",
       "      <td>Male</td>\n",
       "      <td>0</td>\n",
       "      <td>No</td>\n",
       "      <td>Yes</td>\n",
       "      <td>22</td>\n",
       "      <td>Yes</td>\n",
       "      <td>Yes</td>\n",
       "      <td>Fiber optic</td>\n",
       "      <td>No</td>\n",
       "      <td>Yes</td>\n",
       "      <td>No</td>\n",
       "      <td>No</td>\n",
       "      <td>Yes</td>\n",
       "      <td>No</td>\n",
       "      <td>Month-to-month</td>\n",
       "      <td>Yes</td>\n",
       "      <td>Credit card (automatic)</td>\n",
       "      <td>89.10</td>\n",
       "      <td>1949.40</td>\n",
       "      <td>No</td>\n",
       "    </tr>\n",
       "    <tr>\n",
       "      <th>7</th>\n",
       "      <td>Female</td>\n",
       "      <td>0</td>\n",
       "      <td>No</td>\n",
       "      <td>No</td>\n",
       "      <td>10</td>\n",
       "      <td>No</td>\n",
       "      <td>No phone service</td>\n",
       "      <td>DSL</td>\n",
       "      <td>Yes</td>\n",
       "      <td>No</td>\n",
       "      <td>No</td>\n",
       "      <td>No</td>\n",
       "      <td>No</td>\n",
       "      <td>No</td>\n",
       "      <td>Month-to-month</td>\n",
       "      <td>No</td>\n",
       "      <td>Mailed check</td>\n",
       "      <td>29.75</td>\n",
       "      <td>301.90</td>\n",
       "      <td>No</td>\n",
       "    </tr>\n",
       "    <tr>\n",
       "      <th>...</th>\n",
       "      <td>...</td>\n",
       "      <td>...</td>\n",
       "      <td>...</td>\n",
       "      <td>...</td>\n",
       "      <td>...</td>\n",
       "      <td>...</td>\n",
       "      <td>...</td>\n",
       "      <td>...</td>\n",
       "      <td>...</td>\n",
       "      <td>...</td>\n",
       "      <td>...</td>\n",
       "      <td>...</td>\n",
       "      <td>...</td>\n",
       "      <td>...</td>\n",
       "      <td>...</td>\n",
       "      <td>...</td>\n",
       "      <td>...</td>\n",
       "      <td>...</td>\n",
       "      <td>...</td>\n",
       "      <td>...</td>\n",
       "    </tr>\n",
       "    <tr>\n",
       "      <th>7037</th>\n",
       "      <td>Female</td>\n",
       "      <td>0</td>\n",
       "      <td>No</td>\n",
       "      <td>No</td>\n",
       "      <td>72</td>\n",
       "      <td>Yes</td>\n",
       "      <td>No</td>\n",
       "      <td>No</td>\n",
       "      <td>No internet service</td>\n",
       "      <td>No internet service</td>\n",
       "      <td>No internet service</td>\n",
       "      <td>No internet service</td>\n",
       "      <td>No internet service</td>\n",
       "      <td>No internet service</td>\n",
       "      <td>Two year</td>\n",
       "      <td>Yes</td>\n",
       "      <td>Bank transfer (automatic)</td>\n",
       "      <td>21.15</td>\n",
       "      <td>1419.40</td>\n",
       "      <td>No</td>\n",
       "    </tr>\n",
       "    <tr>\n",
       "      <th>7038</th>\n",
       "      <td>Male</td>\n",
       "      <td>0</td>\n",
       "      <td>Yes</td>\n",
       "      <td>Yes</td>\n",
       "      <td>24</td>\n",
       "      <td>Yes</td>\n",
       "      <td>Yes</td>\n",
       "      <td>DSL</td>\n",
       "      <td>Yes</td>\n",
       "      <td>No</td>\n",
       "      <td>Yes</td>\n",
       "      <td>Yes</td>\n",
       "      <td>Yes</td>\n",
       "      <td>Yes</td>\n",
       "      <td>One year</td>\n",
       "      <td>Yes</td>\n",
       "      <td>Mailed check</td>\n",
       "      <td>84.80</td>\n",
       "      <td>1990.50</td>\n",
       "      <td>No</td>\n",
       "    </tr>\n",
       "    <tr>\n",
       "      <th>7039</th>\n",
       "      <td>Female</td>\n",
       "      <td>0</td>\n",
       "      <td>Yes</td>\n",
       "      <td>Yes</td>\n",
       "      <td>72</td>\n",
       "      <td>Yes</td>\n",
       "      <td>Yes</td>\n",
       "      <td>Fiber optic</td>\n",
       "      <td>No</td>\n",
       "      <td>Yes</td>\n",
       "      <td>Yes</td>\n",
       "      <td>No</td>\n",
       "      <td>Yes</td>\n",
       "      <td>Yes</td>\n",
       "      <td>One year</td>\n",
       "      <td>Yes</td>\n",
       "      <td>Credit card (automatic)</td>\n",
       "      <td>103.20</td>\n",
       "      <td>7362.90</td>\n",
       "      <td>No</td>\n",
       "    </tr>\n",
       "    <tr>\n",
       "      <th>7040</th>\n",
       "      <td>Female</td>\n",
       "      <td>0</td>\n",
       "      <td>Yes</td>\n",
       "      <td>Yes</td>\n",
       "      <td>11</td>\n",
       "      <td>No</td>\n",
       "      <td>No phone service</td>\n",
       "      <td>DSL</td>\n",
       "      <td>Yes</td>\n",
       "      <td>No</td>\n",
       "      <td>No</td>\n",
       "      <td>No</td>\n",
       "      <td>No</td>\n",
       "      <td>No</td>\n",
       "      <td>Month-to-month</td>\n",
       "      <td>Yes</td>\n",
       "      <td>Electronic check</td>\n",
       "      <td>29.60</td>\n",
       "      <td>346.45</td>\n",
       "      <td>No</td>\n",
       "    </tr>\n",
       "    <tr>\n",
       "      <th>7042</th>\n",
       "      <td>Male</td>\n",
       "      <td>0</td>\n",
       "      <td>No</td>\n",
       "      <td>No</td>\n",
       "      <td>66</td>\n",
       "      <td>Yes</td>\n",
       "      <td>No</td>\n",
       "      <td>Fiber optic</td>\n",
       "      <td>Yes</td>\n",
       "      <td>No</td>\n",
       "      <td>Yes</td>\n",
       "      <td>Yes</td>\n",
       "      <td>Yes</td>\n",
       "      <td>Yes</td>\n",
       "      <td>Two year</td>\n",
       "      <td>Yes</td>\n",
       "      <td>Bank transfer (automatic)</td>\n",
       "      <td>105.65</td>\n",
       "      <td>6844.50</td>\n",
       "      <td>No</td>\n",
       "    </tr>\n",
       "  </tbody>\n",
       "</table>\n",
       "<p>5163 rows × 20 columns</p>\n",
       "</div>"
      ],
      "text/plain": [
       "      gender  SeniorCitizen Partner Dependents  tenure PhoneService  \\\n",
       "0     Female              0     Yes         No       1           No   \n",
       "1       Male              0      No         No      34          Yes   \n",
       "3       Male              0      No         No      45           No   \n",
       "6       Male              0      No        Yes      22          Yes   \n",
       "7     Female              0      No         No      10           No   \n",
       "...      ...            ...     ...        ...     ...          ...   \n",
       "7037  Female              0      No         No      72          Yes   \n",
       "7038    Male              0     Yes        Yes      24          Yes   \n",
       "7039  Female              0     Yes        Yes      72          Yes   \n",
       "7040  Female              0     Yes        Yes      11           No   \n",
       "7042    Male              0      No         No      66          Yes   \n",
       "\n",
       "         MultipleLines InternetService       OnlineSecurity  \\\n",
       "0     No phone service             DSL                   No   \n",
       "1                   No             DSL                  Yes   \n",
       "3     No phone service             DSL                  Yes   \n",
       "6                  Yes     Fiber optic                   No   \n",
       "7     No phone service             DSL                  Yes   \n",
       "...                ...             ...                  ...   \n",
       "7037                No              No  No internet service   \n",
       "7038               Yes             DSL                  Yes   \n",
       "7039               Yes     Fiber optic                   No   \n",
       "7040  No phone service             DSL                  Yes   \n",
       "7042                No     Fiber optic                  Yes   \n",
       "\n",
       "             OnlineBackup     DeviceProtection          TechSupport  \\\n",
       "0                     Yes                   No                   No   \n",
       "1                      No                  Yes                   No   \n",
       "3                      No                  Yes                  Yes   \n",
       "6                     Yes                   No                   No   \n",
       "7                      No                   No                   No   \n",
       "...                   ...                  ...                  ...   \n",
       "7037  No internet service  No internet service  No internet service   \n",
       "7038                   No                  Yes                  Yes   \n",
       "7039                  Yes                  Yes                   No   \n",
       "7040                   No                   No                   No   \n",
       "7042                   No                  Yes                  Yes   \n",
       "\n",
       "              StreamingTV      StreamingMovies        Contract  \\\n",
       "0                      No                   No  Month-to-month   \n",
       "1                      No                   No        One year   \n",
       "3                      No                   No        One year   \n",
       "6                     Yes                   No  Month-to-month   \n",
       "7                      No                   No  Month-to-month   \n",
       "...                   ...                  ...             ...   \n",
       "7037  No internet service  No internet service        Two year   \n",
       "7038                  Yes                  Yes        One year   \n",
       "7039                  Yes                  Yes        One year   \n",
       "7040                   No                   No  Month-to-month   \n",
       "7042                  Yes                  Yes        Two year   \n",
       "\n",
       "     PaperlessBilling              PaymentMethod  MonthlyCharges  \\\n",
       "0                 Yes           Electronic check           29.85   \n",
       "1                  No               Mailed check           56.95   \n",
       "3                  No  Bank transfer (automatic)           42.30   \n",
       "6                 Yes    Credit card (automatic)           89.10   \n",
       "7                  No               Mailed check           29.75   \n",
       "...               ...                        ...             ...   \n",
       "7037              Yes  Bank transfer (automatic)           21.15   \n",
       "7038              Yes               Mailed check           84.80   \n",
       "7039              Yes    Credit card (automatic)          103.20   \n",
       "7040              Yes           Electronic check           29.60   \n",
       "7042              Yes  Bank transfer (automatic)          105.65   \n",
       "\n",
       "      TotalCharges Churn  \n",
       "0            29.85    No  \n",
       "1          1889.50    No  \n",
       "3          1840.75    No  \n",
       "6          1949.40    No  \n",
       "7           301.90    No  \n",
       "...            ...   ...  \n",
       "7037       1419.40    No  \n",
       "7038       1990.50    No  \n",
       "7039       7362.90    No  \n",
       "7040        346.45    No  \n",
       "7042       6844.50    No  \n",
       "\n",
       "[5163 rows x 20 columns]"
      ]
     },
     "execution_count": 17,
     "metadata": {},
     "output_type": "execute_result"
    }
   ],
   "source": [
    "df1[df1.Churn=='No']"
   ]
  },
  {
   "cell_type": "markdown",
   "metadata": {},
   "source": [
    "**Data Visualization**"
   ]
  },
  {
   "cell_type": "code",
   "execution_count": 18,
   "metadata": {},
   "outputs": [
    {
     "data": {
      "text/plain": [
       "<matplotlib.legend.Legend at 0x135779b9668>"
      ]
     },
     "execution_count": 18,
     "metadata": {},
     "output_type": "execute_result"
    },
    {
     "data": {
      "image/png": "[encoded data removed]",
      "text/plain": [
       "<Figure size 432x288 with 1 Axes>"
      ]
     },
     "metadata": {
      "needs_background": "light"
     },
     "output_type": "display_data"
    }
   ],
   "source": [
    "tenure_churn_no = df1[df1.Churn=='No'].tenure\n",
    "tenure_churn_yes = df1[df1.Churn=='Yes'].tenure\n",
    "\n",
    "plt.xlabel(\"tenure\")\n",
    "plt.ylabel(\"Number Of Customers\")\n",
    "plt.title(\"Customer Churn Prediction Visualiztion\")\n",
    "\n",
    "\n",
    "\n",
    "plt.hist([tenure_churn_yes, tenure_churn_no], rwidth=0.95, color=['green','red'],label=['Churn=Yes','Churn=No'])\n",
    "plt.legend()"
   ]
  },
  {
   "cell_type": "code",
   "execution_count": 19,
   "metadata": {},
   "outputs": [
    {
     "data": {
      "text/plain": [
       "<matplotlib.legend.Legend at 0x13577e00b38>"
      ]
     },
     "execution_count": 19,
     "metadata": {},
     "output_type": "execute_result"
    },
    {
     "data": {
      "image/png": "[encoded data removed]",
      "text/plain": [
       "<Figure size 432x288 with 1 Axes>"
      ]
     },
     "metadata": {
      "needs_background": "light"
     },
     "output_type": "display_data"
    }
   ],
   "source": [
    "mc_churn_no = df1[df1.Churn=='No'].MonthlyCharges      \n",
    "mc_churn_yes = df1[df1.Churn=='Yes'].MonthlyCharges      \n",
    "\n",
    "plt.xlabel(\"Monthly Charges\")\n",
    "plt.ylabel(\"Number Of Customers\")\n",
    "plt.title(\"Customer Churn Prediction Visualiztion\")\n",
    "\n",
    "\n",
    "plt.hist([mc_churn_yes, mc_churn_no], rwidth=0.95, color=['green','red'],label=['Churn=Yes','Churn=No'])\n",
    "plt.legend()"
   ]
  },
  {
   "cell_type": "markdown",
   "metadata": {},
   "source": [
    "**Many of the columns are yes, no etc. Let's print unique values in object columns to see data values**"
   ]
  },
  {
   "cell_type": "code",
   "execution_count": 20,
   "metadata": {},
   "outputs": [],
   "source": [
    "def print_unique_col_values(df):\n",
    "       for column in df:\n",
    "            if df[column].dtypes=='object':\n",
    "                print(f'{column}: {df[column].unique()}') "
   ]
  },
  {
   "cell_type": "code",
   "execution_count": 21,
   "metadata": {
    "scrolled": true
   },
   "outputs": [
    {
     "name": "stdout",
     "output_type": "stream",
     "text": [
      "gender: ['Female' 'Male']\n",
      "Partner: ['Yes' 'No']\n",
      "Dependents: ['No' 'Yes']\n",
      "PhoneService: ['No' 'Yes']\n",
      "MultipleLines: ['No phone service' 'No' 'Yes']\n",
      "InternetService: ['DSL' 'Fiber optic' 'No']\n",
      "OnlineSecurity: ['No' 'Yes' 'No internet service']\n",
      "OnlineBackup: ['Yes' 'No' 'No internet service']\n",
      "DeviceProtection: ['No' 'Yes' 'No internet service']\n",
      "TechSupport: ['No' 'Yes' 'No internet service']\n",
      "StreamingTV: ['No' 'Yes' 'No internet service']\n",
      "StreamingMovies: ['No' 'Yes' 'No internet service']\n",
      "Contract: ['Month-to-month' 'One year' 'Two year']\n",
      "PaperlessBilling: ['Yes' 'No']\n",
      "PaymentMethod: ['Electronic check' 'Mailed check' 'Bank transfer (automatic)'\n",
      " 'Credit card (automatic)']\n",
      "Churn: ['No' 'Yes']\n"
     ]
    }
   ],
   "source": [
    "print_unique_col_values(df1)"
   ]
  },
  {
   "cell_type": "markdown",
   "metadata": {},
   "source": [
    "**Some of the columns have no internet service or no phone service, that can be replaced with a simple No**"
   ]
  },
  {
   "cell_type": "code",
   "execution_count": 22,
   "metadata": {
    "scrolled": false
   },
   "outputs": [],
   "source": [
    "df1.replace('No internet service','No',inplace=True)\n",
    "df1.replace('No phone service','No',inplace=True)"
   ]
  },
  {
   "cell_type": "code",
   "execution_count": 23,
   "metadata": {
    "scrolled": false
   },
   "outputs": [
    {
     "name": "stdout",
     "output_type": "stream",
     "text": [
      "gender: ['Female' 'Male']\n",
      "Partner: ['Yes' 'No']\n",
      "Dependents: ['No' 'Yes']\n",
      "PhoneService: ['No' 'Yes']\n",
      "MultipleLines: ['No' 'Yes']\n",
      "InternetService: ['DSL' 'Fiber optic' 'No']\n",
      "OnlineSecurity: ['No' 'Yes']\n",
      "OnlineBackup: ['Yes' 'No']\n",
      "DeviceProtection: ['No' 'Yes']\n",
      "TechSupport: ['No' 'Yes']\n",
      "StreamingTV: ['No' 'Yes']\n",
      "StreamingMovies: ['No' 'Yes']\n",
      "Contract: ['Month-to-month' 'One year' 'Two year']\n",
      "PaperlessBilling: ['Yes' 'No']\n",
      "PaymentMethod: ['Electronic check' 'Mailed check' 'Bank transfer (automatic)'\n",
      " 'Credit card (automatic)']\n",
      "Churn: ['No' 'Yes']\n"
     ]
    }
   ],
   "source": [
    "print_unique_col_values(df1)"
   ]
  },
  {
   "cell_type": "markdown",
   "metadata": {},
   "source": [
    "**Convert Yes and No to 1 or 0**"
   ]
  },
  {
   "cell_type": "code",
   "execution_count": 24,
   "metadata": {},
   "outputs": [],
   "source": [
    "yes_no_columns = ['Partner','Dependents','PhoneService','MultipleLines','OnlineSecurity','OnlineBackup',\n",
    "                  'DeviceProtection','TechSupport','StreamingTV','StreamingMovies','PaperlessBilling','Churn']\n",
    "for col in yes_no_columns:\n",
    "    df1[col].replace({'Yes': 1,'No': 0},inplace=True)"
   ]
  },
  {
   "cell_type": "code",
   "execution_count": 25,
   "metadata": {},
   "outputs": [
    {
     "name": "stdout",
     "output_type": "stream",
     "text": [
      "gender: ['Female' 'Male']\n",
      "SeniorCitizen: [0 1]\n",
      "Partner: [1 0]\n",
      "Dependents: [0 1]\n",
      "tenure: [ 1 34  2 45  8 22 10 28 62 13 16 58 49 25 69 52 71 21 12 30 47 72 17 27\n",
      "  5 46 11 70 63 43 15 60 18 66  9  3 31 50 64 56  7 42 35 48 29 65 38 68\n",
      " 32 55 37 36 41  6  4 33 67 23 57 61 14 20 53 40 59 24 44 19 54 51 26 39]\n",
      "PhoneService: [0 1]\n",
      "MultipleLines: [0 1]\n",
      "InternetService: ['DSL' 'Fiber optic' 'No']\n",
      "OnlineSecurity: [0 1]\n",
      "OnlineBackup: [1 0]\n",
      "DeviceProtection: [0 1]\n",
      "TechSupport: [0 1]\n",
      "StreamingTV: [0 1]\n",
      "StreamingMovies: [0 1]\n",
      "Contract: ['Month-to-month' 'One year' 'Two year']\n",
      "PaperlessBilling: [1 0]\n",
      "PaymentMethod: ['Electronic check' 'Mailed check' 'Bank transfer (automatic)'\n",
      " 'Credit card (automatic)']\n",
      "MonthlyCharges: [29.85 56.95 53.85 ... 63.1  44.2  78.7 ]\n",
      "TotalCharges: [  29.85 1889.5   108.15 ...  346.45  306.6  6844.5 ]\n",
      "Churn: [0 1]\n"
     ]
    }
   ],
   "source": [
    "for col in df1:\n",
    "    print(f'{col}: {df1[col].unique()}') "
   ]
  },
  {
   "cell_type": "code",
   "execution_count": 26,
   "metadata": {},
   "outputs": [],
   "source": [
    "df1['gender'].replace({'Female':1,'Male':0},inplace=True)"
   ]
  },
  {
   "cell_type": "code",
   "execution_count": 27,
   "metadata": {},
   "outputs": [
    {
     "data": {
      "text/plain": [
       "array([1, 0], dtype=int64)"
      ]
     },
     "execution_count": 27,
     "metadata": {},
     "output_type": "execute_result"
    }
   ],
   "source": [
    "df1.gender.unique()"
   ]
  },
  {
   "cell_type": "markdown",
   "metadata": {},
   "source": [
    "**One hot encoding for categorical columns**"
   ]
  },
  {
   "cell_type": "code",
   "execution_count": 28,
   "metadata": {},
   "outputs": [
    {
     "data": {
      "text/plain": [
       "Index(['gender', 'SeniorCitizen', 'Partner', 'Dependents', 'tenure',\n",
       "       'PhoneService', 'MultipleLines', 'OnlineSecurity', 'OnlineBackup',\n",
       "       'DeviceProtection', 'TechSupport', 'StreamingTV', 'StreamingMovies',\n",
       "       'PaperlessBilling', 'MonthlyCharges', 'TotalCharges', 'Churn',\n",
       "       'InternetService_DSL', 'InternetService_Fiber optic',\n",
       "       'InternetService_No', 'Contract_Month-to-month', 'Contract_One year',\n",
       "       'Contract_Two year', 'PaymentMethod_Bank transfer (automatic)',\n",
       "       'PaymentMethod_Credit card (automatic)',\n",
       "       'PaymentMethod_Electronic check', 'PaymentMethod_Mailed check'],\n",
       "      dtype='object')"
      ]
     },
     "execution_count": 28,
     "metadata": {},
     "output_type": "execute_result"
    }
   ],
   "source": [
    "df2 = pd.get_dummies(data=df1, columns=['InternetService','Contract','PaymentMethod'])\n",
    "df2.columns"
   ]
  },
  {
   "cell_type": "code",
   "execution_count": 29,
   "metadata": {},
   "outputs": [
    {
     "data": {
      "text/html": [
       "<div>\n",
       "<style scoped>\n",
       "    .dataframe tbody tr th:only-of-type {\n",
       "        vertical-align: middle;\n",
       "    }\n",
       "\n",
       "    .dataframe tbody tr th {\n",
       "        vertical-align: top;\n",
       "    }\n",
       "\n",
       "    .dataframe thead th {\n",
       "        text-align: right;\n",
       "    }\n",
       "</style>\n",
       "<table border=\"1\" class=\"dataframe\">\n",
       "  <thead>\n",
       "    <tr style=\"text-align: right;\">\n",
       "      <th></th>\n",
       "      <th>gender</th>\n",
       "      <th>SeniorCitizen</th>\n",
       "      <th>Partner</th>\n",
       "      <th>Dependents</th>\n",
       "      <th>tenure</th>\n",
       "      <th>PhoneService</th>\n",
       "      <th>MultipleLines</th>\n",
       "      <th>OnlineSecurity</th>\n",
       "      <th>OnlineBackup</th>\n",
       "      <th>DeviceProtection</th>\n",
       "      <th>...</th>\n",
       "      <th>InternetService_DSL</th>\n",
       "      <th>InternetService_Fiber optic</th>\n",
       "      <th>InternetService_No</th>\n",
       "      <th>Contract_Month-to-month</th>\n",
       "      <th>Contract_One year</th>\n",
       "      <th>Contract_Two year</th>\n",
       "      <th>PaymentMethod_Bank transfer (automatic)</th>\n",
       "      <th>PaymentMethod_Credit card (automatic)</th>\n",
       "      <th>PaymentMethod_Electronic check</th>\n",
       "      <th>PaymentMethod_Mailed check</th>\n",
       "    </tr>\n",
       "  </thead>\n",
       "  <tbody>\n",
       "    <tr>\n",
       "      <th>3536</th>\n",
       "      <td>1</td>\n",
       "      <td>0</td>\n",
       "      <td>0</td>\n",
       "      <td>0</td>\n",
       "      <td>1</td>\n",
       "      <td>1</td>\n",
       "      <td>1</td>\n",
       "      <td>0</td>\n",
       "      <td>1</td>\n",
       "      <td>0</td>\n",
       "      <td>...</td>\n",
       "      <td>0</td>\n",
       "      <td>1</td>\n",
       "      <td>0</td>\n",
       "      <td>1</td>\n",
       "      <td>0</td>\n",
       "      <td>0</td>\n",
       "      <td>0</td>\n",
       "      <td>0</td>\n",
       "      <td>0</td>\n",
       "      <td>1</td>\n",
       "    </tr>\n",
       "    <tr>\n",
       "      <th>4570</th>\n",
       "      <td>0</td>\n",
       "      <td>0</td>\n",
       "      <td>0</td>\n",
       "      <td>0</td>\n",
       "      <td>7</td>\n",
       "      <td>1</td>\n",
       "      <td>0</td>\n",
       "      <td>0</td>\n",
       "      <td>0</td>\n",
       "      <td>0</td>\n",
       "      <td>...</td>\n",
       "      <td>0</td>\n",
       "      <td>0</td>\n",
       "      <td>1</td>\n",
       "      <td>1</td>\n",
       "      <td>0</td>\n",
       "      <td>0</td>\n",
       "      <td>0</td>\n",
       "      <td>0</td>\n",
       "      <td>0</td>\n",
       "      <td>1</td>\n",
       "    </tr>\n",
       "    <tr>\n",
       "      <th>6671</th>\n",
       "      <td>1</td>\n",
       "      <td>0</td>\n",
       "      <td>1</td>\n",
       "      <td>0</td>\n",
       "      <td>59</td>\n",
       "      <td>1</td>\n",
       "      <td>0</td>\n",
       "      <td>0</td>\n",
       "      <td>1</td>\n",
       "      <td>0</td>\n",
       "      <td>...</td>\n",
       "      <td>0</td>\n",
       "      <td>1</td>\n",
       "      <td>0</td>\n",
       "      <td>0</td>\n",
       "      <td>0</td>\n",
       "      <td>1</td>\n",
       "      <td>0</td>\n",
       "      <td>0</td>\n",
       "      <td>0</td>\n",
       "      <td>1</td>\n",
       "    </tr>\n",
       "    <tr>\n",
       "      <th>1827</th>\n",
       "      <td>1</td>\n",
       "      <td>0</td>\n",
       "      <td>1</td>\n",
       "      <td>1</td>\n",
       "      <td>45</td>\n",
       "      <td>0</td>\n",
       "      <td>0</td>\n",
       "      <td>1</td>\n",
       "      <td>0</td>\n",
       "      <td>0</td>\n",
       "      <td>...</td>\n",
       "      <td>1</td>\n",
       "      <td>0</td>\n",
       "      <td>0</td>\n",
       "      <td>1</td>\n",
       "      <td>0</td>\n",
       "      <td>0</td>\n",
       "      <td>1</td>\n",
       "      <td>0</td>\n",
       "      <td>0</td>\n",
       "      <td>0</td>\n",
       "    </tr>\n",
       "    <tr>\n",
       "      <th>3857</th>\n",
       "      <td>0</td>\n",
       "      <td>0</td>\n",
       "      <td>0</td>\n",
       "      <td>0</td>\n",
       "      <td>5</td>\n",
       "      <td>1</td>\n",
       "      <td>0</td>\n",
       "      <td>0</td>\n",
       "      <td>0</td>\n",
       "      <td>0</td>\n",
       "      <td>...</td>\n",
       "      <td>0</td>\n",
       "      <td>0</td>\n",
       "      <td>1</td>\n",
       "      <td>1</td>\n",
       "      <td>0</td>\n",
       "      <td>0</td>\n",
       "      <td>1</td>\n",
       "      <td>0</td>\n",
       "      <td>0</td>\n",
       "      <td>0</td>\n",
       "    </tr>\n",
       "  </tbody>\n",
       "</table>\n",
       "<p>5 rows × 27 columns</p>\n",
       "</div>"
      ],
      "text/plain": [
       "      gender  SeniorCitizen  Partner  Dependents  tenure  PhoneService  \\\n",
       "3536       1              0        0           0       1             1   \n",
       "4570       0              0        0           0       7             1   \n",
       "6671       1              0        1           0      59             1   \n",
       "1827       1              0        1           1      45             0   \n",
       "3857       0              0        0           0       5             1   \n",
       "\n",
       "      MultipleLines  OnlineSecurity  OnlineBackup  DeviceProtection  ...  \\\n",
       "3536              1               0             1                 0  ...   \n",
       "4570              0               0             0                 0  ...   \n",
       "6671              0               0             1                 0  ...   \n",
       "1827              0               1             0                 0  ...   \n",
       "3857              0               0             0                 0  ...   \n",
       "\n",
       "      InternetService_DSL  InternetService_Fiber optic  InternetService_No  \\\n",
       "3536                    0                            1                   0   \n",
       "4570                    0                            0                   1   \n",
       "6671                    0                            1                   0   \n",
       "1827                    1                            0                   0   \n",
       "3857                    0                            0                   1   \n",
       "\n",
       "      Contract_Month-to-month  Contract_One year  Contract_Two year  \\\n",
       "3536                        1                  0                  0   \n",
       "4570                        1                  0                  0   \n",
       "6671                        0                  0                  1   \n",
       "1827                        1                  0                  0   \n",
       "3857                        1                  0                  0   \n",
       "\n",
       "      PaymentMethod_Bank transfer (automatic)  \\\n",
       "3536                                        0   \n",
       "4570                                        0   \n",
       "6671                                        0   \n",
       "1827                                        1   \n",
       "3857                                        1   \n",
       "\n",
       "      PaymentMethod_Credit card (automatic)  PaymentMethod_Electronic check  \\\n",
       "3536                                      0                               0   \n",
       "4570                                      0                               0   \n",
       "6671                                      0                               0   \n",
       "1827                                      0                               0   \n",
       "3857                                      0                               0   \n",
       "\n",
       "      PaymentMethod_Mailed check  \n",
       "3536                           1  \n",
       "4570                           1  \n",
       "6671                           1  \n",
       "1827                           0  \n",
       "3857                           0  \n",
       "\n",
       "[5 rows x 27 columns]"
      ]
     },
     "execution_count": 29,
     "metadata": {},
     "output_type": "execute_result"
    }
   ],
   "source": [
    "df2.sample(5)"
   ]
  },
  {
   "cell_type": "code",
   "execution_count": 30,
   "metadata": {
    "scrolled": true
   },
   "outputs": [
    {
     "data": {
      "text/plain": [
       "gender                                       int64\n",
       "SeniorCitizen                                int64\n",
       "Partner                                      int64\n",
       "Dependents                                   int64\n",
       "tenure                                       int64\n",
       "PhoneService                                 int64\n",
       "MultipleLines                                int64\n",
       "OnlineSecurity                               int64\n",
       "OnlineBackup                                 int64\n",
       "DeviceProtection                             int64\n",
       "TechSupport                                  int64\n",
       "StreamingTV                                  int64\n",
       "StreamingMovies                              int64\n",
       "PaperlessBilling                             int64\n",
       "MonthlyCharges                             float64\n",
       "TotalCharges                               float64\n",
       "Churn                                        int64\n",
       "InternetService_DSL                          uint8\n",
       "InternetService_Fiber optic                  uint8\n",
       "InternetService_No                           uint8\n",
       "Contract_Month-to-month                      uint8\n",
       "Contract_One year                            uint8\n",
       "Contract_Two year                            uint8\n",
       "PaymentMethod_Bank transfer (automatic)      uint8\n",
       "PaymentMethod_Credit card (automatic)        uint8\n",
       "PaymentMethod_Electronic check               uint8\n",
       "PaymentMethod_Mailed check                   uint8\n",
       "dtype: object"
      ]
     },
     "execution_count": 30,
     "metadata": {},
     "output_type": "execute_result"
    }
   ],
   "source": [
    "df2.dtypes"
   ]
  },
  {
   "cell_type": "code",
   "execution_count": 31,
   "metadata": {},
   "outputs": [],
   "source": [
    "cols_to_scale = ['tenure','MonthlyCharges','TotalCharges']\n",
    "\n",
    "from sklearn.preprocessing import MinMaxScaler\n",
    "scaler = MinMaxScaler()\n",
    "df2[cols_to_scale] = scaler.fit_transform(df2[cols_to_scale])"
   ]
  },
  {
   "cell_type": "code",
   "execution_count": 32,
   "metadata": {},
   "outputs": [
    {
     "name": "stdout",
     "output_type": "stream",
     "text": [
      "gender: [1 0]\n",
      "SeniorCitizen: [0 1]\n",
      "Partner: [1 0]\n",
      "Dependents: [0 1]\n",
      "tenure: [0.         0.46478873 0.01408451 0.61971831 0.09859155 0.29577465\n",
      " 0.12676056 0.38028169 0.85915493 0.16901408 0.21126761 0.8028169\n",
      " 0.67605634 0.33802817 0.95774648 0.71830986 0.98591549 0.28169014\n",
      " 0.15492958 0.4084507  0.64788732 1.         0.22535211 0.36619718\n",
      " 0.05633803 0.63380282 0.14084507 0.97183099 0.87323944 0.5915493\n",
      " 0.1971831  0.83098592 0.23943662 0.91549296 0.11267606 0.02816901\n",
      " 0.42253521 0.69014085 0.88732394 0.77464789 0.08450704 0.57746479\n",
      " 0.47887324 0.66197183 0.3943662  0.90140845 0.52112676 0.94366197\n",
      " 0.43661972 0.76056338 0.50704225 0.49295775 0.56338028 0.07042254\n",
      " 0.04225352 0.45070423 0.92957746 0.30985915 0.78873239 0.84507042\n",
      " 0.18309859 0.26760563 0.73239437 0.54929577 0.81690141 0.32394366\n",
      " 0.6056338  0.25352113 0.74647887 0.70422535 0.35211268 0.53521127]\n",
      "PhoneService: [0 1]\n",
      "MultipleLines: [0 1]\n",
      "OnlineSecurity: [0 1]\n",
      "OnlineBackup: [1 0]\n",
      "DeviceProtection: [0 1]\n",
      "TechSupport: [0 1]\n",
      "StreamingTV: [0 1]\n",
      "StreamingMovies: [0 1]\n",
      "PaperlessBilling: [1 0]\n",
      "MonthlyCharges: [0.11542289 0.38507463 0.35422886 ... 0.44626866 0.25820896 0.60149254]\n",
      "TotalCharges: [0.0012751  0.21586661 0.01031041 ... 0.03780868 0.03321025 0.78764136]\n",
      "Churn: [0 1]\n",
      "InternetService_DSL: [1 0]\n",
      "InternetService_Fiber optic: [0 1]\n",
      "InternetService_No: [0 1]\n",
      "Contract_Month-to-month: [1 0]\n",
      "Contract_One year: [0 1]\n",
      "Contract_Two year: [0 1]\n",
      "PaymentMethod_Bank transfer (automatic): [0 1]\n",
      "PaymentMethod_Credit card (automatic): [0 1]\n",
      "PaymentMethod_Electronic check: [1 0]\n",
      "PaymentMethod_Mailed check: [0 1]\n"
     ]
    }
   ],
   "source": [
    "for col in df2:\n",
    "    print(f'{col}: {df2[col].unique()}')"
   ]
  },
  {
   "cell_type": "markdown",
   "metadata": {},
   "source": [
    "**Train test split**"
   ]
  },
  {
   "cell_type": "code",
   "execution_count": 33,
   "metadata": {},
   "outputs": [
    {
     "data": {
      "text/plain": [
       "0       0.0\n",
       "1       0.0\n",
       "2       1.0\n",
       "3       0.0\n",
       "4       1.0\n",
       "       ... \n",
       "7038    0.0\n",
       "7039    0.0\n",
       "7040    0.0\n",
       "7041    1.0\n",
       "7042    0.0\n",
       "Name: Churn, Length: 7032, dtype: float32"
      ]
     },
     "execution_count": 33,
     "metadata": {},
     "output_type": "execute_result"
    }
   ],
   "source": [
    "df2.Churn.astype(np.float32)"
   ]
  },
  {
   "cell_type": "code",
   "execution_count": 34,
   "metadata": {},
   "outputs": [],
   "source": [
    "X = df2.drop('Churn',axis='columns')\n",
    "y = testLabels = df2.Churn.astype(np.float32)\n",
    "\n",
    "from sklearn.model_selection import train_test_split\n",
    "X_train, X_test, y_train, y_test = train_test_split(X, y, test_size=0.2, random_state=15, stratify=y)"
   ]
  },
  {
   "cell_type": "code",
   "execution_count": 35,
   "metadata": {
    "scrolled": true
   },
   "outputs": [
    {
     "data": {
      "text/plain": [
       "0.0    4130\n",
       "1.0    1495\n",
       "Name: Churn, dtype: int64"
      ]
     },
     "execution_count": 35,
     "metadata": {},
     "output_type": "execute_result"
    }
   ],
   "source": [
    "y_train.value_counts()"
   ]
  },
  {
   "cell_type": "code",
   "execution_count": 36,
   "metadata": {},
   "outputs": [
    {
     "data": {
      "text/plain": [
       "0.0    5163\n",
       "1.0    1869\n",
       "Name: Churn, dtype: int64"
      ]
     },
     "execution_count": 36,
     "metadata": {},
     "output_type": "execute_result"
    }
   ],
   "source": [
    "y.value_counts()"
   ]
  },
  {
   "cell_type": "code",
   "execution_count": 37,
   "metadata": {},
   "outputs": [
    {
     "data": {
      "text/plain": [
       "0.0    1033\n",
       "1.0     374\n",
       "Name: Churn, dtype: int64"
      ]
     },
     "execution_count": 37,
     "metadata": {},
     "output_type": "execute_result"
    }
   ],
   "source": [
    "y_test.value_counts()"
   ]
  },
  {
   "cell_type": "code",
   "execution_count": 38,
   "metadata": {},
   "outputs": [
    {
     "data": {
      "text/plain": [
       "(5625, 26)"
      ]
     },
     "execution_count": 38,
     "metadata": {},
     "output_type": "execute_result"
    }
   ],
   "source": [
    "X_train.shape"
   ]
  },
  {
   "cell_type": "code",
   "execution_count": 39,
   "metadata": {
    "scrolled": true
   },
   "outputs": [
    {
     "data": {
      "text/plain": [
       "(1407, 26)"
      ]
     },
     "execution_count": 39,
     "metadata": {},
     "output_type": "execute_result"
    }
   ],
   "source": [
    "X_test.shape"
   ]
  },
  {
   "cell_type": "code",
   "execution_count": 40,
   "metadata": {},
   "outputs": [
    {
     "data": {
      "text/plain": [
       "26"
      ]
     },
     "execution_count": 40,
     "metadata": {},
     "output_type": "execute_result"
    }
   ],
   "source": [
    "len(X_train.columns)"
   ]
  },
  {
   "cell_type": "markdown",
   "metadata": {},
   "source": [
    "**Build a model (ANN) in tensorflow/keras**"
   ]
  },
  {
   "cell_type": "code",
   "execution_count": 41,
   "metadata": {},
   "outputs": [],
   "source": [
    "import tensorflow as tf\n",
    "from tensorflow import keras\n",
    "from sklearn.metrics import confusion_matrix, classification_report"
   ]
  },
  {
   "cell_type": "code",
   "execution_count": 42,
   "metadata": {
    "scrolled": true
   },
   "outputs": [],
   "source": [
    "def ANN(X_train, y_train, X_test, y_test, loss, weights):\n",
    "    model = keras.Sequential([\n",
    "        keras.layers.Dense(26, input_dim=26, activation='relu'),\n",
    "        keras.layers.Dense(15, activation='relu'),\n",
    "        keras.layers.Dense(1, activation='sigmoid')\n",
    "    ])\n",
    "\n",
    "    model.compile(optimizer='adam', loss=loss, metrics=['accuracy'])\n",
    "    \n",
    "    if weights == -1:\n",
    "        model.fit(X_train, y_train, epochs=100)\n",
    "    else:\n",
    "        model.fit(X_train, y_train, epochs=100, class_weight=weights)\n",
    "    \n",
    "    # print(model.evaluate(X_test, y_test))\n",
    "    \n",
    "    y_preds = model.predict(X_test)\n",
    "    y_preds = np.round(y_preds)\n",
    "    \n",
    "    print(\"Classification Report: \\n\", classification_report(y_test, y_preds))\n",
    "    \n",
    "    return y_preds"
   ]
  },
  {
   "cell_type": "code",
   "execution_count": 43,
   "metadata": {},
   "outputs": [
    {
     "name": "stdout",
     "output_type": "stream",
     "text": [
      "Train on 5625 samples\n",
      "Epoch 1/100\n",
      "5625/5625 [==============================] - 4s 685us/sample - loss: 0.4945 - accuracy: 0.7639\n",
      "Epoch 2/100\n",
      "5625/5625 [==============================] - 1s 211us/sample - loss: 0.4296 - accuracy: 0.7911\n",
      "Epoch 3/100\n",
      "5625/5625 [==============================] - 1s 210us/sample - loss: 0.4224 - accuracy: 0.8011\n",
      "Epoch 4/100\n",
      "5625/5625 [==============================] - 1s 210us/sample - loss: 0.4184 - accuracy: 0.7996\n",
      "Epoch 5/100\n",
      "5625/5625 [==============================] - 1s 210us/sample - loss: 0.4177 - accuracy: 0.8000\n",
      "Epoch 6/100\n",
      "5625/5625 [==============================] - 2s 285us/sample - loss: 0.4126 - accuracy: 0.8043\n",
      "Epoch 7/100\n",
      "5625/5625 [==============================] - 2s 414us/sample - loss: 0.4108 - accuracy: 0.8034\n",
      "Epoch 8/100\n",
      "5625/5625 [==============================] - 2s 397us/sample - loss: 0.4074 - accuracy: 0.8064\n",
      "Epoch 9/100\n",
      "5625/5625 [==============================] - 2s 403us/sample - loss: 0.4059 - accuracy: 0.8060\n",
      "Epoch 10/100\n",
      "5625/5625 [==============================] - 2s 402us/sample - loss: 0.4051 - accuracy: 0.8050\n",
      "Epoch 11/100\n",
      "5625/5625 [==============================] - 2s 403us/sample - loss: 0.4038 - accuracy: 0.8069\n",
      "Epoch 12/100\n",
      "5625/5625 [==============================] - 2s 403us/sample - loss: 0.4031 - accuracy: 0.8101\n",
      "Epoch 13/100\n",
      "5625/5625 [==============================] - 2s 404us/sample - loss: 0.4022 - accuracy: 0.8082 - los\n",
      "Epoch 14/100\n",
      "5625/5625 [==============================] - 2s 410us/sample - loss: 0.4014 - accuracy: 0.8071\n",
      "Epoch 15/100\n",
      "5625/5625 [==============================] - 2s 378us/sample - loss: 0.4008 - accuracy: 0.8091\n",
      "Epoch 16/100\n",
      "5625/5625 [==============================] - 2s 426us/sample - loss: 0.3989 - accuracy: 0.8100\n",
      "Epoch 17/100\n",
      "5625/5625 [==============================] - 2s 408us/sample - loss: 0.3992 - accuracy: 0.8105\n",
      "Epoch 18/100\n",
      "5625/5625 [==============================] - 2s 334us/sample - loss: 0.3982 - accuracy: 0.8107\n",
      "Epoch 19/100\n",
      "5625/5625 [==============================] - 2s 386us/sample - loss: 0.3972 - accuracy: 0.8084\n",
      "Epoch 20/100\n",
      "5625/5625 [==============================] - 1s 232us/sample - loss: 0.3978 - accuracy: 0.8119\n",
      "Epoch 21/100\n",
      "5625/5625 [==============================] - 2s 403us/sample - loss: 0.3945 - accuracy: 0.8146\n",
      "Epoch 22/100\n",
      "5625/5625 [==============================] - 2s 401us/sample - loss: 0.3937 - accuracy: 0.8094\n",
      "Epoch 23/100\n",
      "5625/5625 [==============================] - 2s 397us/sample - loss: 0.3932 - accuracy: 0.8100\n",
      "Epoch 24/100\n",
      "5625/5625 [==============================] - 2s 404us/sample - loss: 0.3921 - accuracy: 0.8121\n",
      "Epoch 25/100\n",
      "5625/5625 [==============================] - 2s 431us/sample - loss: 0.3925 - accuracy: 0.8128\n",
      "Epoch 26/100\n",
      "5625/5625 [==============================] - 2s 376us/sample - loss: 0.3925 - accuracy: 0.8119\n",
      "Epoch 27/100\n",
      "5625/5625 [==============================] - 2s 372us/sample - loss: 0.3903 - accuracy: 0.8123\n",
      "Epoch 28/100\n",
      "5625/5625 [==============================] - 2s 414us/sample - loss: 0.3889 - accuracy: 0.8160\n",
      "Epoch 29/100\n",
      "5625/5625 [==============================] - 2s 418us/sample - loss: 0.3880 - accuracy: 0.8155\n",
      "Epoch 30/100\n",
      "5625/5625 [==============================] - 2s 367us/sample - loss: 0.3879 - accuracy: 0.8121\n",
      "Epoch 31/100\n",
      "5625/5625 [==============================] - 1s 239us/sample - loss: 0.3886 - accuracy: 0.8137\n",
      "Epoch 32/100\n",
      "5625/5625 [==============================] - 1s 224us/sample - loss: 0.3870 - accuracy: 0.8135\n",
      "Epoch 33/100\n",
      "5625/5625 [==============================] - 1s 237us/sample - loss: 0.3862 - accuracy: 0.8158\n",
      "Epoch 34/100\n",
      "5625/5625 [==============================] - 1s 242us/sample - loss: 0.3849 - accuracy: 0.8156\n",
      "Epoch 35/100\n",
      "5625/5625 [==============================] - 2s 320us/sample - loss: 0.3851 - accuracy: 0.8149\n",
      "Epoch 36/100\n",
      "5625/5625 [==============================] - 2s 320us/sample - loss: 0.3836 - accuracy: 0.8156\n",
      "Epoch 37/100\n",
      "5625/5625 [==============================] - 2s 376us/sample - loss: 0.3840 - accuracy: 0.8165\n",
      "Epoch 38/100\n",
      "5625/5625 [==============================] - 2s 301us/sample - loss: 0.3818 - accuracy: 0.8183\n",
      "Epoch 39/100\n",
      "5625/5625 [==============================] - 2s 416us/sample - loss: 0.3810 - accuracy: 0.8158\n",
      "Epoch 40/100\n",
      "5625/5625 [==============================] - 2s 333us/sample - loss: 0.3810 - accuracy: 0.8171\n",
      "Epoch 41/100\n",
      "5625/5625 [==============================] - 2s 351us/sample - loss: 0.3812 - accuracy: 0.8130\n",
      "Epoch 42/100\n",
      "5625/5625 [==============================] - 2s 310us/sample - loss: 0.3801 - accuracy: 0.8153\n",
      "Epoch 43/100\n",
      "5625/5625 [==============================] - 2s 326us/sample - loss: 0.3821 - accuracy: 0.8164\n",
      "Epoch 44/100\n",
      "5625/5625 [==============================] - 2s 288us/sample - loss: 0.3805 - accuracy: 0.8181\n",
      "Epoch 45/100\n",
      "5625/5625 [==============================] - 1s 250us/sample - loss: 0.3778 - accuracy: 0.8174\n",
      "Epoch 46/100\n",
      "5625/5625 [==============================] - 1s 225us/sample - loss: 0.3788 - accuracy: 0.8158\n",
      "Epoch 47/100\n",
      "5625/5625 [==============================] - 1s 231us/sample - loss: 0.3767 - accuracy: 0.8190\n",
      "Epoch 48/100\n",
      "5625/5625 [==============================] - 1s 227us/sample - loss: 0.3761 - accuracy: 0.8165\n",
      "Epoch 49/100\n",
      "5625/5625 [==============================] - 1s 229us/sample - loss: 0.3753 - accuracy: 0.8185\n",
      "Epoch 50/100\n",
      "5625/5625 [==============================] - 1s 242us/sample - loss: 0.3747 - accuracy: 0.8180\n",
      "Epoch 51/100\n",
      "5625/5625 [==============================] - 1s 247us/sample - loss: 0.3755 - accuracy: 0.8196\n",
      "Epoch 52/100\n",
      "5625/5625 [==============================] - 2s 302us/sample - loss: 0.3742 - accuracy: 0.8176\n",
      "Epoch 53/100\n",
      "5625/5625 [==============================] - 2s 359us/sample - loss: 0.3741 - accuracy: 0.8192\n",
      "Epoch 54/100\n",
      "5625/5625 [==============================] - 2s 347us/sample - loss: 0.3721 - accuracy: 0.8197\n",
      "Epoch 55/100\n",
      "5625/5625 [==============================] - 2s 313us/sample - loss: 0.3711 - accuracy: 0.8197\n",
      "Epoch 56/100\n",
      "5625/5625 [==============================] - 2s 295us/sample - loss: 0.3706 - accuracy: 0.8217\n",
      "Epoch 57/100\n",
      "5625/5625 [==============================] - 2s 279us/sample - loss: 0.3724 - accuracy: 0.8190\n",
      "Epoch 58/100\n",
      "5625/5625 [==============================] - 1s 218us/sample - loss: 0.3698 - accuracy: 0.8194\n",
      "Epoch 59/100\n",
      "5625/5625 [==============================] - 2s 308us/sample - loss: 0.3710 - accuracy: 0.8196\n",
      "Epoch 60/100\n",
      "5625/5625 [==============================] - 1s 216us/sample - loss: 0.3697 - accuracy: 0.8199\n",
      "Epoch 61/100\n",
      "5625/5625 [==============================] - 1s 227us/sample - loss: 0.3695 - accuracy: 0.8201\n",
      "Epoch 62/100\n",
      "5625/5625 [==============================] - 2s 315us/sample - loss: 0.3681 - accuracy: 0.8251\n",
      "Epoch 63/100\n",
      "5625/5625 [==============================] - 2s 288us/sample - loss: 0.3682 - accuracy: 0.8215\n",
      "Epoch 64/100\n",
      "5625/5625 [==============================] - 2s 299us/sample - loss: 0.3687 - accuracy: 0.8208\n",
      "Epoch 65/100\n",
      "5625/5625 [==============================] - 2s 320us/sample - loss: 0.3678 - accuracy: 0.8217\n",
      "Epoch 66/100\n",
      "5625/5625 [==============================] - 2s 321us/sample - loss: 0.3661 - accuracy: 0.8194\n",
      "Epoch 67/100\n",
      "5625/5625 [==============================] - 2s 336us/sample - loss: 0.3658 - accuracy: 0.8254\n",
      "Epoch 68/100\n",
      "5625/5625 [==============================] - 1s 250us/sample - loss: 0.3661 - accuracy: 0.8203\n",
      "Epoch 69/100\n",
      "5625/5625 [==============================] - 1s 248us/sample - loss: 0.3664 - accuracy: 0.8222\n",
      "Epoch 70/100\n",
      "5625/5625 [==============================] - 1s 233us/sample - loss: 0.3657 - accuracy: 0.8231\n",
      "Epoch 71/100\n",
      "5625/5625 [==============================] - 2s 360us/sample - loss: 0.3643 - accuracy: 0.8247\n",
      "Epoch 72/100\n",
      "5625/5625 [==============================] - 2s 364us/sample - loss: 0.3660 - accuracy: 0.8228\n",
      "Epoch 73/100\n",
      "5625/5625 [==============================] - 2s 340us/sample - loss: 0.3629 - accuracy: 0.8228\n",
      "Epoch 74/100\n",
      "5625/5625 [==============================] - 2s 307us/sample - loss: 0.3637 - accuracy: 0.8238\n",
      "Epoch 75/100\n",
      "5625/5625 [==============================] - 1s 232us/sample - loss: 0.3630 - accuracy: 0.8233\n",
      "Epoch 76/100\n"
     ]
    },
    {
     "name": "stdout",
     "output_type": "stream",
     "text": [
      "5625/5625 [==============================] - 1s 237us/sample - loss: 0.3640 - accuracy: 0.8231\n",
      "Epoch 77/100\n",
      "5625/5625 [==============================] - 2s 271us/sample - loss: 0.3621 - accuracy: 0.8219\n",
      "Epoch 78/100\n",
      "5625/5625 [==============================] - 2s 270us/sample - loss: 0.3613 - accuracy: 0.8249\n",
      "Epoch 79/100\n",
      "5625/5625 [==============================] - 1s 236us/sample - loss: 0.3630 - accuracy: 0.8231\n",
      "Epoch 80/100\n",
      "5625/5625 [==============================] - 1s 246us/sample - loss: 0.3612 - accuracy: 0.8247\n",
      "Epoch 81/100\n",
      "5625/5625 [==============================] - 2s 314us/sample - loss: 0.3611 - accuracy: 0.8238\n",
      "Epoch 82/100\n",
      "5625/5625 [==============================] - 2s 321us/sample - loss: 0.3600 - accuracy: 0.8258\n",
      "Epoch 83/100\n",
      "5625/5625 [==============================] - 2s 344us/sample - loss: 0.3596 - accuracy: 0.8217\n",
      "Epoch 84/100\n",
      "5625/5625 [==============================] - 2s 329us/sample - loss: 0.3593 - accuracy: 0.8268\n",
      "Epoch 85/100\n",
      "5625/5625 [==============================] - 2s 341us/sample - loss: 0.3597 - accuracy: 0.8244\n",
      "Epoch 86/100\n",
      "5625/5625 [==============================] - 2s 312us/sample - loss: 0.3597 - accuracy: 0.8258\n",
      "Epoch 87/100\n",
      "5625/5625 [==============================] - 2s 288us/sample - loss: 0.3587 - accuracy: 0.8277\n",
      "Epoch 88/100\n",
      "5625/5625 [==============================] - 2s 343us/sample - loss: 0.3592 - accuracy: 0.8249 - loss: 0.3581 - accuracy: \n",
      "Epoch 89/100\n",
      "5625/5625 [==============================] - 2s 356us/sample - loss: 0.3571 - accuracy: 0.8284\n",
      "Epoch 90/100\n",
      "5625/5625 [==============================] - 2s 348us/sample - loss: 0.3588 - accuracy: 0.8210\n",
      "Epoch 91/100\n",
      "5625/5625 [==============================] - 2s 384us/sample - loss: 0.3564 - accuracy: 0.8274\n",
      "Epoch 92/100\n",
      "5625/5625 [==============================] - 2s 338us/sample - loss: 0.3580 - accuracy: 0.8258\n",
      "Epoch 93/100\n",
      "5625/5625 [==============================] - 2s 357us/sample - loss: 0.3562 - accuracy: 0.8288\n",
      "Epoch 94/100\n",
      "5625/5625 [==============================] - 2s 356us/sample - loss: 0.3572 - accuracy: 0.8258\n",
      "Epoch 95/100\n",
      "5625/5625 [==============================] - 2s 361us/sample - loss: 0.3557 - accuracy: 0.8244\n",
      "Epoch 96/100\n",
      "5625/5625 [==============================] - 2s 350us/sample - loss: 0.3549 - accuracy: 0.8279\n",
      "Epoch 97/100\n",
      "5625/5625 [==============================] - 2s 339us/sample - loss: 0.3562 - accuracy: 0.8254\n",
      "Epoch 98/100\n",
      "5625/5625 [==============================] - 2s 313us/sample - loss: 0.3568 - accuracy: 0.8254\n",
      "Epoch 99/100\n",
      "5625/5625 [==============================] - 2s 329us/sample - loss: 0.3546 - accuracy: 0.8263\n",
      "Epoch 100/100\n",
      "5625/5625 [==============================] - 2s 393us/sample - loss: 0.3543 - accuracy: 0.8308\n",
      "Classification Report: \n",
      "               precision    recall  f1-score   support\n",
      "\n",
      "         0.0       0.85      0.87      0.86      1033\n",
      "         1.0       0.62      0.58      0.60       374\n",
      "\n",
      "    accuracy                           0.79      1407\n",
      "   macro avg       0.73      0.73      0.73      1407\n",
      "weighted avg       0.79      0.79      0.79      1407\n",
      "\n"
     ]
    }
   ],
   "source": [
    "y_preds = ANN(X_train.values, y_train.values, X_test.values, y_test.values, 'binary_crossentropy', -1)"
   ]
  },
  {
   "cell_type": "code",
   "execution_count": 44,
   "metadata": {},
   "outputs": [],
   "source": [
    "# from above reports we can observe that for 1 class precision, recall and f1score is very low\n",
    "# due to imbalance in data set\n",
    "# precesion stands on predictions\n",
    "# recall stands on true values\n",
    "# suppose precision for 1 class is no, of correct 1 predictions to total no of 1 predictions\n",
    "# recall for 1 class is no, of correct 1 predictions to total no of true 1,s\n",
    "\n",
    "# due to imbalance in dataset lets do something to get accurate results"
   ]
  },
  {
   "cell_type": "markdown",
   "metadata": {},
   "source": [
    "## Mitigating Skewdness of Data"
   ]
  },
  {
   "cell_type": "markdown",
   "metadata": {},
   "source": [
    "### Method 1: Undersampling"
   ]
  },
  {
   "cell_type": "code",
   "execution_count": 45,
   "metadata": {},
   "outputs": [],
   "source": [
    "# Class count\n",
    "count_class_0, count_class_1 = df2.Churn.value_counts()\n",
    "\n",
    "# Divide by class\n",
    "df_class_0 = df2[df2['Churn'] == 0]\n",
    "df_class_1 = df2[df2['Churn'] == 1]"
   ]
  },
  {
   "cell_type": "code",
   "execution_count": 46,
   "metadata": {},
   "outputs": [
    {
     "data": {
      "text/plain": [
       "((5163, 27), (1869, 27))"
      ]
     },
     "execution_count": 46,
     "metadata": {},
     "output_type": "execute_result"
    }
   ],
   "source": [
    "df_class_0.shape, df_class_1.shape"
   ]
  },
  {
   "cell_type": "code",
   "execution_count": 47,
   "metadata": {},
   "outputs": [
    {
     "data": {
      "text/plain": [
       "(5163, 1869)"
      ]
     },
     "execution_count": 47,
     "metadata": {},
     "output_type": "execute_result"
    }
   ],
   "source": [
    "count_class_0, count_class_1"
   ]
  },
  {
   "cell_type": "code",
   "execution_count": 48,
   "metadata": {},
   "outputs": [
    {
     "data": {
      "text/plain": [
       "(1869, 27)"
      ]
     },
     "execution_count": 48,
     "metadata": {},
     "output_type": "execute_result"
    }
   ],
   "source": [
    "# sample function will randomly select samples\n",
    "df_class_0.sample(count_class_1).shape"
   ]
  },
  {
   "cell_type": "code",
   "execution_count": 49,
   "metadata": {},
   "outputs": [
    {
     "name": "stdout",
     "output_type": "stream",
     "text": [
      "Random under-sampling:\n",
      "1    1869\n",
      "0    1869\n",
      "Name: Churn, dtype: int64\n"
     ]
    }
   ],
   "source": [
    "# class 0 contains many samples so we undersample class 0 to the same samples as class_1\n",
    "# Undersample 0-class and concat the class_1 DataFrames of both class\n",
    "df_class_0_under = df_class_0.sample(count_class_1)\n",
    "\n",
    "# axis=0 means concating below(one by one in depth wise)\n",
    "# axis=1 means concating side by side\n",
    "df_under = pd.concat([df_class_0_under, df_class_1], ignore_index=True, axis=0)\n",
    "\n",
    "print('Random under-sampling:')\n",
    "print(df_under.Churn.value_counts())"
   ]
  },
  {
   "cell_type": "code",
   "execution_count": 50,
   "metadata": {},
   "outputs": [],
   "source": [
    "X = df_under.drop('Churn',axis='columns')\n",
    "y = df_under['Churn']\n",
    "\n",
    "from sklearn.model_selection import train_test_split\n",
    "X_train, X_test, y_train, y_test = train_test_split(X, y, test_size=0.2, random_state=15, stratify=y)"
   ]
  },
  {
   "cell_type": "code",
   "execution_count": 51,
   "metadata": {},
   "outputs": [],
   "source": [
    "# stratify argument will balance the samples \n",
    "# from X_train and X_test will have balanced both classes 1 and 0"
   ]
  },
  {
   "cell_type": "code",
   "execution_count": 52,
   "metadata": {
    "scrolled": true
   },
   "outputs": [
    {
     "data": {
      "text/plain": [
       "1    1495\n",
       "0    1495\n",
       "Name: Churn, dtype: int64"
      ]
     },
     "execution_count": 52,
     "metadata": {},
     "output_type": "execute_result"
    }
   ],
   "source": [
    "# Number of classes in training Data\n",
    "y_train.value_counts()"
   ]
  },
  {
   "cell_type": "code",
   "execution_count": 53,
   "metadata": {},
   "outputs": [
    {
     "data": {
      "text/plain": [
       "1    374\n",
       "0    374\n",
       "Name: Churn, dtype: int64"
      ]
     },
     "execution_count": 53,
     "metadata": {},
     "output_type": "execute_result"
    }
   ],
   "source": [
    "y_test.value_counts()"
   ]
  },
  {
   "cell_type": "markdown",
   "metadata": {},
   "source": [
    "**Printing Classification in the last, Scroll down till the last epoch to watch the classification report**"
   ]
  },
  {
   "cell_type": "code",
   "execution_count": 54,
   "metadata": {
    "scrolled": true
   },
   "outputs": [
    {
     "name": "stdout",
     "output_type": "stream",
     "text": [
      "Train on 2990 samples\n",
      "Epoch 1/100\n",
      "2990/2990 [==============================] - 2s 601us/sample - loss: 0.5825 - accuracy: 0.6920\n",
      "Epoch 2/100\n",
      "2990/2990 [==============================] - 1s 304us/sample - loss: 0.5013 - accuracy: 0.7595\n",
      "Epoch 3/100\n",
      "2990/2990 [==============================] - 1s 384us/sample - loss: 0.4907 - accuracy: 0.7645\n",
      "Epoch 4/100\n",
      "2990/2990 [==============================] - 1s 279us/sample - loss: 0.4849 - accuracy: 0.7649\n",
      "Epoch 5/100\n",
      "2990/2990 [==============================] - 1s 314us/sample - loss: 0.4797 - accuracy: 0.7699\n",
      "Epoch 6/100\n",
      "2990/2990 [==============================] - 1s 318us/sample - loss: 0.4764 - accuracy: 0.7753\n",
      "Epoch 7/100\n",
      "2990/2990 [==============================] - 1s 222us/sample - loss: 0.4748 - accuracy: 0.7696\n",
      "Epoch 8/100\n",
      "2990/2990 [==============================] - 1s 395us/sample - loss: 0.4738 - accuracy: 0.7766\n",
      "Epoch 9/100\n",
      "2990/2990 [==============================] - 1s 344us/sample - loss: 0.4710 - accuracy: 0.7753\n",
      "Epoch 10/100\n",
      "2990/2990 [==============================] - 1s 227us/sample - loss: 0.4697 - accuracy: 0.7776\n",
      "Epoch 11/100\n",
      "2990/2990 [==============================] - 1s 221us/sample - loss: 0.4674 - accuracy: 0.7759\n",
      "Epoch 12/100\n",
      "2990/2990 [==============================] - 1s 220us/sample - loss: 0.4681 - accuracy: 0.7732\n",
      "Epoch 13/100\n",
      "2990/2990 [==============================] - 1s 222us/sample - loss: 0.4666 - accuracy: 0.7803\n",
      "Epoch 14/100\n",
      "2990/2990 [==============================] - 1s 235us/sample - loss: 0.4641 - accuracy: 0.7839\n",
      "Epoch 15/100\n",
      "2990/2990 [==============================] - 1s 331us/sample - loss: 0.4625 - accuracy: 0.7816\n",
      "Epoch 16/100\n",
      "2990/2990 [==============================] - 1s 233us/sample - loss: 0.4614 - accuracy: 0.7829\n",
      "Epoch 17/100\n",
      "2990/2990 [==============================] - 1s 242us/sample - loss: 0.4612 - accuracy: 0.7849\n",
      "Epoch 18/100\n",
      "2990/2990 [==============================] - 1s 233us/sample - loss: 0.4579 - accuracy: 0.7863\n",
      "Epoch 19/100\n",
      "2990/2990 [==============================] - 1s 282us/sample - loss: 0.4555 - accuracy: 0.7866\n",
      "Epoch 20/100\n",
      "2990/2990 [==============================] - 1s 343us/sample - loss: 0.4559 - accuracy: 0.7866\n",
      "Epoch 21/100\n",
      "2990/2990 [==============================] - 1s 245us/sample - loss: 0.4539 - accuracy: 0.7863\n",
      "Epoch 22/100\n",
      "2990/2990 [==============================] - 1s 303us/sample - loss: 0.4540 - accuracy: 0.7863\n",
      "Epoch 23/100\n",
      "2990/2990 [==============================] - 1s 235us/sample - loss: 0.4516 - accuracy: 0.7903\n",
      "Epoch 24/100\n",
      "2990/2990 [==============================] - 1s 215us/sample - loss: 0.4523 - accuracy: 0.7880\n",
      "Epoch 25/100\n",
      "2990/2990 [==============================] - 1s 232us/sample - loss: 0.4492 - accuracy: 0.7880\n",
      "Epoch 26/100\n",
      "2990/2990 [==============================] - 1s 264us/sample - loss: 0.4497 - accuracy: 0.7890\n",
      "Epoch 27/100\n",
      "2990/2990 [==============================] - 1s 364us/sample - loss: 0.4499 - accuracy: 0.7856\n",
      "Epoch 28/100\n",
      "2990/2990 [==============================] - 1s 352us/sample - loss: 0.4465 - accuracy: 0.7856\n",
      "Epoch 29/100\n",
      "2990/2990 [==============================] - 1s 343us/sample - loss: 0.4474 - accuracy: 0.7910\n",
      "Epoch 30/100\n",
      "2990/2990 [==============================] - 1s 343us/sample - loss: 0.4452 - accuracy: 0.7883\n",
      "Epoch 31/100\n",
      "2990/2990 [==============================] - 1s 346us/sample - loss: 0.4446 - accuracy: 0.7960\n",
      "Epoch 32/100\n",
      "2990/2990 [==============================] - 1s 345us/sample - loss: 0.4428 - accuracy: 0.7940\n",
      "Epoch 33/100\n",
      "2990/2990 [==============================] - 1s 346us/sample - loss: 0.4431 - accuracy: 0.7930\n",
      "Epoch 34/100\n",
      "2990/2990 [==============================] - 1s 347us/sample - loss: 0.4416 - accuracy: 0.7936\n",
      "Epoch 35/100\n",
      "2990/2990 [==============================] - 1s 346us/sample - loss: 0.4403 - accuracy: 0.7943\n",
      "Epoch 36/100\n",
      "2990/2990 [==============================] - 1s 246us/sample - loss: 0.4387 - accuracy: 0.7936\n",
      "Epoch 37/100\n",
      "2990/2990 [==============================] - 1s 267us/sample - loss: 0.4380 - accuracy: 0.7957\n",
      "Epoch 38/100\n",
      "2990/2990 [==============================] - 1s 341us/sample - loss: 0.4367 - accuracy: 0.7940\n",
      "Epoch 39/100\n",
      "2990/2990 [==============================] - 1s 238us/sample - loss: 0.4358 - accuracy: 0.7973\n",
      "Epoch 40/100\n",
      "2990/2990 [==============================] - 1s 243us/sample - loss: 0.4357 - accuracy: 0.7983\n",
      "Epoch 41/100\n",
      "2990/2990 [==============================] - 1s 214us/sample - loss: 0.4341 - accuracy: 0.7970\n",
      "Epoch 42/100\n",
      "2990/2990 [==============================] - 1s 210us/sample - loss: 0.4352 - accuracy: 0.7916\n",
      "Epoch 43/100\n",
      "2990/2990 [==============================] - 1s 219us/sample - loss: 0.4332 - accuracy: 0.7983\n",
      "Epoch 44/100\n",
      "2990/2990 [==============================] - 1s 229us/sample - loss: 0.4318 - accuracy: 0.7970\n",
      "Epoch 45/100\n",
      "2990/2990 [==============================] - 1s 253us/sample - loss: 0.4308 - accuracy: 0.8007\n",
      "Epoch 46/100\n",
      "2990/2990 [==============================] - 1s 258us/sample - loss: 0.4313 - accuracy: 0.7946\n",
      "Epoch 47/100\n",
      "2990/2990 [==============================] - 1s 349us/sample - loss: 0.4284 - accuracy: 0.8000\n",
      "Epoch 48/100\n",
      "2990/2990 [==============================] - 1s 348us/sample - loss: 0.4309 - accuracy: 0.8037\n",
      "Epoch 49/100\n",
      "2990/2990 [==============================] - 1s 347us/sample - loss: 0.4267 - accuracy: 0.8010\n",
      "Epoch 50/100\n",
      "2990/2990 [==============================] - 1s 343us/sample - loss: 0.4261 - accuracy: 0.8010\n",
      "Epoch 51/100\n",
      "2990/2990 [==============================] - 1s 346us/sample - loss: 0.4257 - accuracy: 0.8000\n",
      "Epoch 52/100\n",
      "2990/2990 [==============================] - 1s 358us/sample - loss: 0.4262 - accuracy: 0.8007\n",
      "Epoch 53/100\n",
      "2990/2990 [==============================] - 1s 354us/sample - loss: 0.4240 - accuracy: 0.8003\n",
      "Epoch 54/100\n",
      "2990/2990 [==============================] - 1s 292us/sample - loss: 0.4228 - accuracy: 0.8030\n",
      "Epoch 55/100\n",
      "2990/2990 [==============================] - 1s 235us/sample - loss: 0.4231 - accuracy: 0.8033\n",
      "Epoch 56/100\n",
      "2990/2990 [==============================] - 1s 263us/sample - loss: 0.4226 - accuracy: 0.8057\n",
      "Epoch 57/100\n",
      "2990/2990 [==============================] - 1s 348us/sample - loss: 0.4213 - accuracy: 0.8077\n",
      "Epoch 58/100\n",
      "2990/2990 [==============================] - 1s 345us/sample - loss: 0.4206 - accuracy: 0.8040\n",
      "Epoch 59/100\n",
      "2990/2990 [==============================] - 1s 245us/sample - loss: 0.4196 - accuracy: 0.8040\n",
      "Epoch 60/100\n",
      "2990/2990 [==============================] - 1s 285us/sample - loss: 0.4190 - accuracy: 0.8074\n",
      "Epoch 61/100\n",
      "2990/2990 [==============================] - 1s 230us/sample - loss: 0.4179 - accuracy: 0.8094\n",
      "Epoch 62/100\n",
      "2990/2990 [==============================] - 1s 218us/sample - loss: 0.4182 - accuracy: 0.8050\n",
      "Epoch 63/100\n",
      "2990/2990 [==============================] - 1s 262us/sample - loss: 0.4167 - accuracy: 0.8057 - loss: 0.4328 - accura\n",
      "Epoch 64/100\n",
      "2990/2990 [==============================] - 1s 347us/sample - loss: 0.4173 - accuracy: 0.8040\n",
      "Epoch 65/100\n",
      "2990/2990 [==============================] - 1s 251us/sample - loss: 0.4157 - accuracy: 0.8060\n",
      "Epoch 66/100\n",
      "2990/2990 [==============================] - 1s 242us/sample - loss: 0.4141 - accuracy: 0.8137\n",
      "Epoch 67/100\n",
      "2990/2990 [==============================] - 1s 383us/sample - loss: 0.4166 - accuracy: 0.8057\n",
      "Epoch 68/100\n",
      "2990/2990 [==============================] - 1s 383us/sample - loss: 0.4124 - accuracy: 0.8097\n",
      "Epoch 69/100\n",
      "2990/2990 [==============================] - 1s 408us/sample - loss: 0.4150 - accuracy: 0.8070\n",
      "Epoch 70/100\n",
      "2990/2990 [==============================] - 1s 401us/sample - loss: 0.4129 - accuracy: 0.8094\n",
      "Epoch 71/100\n",
      "2990/2990 [==============================] - 1s 381us/sample - loss: 0.4134 - accuracy: 0.8094\n",
      "Epoch 72/100\n",
      "2990/2990 [==============================] - 1s 355us/sample - loss: 0.4107 - accuracy: 0.8127\n",
      "Epoch 73/100\n",
      "2990/2990 [==============================] - 1s 345us/sample - loss: 0.4100 - accuracy: 0.8151\n",
      "Epoch 74/100\n",
      "2990/2990 [==============================] - 1s 347us/sample - loss: 0.4103 - accuracy: 0.8117\n",
      "Epoch 75/100\n",
      "2990/2990 [==============================] - 1s 347us/sample - loss: 0.4095 - accuracy: 0.8097\n",
      "Epoch 76/100\n"
     ]
    },
    {
     "name": "stdout",
     "output_type": "stream",
     "text": [
      "2990/2990 [==============================] - 1s 346us/sample - loss: 0.4088 - accuracy: 0.8161\n",
      "Epoch 77/100\n",
      "2990/2990 [==============================] - 1s 341us/sample - loss: 0.4076 - accuracy: 0.8130\n",
      "Epoch 78/100\n",
      "2990/2990 [==============================] - 1s 348us/sample - loss: 0.4077 - accuracy: 0.8137\n",
      "Epoch 79/100\n",
      "2990/2990 [==============================] - 1s 346us/sample - loss: 0.4071 - accuracy: 0.8147\n",
      "Epoch 80/100\n",
      "2990/2990 [==============================] - 1s 343us/sample - loss: 0.4053 - accuracy: 0.8134\n",
      "Epoch 81/100\n",
      "2990/2990 [==============================] - 1s 342us/sample - loss: 0.4046 - accuracy: 0.8184\n",
      "Epoch 82/100\n",
      "2990/2990 [==============================] - 1s 341us/sample - loss: 0.4044 - accuracy: 0.8147\n",
      "Epoch 83/100\n",
      "2990/2990 [==============================] - 1s 343us/sample - loss: 0.4040 - accuracy: 0.8167\n",
      "Epoch 84/100\n",
      "2990/2990 [==============================] - 1s 340us/sample - loss: 0.4044 - accuracy: 0.8157\n",
      "Epoch 85/100\n",
      "2990/2990 [==============================] - 1s 344us/sample - loss: 0.4034 - accuracy: 0.8130\n",
      "Epoch 86/100\n",
      "2990/2990 [==============================] - 1s 342us/sample - loss: 0.4036 - accuracy: 0.8161\n",
      "Epoch 87/100\n",
      "2990/2990 [==============================] - 1s 343us/sample - loss: 0.4022 - accuracy: 0.8130\n",
      "Epoch 88/100\n",
      "2990/2990 [==============================] - 1s 345us/sample - loss: 0.4014 - accuracy: 0.8177\n",
      "Epoch 89/100\n",
      "2990/2990 [==============================] - 1s 344us/sample - loss: 0.4014 - accuracy: 0.8191\n",
      "Epoch 90/100\n",
      "2990/2990 [==============================] - 1s 341us/sample - loss: 0.3982 - accuracy: 0.8211\n",
      "Epoch 91/100\n",
      "2990/2990 [==============================] - 1s 344us/sample - loss: 0.4004 - accuracy: 0.8214\n",
      "Epoch 92/100\n",
      "2990/2990 [==============================] - 1s 343us/sample - loss: 0.3996 - accuracy: 0.8191\n",
      "Epoch 93/100\n",
      "2990/2990 [==============================] - 1s 343us/sample - loss: 0.3985 - accuracy: 0.8174\n",
      "Epoch 94/100\n",
      "2990/2990 [==============================] - 1s 342us/sample - loss: 0.3987 - accuracy: 0.8157\n",
      "Epoch 95/100\n",
      "2990/2990 [==============================] - 1s 341us/sample - loss: 0.3983 - accuracy: 0.8197\n",
      "Epoch 96/100\n",
      "2990/2990 [==============================] - 1s 343us/sample - loss: 0.3953 - accuracy: 0.8214\n",
      "Epoch 97/100\n",
      "2990/2990 [==============================] - 1s 344us/sample - loss: 0.3954 - accuracy: 0.8217\n",
      "Epoch 98/100\n",
      "2990/2990 [==============================] - 1s 342us/sample - loss: 0.3966 - accuracy: 0.8140\n",
      "Epoch 99/100\n",
      "2990/2990 [==============================] - 1s 344us/sample - loss: 0.3944 - accuracy: 0.8167\n",
      "Epoch 100/100\n",
      "2990/2990 [==============================] - 1s 340us/sample - loss: 0.3956 - accuracy: 0.8207\n",
      "Classification Report: \n",
      "               precision    recall  f1-score   support\n",
      "\n",
      "           0       0.76      0.70      0.73       374\n",
      "           1       0.72      0.78      0.75       374\n",
      "\n",
      "    accuracy                           0.74       748\n",
      "   macro avg       0.74      0.74      0.74       748\n",
      "weighted avg       0.74      0.74      0.74       748\n",
      "\n"
     ]
    }
   ],
   "source": [
    "y_preds = ANN(X_train.values, y_train.values, X_test.values, y_test.values, 'binary_crossentropy', -1)"
   ]
  },
  {
   "cell_type": "code",
   "execution_count": 55,
   "metadata": {},
   "outputs": [],
   "source": [
    "# the precision, recall and f1-score for 1 class is improved than before"
   ]
  },
  {
   "cell_type": "markdown",
   "metadata": {},
   "source": [
    "### Method2: Oversampling"
   ]
  },
  {
   "cell_type": "code",
   "execution_count": 56,
   "metadata": {},
   "outputs": [
    {
     "name": "stdout",
     "output_type": "stream",
     "text": [
      "Random over-sampling:\n",
      "1    5163\n",
      "0    5163\n",
      "Name: Churn, dtype: int64\n"
     ]
    }
   ],
   "source": [
    "# oversample 1-class to the samples equal to class-0 class\n",
    "# Oversample 1-class and concat the DataFrames of both classes\n",
    "# by providing replace=True it will duplicate the samples\n",
    "\n",
    "df_class_1_over = df_class_1.sample(count_class_0, replace=True)\n",
    "df_over = pd.concat([df_class_0, df_class_1_over], ignore_index=True, axis=0)\n",
    "\n",
    "print('Random over-sampling:')\n",
    "print(df_over.Churn.value_counts())"
   ]
  },
  {
   "cell_type": "code",
   "execution_count": 57,
   "metadata": {},
   "outputs": [
    {
     "data": {
      "text/plain": [
       "(10326, 27)"
      ]
     },
     "execution_count": 57,
     "metadata": {},
     "output_type": "execute_result"
    }
   ],
   "source": [
    "df_over.shape "
   ]
  },
  {
   "cell_type": "code",
   "execution_count": 58,
   "metadata": {},
   "outputs": [
    {
     "data": {
      "text/plain": [
       "10326"
      ]
     },
     "execution_count": 58,
     "metadata": {},
     "output_type": "execute_result"
    }
   ],
   "source": [
    "count_class_0 + count_class_0"
   ]
  },
  {
   "cell_type": "code",
   "execution_count": 59,
   "metadata": {},
   "outputs": [],
   "source": [
    "X = df_over.drop('Churn',axis='columns')\n",
    "y = df_over['Churn']\n",
    "\n",
    "from sklearn.model_selection import train_test_split\n",
    "X_train, X_test, y_train, y_test = train_test_split(X, y, test_size=0.2, random_state=15, stratify=y)"
   ]
  },
  {
   "cell_type": "code",
   "execution_count": 60,
   "metadata": {},
   "outputs": [
    {
     "data": {
      "text/plain": [
       "1    4130\n",
       "0    4130\n",
       "Name: Churn, dtype: int64"
      ]
     },
     "execution_count": 60,
     "metadata": {},
     "output_type": "execute_result"
    }
   ],
   "source": [
    "# Number of classes in training Data data is distributed equally\n",
    "y_train.value_counts()"
   ]
  },
  {
   "cell_type": "code",
   "execution_count": 61,
   "metadata": {},
   "outputs": [
    {
     "data": {
      "text/plain": [
       "1    1033\n",
       "0    1033\n",
       "Name: Churn, dtype: int64"
      ]
     },
     "execution_count": 61,
     "metadata": {},
     "output_type": "execute_result"
    }
   ],
   "source": [
    "y_test.value_counts()"
   ]
  },
  {
   "cell_type": "code",
   "execution_count": 62,
   "metadata": {
    "scrolled": true
   },
   "outputs": [
    {
     "name": "stdout",
     "output_type": "stream",
     "text": [
      "Train on 8260 samples\n",
      "Epoch 1/100\n",
      "8260/8260 [==============================] - 3s 348us/sample - loss: 0.5481 - accuracy: 0.7252\n",
      "Epoch 2/100\n",
      "8260/8260 [==============================] - 2s 220us/sample - loss: 0.4949 - accuracy: 0.7581\n",
      "Epoch 3/100\n",
      "8260/8260 [==============================] - 3s 319us/sample - loss: 0.4861 - accuracy: 0.7655\n",
      "Epoch 4/100\n",
      "8260/8260 [==============================] - 3s 347us/sample - loss: 0.4801 - accuracy: 0.7676\n",
      "Epoch 5/100\n",
      "8260/8260 [==============================] - 3s 357us/sample - loss: 0.4762 - accuracy: 0.7701\n",
      "Epoch 6/100\n",
      "8260/8260 [==============================] - 2s 284us/sample - loss: 0.4728 - accuracy: 0.7726\n",
      "Epoch 7/100\n",
      "8260/8260 [==============================] - 2s 297us/sample - loss: 0.4688 - accuracy: 0.7755\n",
      "Epoch 8/100\n",
      "8260/8260 [==============================] - 2s 239us/sample - loss: 0.4658 - accuracy: 0.7747\n",
      "Epoch 9/100\n",
      "8260/8260 [==============================] - 2s 239us/sample - loss: 0.4629 - accuracy: 0.7772\n",
      "Epoch 10/100\n",
      "8260/8260 [==============================] - 2s 263us/sample - loss: 0.4594 - accuracy: 0.7787\n",
      "Epoch 11/100\n",
      "8260/8260 [==============================] - 2s 295us/sample - loss: 0.4562 - accuracy: 0.7811\n",
      "Epoch 12/100\n",
      "8260/8260 [==============================] - 3s 332us/sample - loss: 0.4528 - accuracy: 0.7823\n",
      "Epoch 13/100\n",
      "8260/8260 [==============================] - 3s 306us/sample - loss: 0.4482 - accuracy: 0.7862\n",
      "Epoch 14/100\n",
      "8260/8260 [==============================] - 2s 286us/sample - loss: 0.4487 - accuracy: 0.7862\n",
      "Epoch 15/100\n",
      "8260/8260 [==============================] - 2s 298us/sample - loss: 0.4438 - accuracy: 0.7885\n",
      "Epoch 16/100\n",
      "8260/8260 [==============================] - 3s 343us/sample - loss: 0.4411 - accuracy: 0.7943\n",
      "Epoch 17/100\n",
      "8260/8260 [==============================] - 3s 343us/sample - loss: 0.4395 - accuracy: 0.7931\n",
      "Epoch 18/100\n",
      "8260/8260 [==============================] - 3s 343us/sample - loss: 0.4367 - accuracy: 0.7948\n",
      "Epoch 19/100\n",
      "8260/8260 [==============================] - 3s 343us/sample - loss: 0.4340 - accuracy: 0.7972\n",
      "Epoch 20/100\n",
      "8260/8260 [==============================] - 3s 344us/sample - loss: 0.4314 - accuracy: 0.7972\n",
      "Epoch 21/100\n",
      "8260/8260 [==============================] - 3s 341us/sample - loss: 0.4321 - accuracy: 0.7962\n",
      "Epoch 22/100\n",
      "8260/8260 [==============================] - 3s 341us/sample - loss: 0.4282 - accuracy: 0.8015\n",
      "Epoch 23/100\n",
      "8260/8260 [==============================] - 3s 341us/sample - loss: 0.4282 - accuracy: 0.8019\n",
      "Epoch 24/100\n",
      "8260/8260 [==============================] - 3s 345us/sample - loss: 0.4257 - accuracy: 0.7996\n",
      "Epoch 25/100\n",
      "8260/8260 [==============================] - 3s 344us/sample - loss: 0.4232 - accuracy: 0.8027\n",
      "Epoch 26/100\n",
      "8260/8260 [==============================] - 3s 349us/sample - loss: 0.4217 - accuracy: 0.8031\n",
      "Epoch 27/100\n",
      "8260/8260 [==============================] - 3s 343us/sample - loss: 0.4219 - accuracy: 0.8054\n",
      "Epoch 28/100\n",
      "8260/8260 [==============================] - 3s 343us/sample - loss: 0.4193 - accuracy: 0.8068\n",
      "Epoch 29/100\n",
      "8260/8260 [==============================] - 3s 342us/sample - loss: 0.4185 - accuracy: 0.8050\n",
      "Epoch 30/100\n",
      "8260/8260 [==============================] - 3s 344us/sample - loss: 0.4166 - accuracy: 0.8059\n",
      "Epoch 31/100\n",
      "8260/8260 [==============================] - 3s 344us/sample - loss: 0.4156 - accuracy: 0.8069\n",
      "Epoch 32/100\n",
      "8260/8260 [==============================] - 3s 344us/sample - loss: 0.4133 - accuracy: 0.8070\n",
      "Epoch 33/100\n",
      "8260/8260 [==============================] - 3s 342us/sample - loss: 0.4126 - accuracy: 0.8080\n",
      "Epoch 34/100\n",
      "8260/8260 [==============================] - 3s 342us/sample - loss: 0.4129 - accuracy: 0.8090\n",
      "Epoch 35/100\n",
      "8260/8260 [==============================] - 3s 344us/sample - loss: 0.4104 - accuracy: 0.8107\n",
      "Epoch 36/100\n",
      "8260/8260 [==============================] - 3s 343us/sample - loss: 0.4086 - accuracy: 0.8102\n",
      "Epoch 37/100\n",
      "8260/8260 [==============================] - 3s 344us/sample - loss: 0.4082 - accuracy: 0.8096\n",
      "Epoch 38/100\n",
      "8260/8260 [==============================] - 3s 343us/sample - loss: 0.4065 - accuracy: 0.8096\n",
      "Epoch 39/100\n",
      "8260/8260 [==============================] - 3s 341us/sample - loss: 0.4069 - accuracy: 0.8102\n",
      "Epoch 40/100\n",
      "8260/8260 [==============================] - 3s 344us/sample - loss: 0.4042 - accuracy: 0.8109\n",
      "Epoch 41/100\n",
      "8260/8260 [==============================] - 3s 342us/sample - loss: 0.4030 - accuracy: 0.8119\n",
      "Epoch 42/100\n",
      "8260/8260 [==============================] - 3s 343us/sample - loss: 0.4018 - accuracy: 0.8119\n",
      "Epoch 43/100\n",
      "8260/8260 [==============================] - 3s 343us/sample - loss: 0.4011 - accuracy: 0.8132\n",
      "Epoch 44/100\n",
      "8260/8260 [==============================] - 3s 344us/sample - loss: 0.4001 - accuracy: 0.8146\n",
      "Epoch 45/100\n",
      "8260/8260 [==============================] - 3s 346us/sample - loss: 0.3998 - accuracy: 0.8146\n",
      "Epoch 46/100\n",
      "8260/8260 [==============================] - 3s 348us/sample - loss: 0.3994 - accuracy: 0.8172\n",
      "Epoch 47/100\n",
      "8260/8260 [==============================] - 3s 345us/sample - loss: 0.3976 - accuracy: 0.8134\n",
      "Epoch 48/100\n",
      "8260/8260 [==============================] - 3s 344us/sample - loss: 0.3959 - accuracy: 0.8163\n",
      "Epoch 49/100\n",
      "8260/8260 [==============================] - 3s 344us/sample - loss: 0.3950 - accuracy: 0.8178\n",
      "Epoch 50/100\n",
      "8260/8260 [==============================] - 3s 343us/sample - loss: 0.3939 - accuracy: 0.8185\n",
      "Epoch 51/100\n",
      "8260/8260 [==============================] - 3s 343us/sample - loss: 0.3926 - accuracy: 0.8195\n",
      "Epoch 52/100\n",
      "8260/8260 [==============================] - 3s 347us/sample - loss: 0.3931 - accuracy: 0.8185\n",
      "Epoch 53/100\n",
      "8260/8260 [==============================] - 3s 351us/sample - loss: 0.3920 - accuracy: 0.8191\n",
      "Epoch 54/100\n",
      "8260/8260 [==============================] - 3s 342us/sample - loss: 0.3910 - accuracy: 0.8188\n",
      "Epoch 55/100\n",
      "8260/8260 [==============================] - 3s 344us/sample - loss: 0.3895 - accuracy: 0.8194\n",
      "Epoch 56/100\n",
      "8260/8260 [==============================] - 3s 334us/sample - loss: 0.3897 - accuracy: 0.8194\n",
      "Epoch 57/100\n",
      "8260/8260 [==============================] - 3s 329us/sample - loss: 0.3883 - accuracy: 0.8229\n",
      "Epoch 58/100\n",
      "8260/8260 [==============================] - 3s 344us/sample - loss: 0.3864 - accuracy: 0.8217\n",
      "Epoch 59/100\n",
      "8260/8260 [==============================] - 3s 346us/sample - loss: 0.3863 - accuracy: 0.8214\n",
      "Epoch 60/100\n",
      "8260/8260 [==============================] - 3s 344us/sample - loss: 0.3843 - accuracy: 0.8251\n",
      "Epoch 61/100\n",
      "8260/8260 [==============================] - 3s 345us/sample - loss: 0.3854 - accuracy: 0.8241\n",
      "Epoch 62/100\n",
      "8260/8260 [==============================] - 3s 344us/sample - loss: 0.3828 - accuracy: 0.8248\n",
      "Epoch 63/100\n",
      "8260/8260 [==============================] - 3s 345us/sample - loss: 0.3836 - accuracy: 0.8247\n",
      "Epoch 64/100\n",
      "8260/8260 [==============================] - 2s 284us/sample - loss: 0.3826 - accuracy: 0.8265\n",
      "Epoch 65/100\n",
      "8260/8260 [==============================] - 2s 222us/sample - loss: 0.3814 - accuracy: 0.8269\n",
      "Epoch 66/100\n",
      "8260/8260 [==============================] - 2s 292us/sample - loss: 0.3817 - accuracy: 0.8270\n",
      "Epoch 67/100\n",
      "8260/8260 [==============================] - 3s 318us/sample - loss: 0.3791 - accuracy: 0.8251\n",
      "Epoch 68/100\n",
      "8260/8260 [==============================] - 2s 295us/sample - loss: 0.3791 - accuracy: 0.8259\n",
      "Epoch 69/100\n",
      "8260/8260 [==============================] - 2s 233us/sample - loss: 0.3786 - accuracy: 0.8277\n",
      "Epoch 70/100\n",
      "8260/8260 [==============================] - 3s 343us/sample - loss: 0.3771 - accuracy: 0.8294\n",
      "Epoch 71/100\n",
      "8260/8260 [==============================] - 3s 342us/sample - loss: 0.3764 - accuracy: 0.8268\n",
      "Epoch 72/100\n",
      "8260/8260 [==============================] - 3s 343us/sample - loss: 0.3758 - accuracy: 0.8298\n",
      "Epoch 73/100\n",
      "8260/8260 [==============================] - 3s 344us/sample - loss: 0.3763 - accuracy: 0.8310\n",
      "Epoch 74/100\n",
      "8260/8260 [==============================] - 3s 344us/sample - loss: 0.3743 - accuracy: 0.8317\n",
      "Epoch 75/100\n",
      "8260/8260 [==============================] - 3s 343us/sample - loss: 0.3738 - accuracy: 0.8282\n",
      "Epoch 76/100\n"
     ]
    },
    {
     "name": "stdout",
     "output_type": "stream",
     "text": [
      "8260/8260 [==============================] - 3s 344us/sample - loss: 0.3724 - accuracy: 0.8320\n",
      "Epoch 77/100\n",
      "8260/8260 [==============================] - 3s 342us/sample - loss: 0.3718 - accuracy: 0.8322\n",
      "Epoch 78/100\n",
      "8260/8260 [==============================] - 3s 345us/sample - loss: 0.3711 - accuracy: 0.8314\n",
      "Epoch 79/100\n",
      "8260/8260 [==============================] - 3s 344us/sample - loss: 0.3709 - accuracy: 0.8332\n",
      "Epoch 80/100\n",
      "8260/8260 [==============================] - 3s 343us/sample - loss: 0.3703 - accuracy: 0.8322\n",
      "Epoch 81/100\n",
      "8260/8260 [==============================] - 3s 344us/sample - loss: 0.3708 - accuracy: 0.8300\n",
      "Epoch 82/100\n",
      "8260/8260 [==============================] - 3s 351us/sample - loss: 0.3700 - accuracy: 0.8299\n",
      "Epoch 83/100\n",
      "8260/8260 [==============================] - 3s 356us/sample - loss: 0.3673 - accuracy: 0.8358\n",
      "Epoch 84/100\n",
      "8260/8260 [==============================] - 2s 292us/sample - loss: 0.3663 - accuracy: 0.8338\n",
      "Epoch 85/100\n",
      "8260/8260 [==============================] - 2s 234us/sample - loss: 0.3666 - accuracy: 0.8364\n",
      "Epoch 86/100\n",
      "8260/8260 [==============================] - 2s 296us/sample - loss: 0.3649 - accuracy: 0.8360\n",
      "Epoch 87/100\n",
      "8260/8260 [==============================] - 3s 327us/sample - loss: 0.3657 - accuracy: 0.8356\n",
      "Epoch 88/100\n",
      "8260/8260 [==============================] - 3s 311us/sample - loss: 0.3643 - accuracy: 0.8338\n",
      "Epoch 89/100\n",
      "8260/8260 [==============================] - 2s 269us/sample - loss: 0.3650 - accuracy: 0.8375\n",
      "Epoch 90/100\n",
      "8260/8260 [==============================] - 2s 258us/sample - loss: 0.3650 - accuracy: 0.8329\n",
      "Epoch 91/100\n",
      "8260/8260 [==============================] - 3s 339us/sample - loss: 0.3653 - accuracy: 0.8347\n",
      "Epoch 92/100\n",
      "8260/8260 [==============================] - 2s 278us/sample - loss: 0.3631 - accuracy: 0.8355\n",
      "Epoch 93/100\n",
      "8260/8260 [==============================] - 2s 248us/sample - loss: 0.3617 - accuracy: 0.8360\n",
      "Epoch 94/100\n",
      "8260/8260 [==============================] - 3s 331us/sample - loss: 0.3593 - accuracy: 0.8358\n",
      "Epoch 95/100\n",
      "8260/8260 [==============================] - 3s 342us/sample - loss: 0.3604 - accuracy: 0.8363\n",
      "Epoch 96/100\n",
      "8260/8260 [==============================] - 3s 343us/sample - loss: 0.3601 - accuracy: 0.8383\n",
      "Epoch 97/100\n",
      "8260/8260 [==============================] - 3s 344us/sample - loss: 0.3590 - accuracy: 0.8400\n",
      "Epoch 98/100\n",
      "8260/8260 [==============================] - 3s 343us/sample - loss: 0.3589 - accuracy: 0.8393\n",
      "Epoch 99/100\n",
      "8260/8260 [==============================] - 3s 340us/sample - loss: 0.3589 - accuracy: 0.8380\n",
      "Epoch 100/100\n",
      "8260/8260 [==============================] - 3s 342us/sample - loss: 0.3598 - accuracy: 0.8361\n",
      "Classification Report: \n",
      "               precision    recall  f1-score   support\n",
      "\n",
      "           0       0.87      0.68      0.76      1033\n",
      "           1       0.73      0.90      0.81      1033\n",
      "\n",
      "    accuracy                           0.79      2066\n",
      "   macro avg       0.80      0.79      0.78      2066\n",
      "weighted avg       0.80      0.79      0.78      2066\n",
      "\n"
     ]
    }
   ],
   "source": [
    "loss = keras.losses.BinaryCrossentropy()\n",
    "weights = -1\n",
    "y_preds = ANN(X_train.values, y_train.values, X_test.values, y_test.values, 'binary_crossentropy', -1)"
   ]
  },
  {
   "cell_type": "code",
   "execution_count": 63,
   "metadata": {},
   "outputs": [],
   "source": [
    "# the overall accuracy remains same but precision, recall and f1-score for class-1 is increased"
   ]
  },
  {
   "cell_type": "code",
   "execution_count": 64,
   "metadata": {},
   "outputs": [
    {
     "data": {
      "text/plain": [
       "array([1., 0., 1., ..., 1., 0., 1.], dtype=float32)"
      ]
     },
     "execution_count": 64,
     "metadata": {},
     "output_type": "execute_result"
    }
   ],
   "source": [
    "y_preds.reshape(-1)"
   ]
  },
  {
   "cell_type": "markdown",
   "metadata": {},
   "source": [
    "### Method3: SMOTE"
   ]
  },
  {
   "cell_type": "markdown",
   "metadata": {},
   "source": [
    "To install imbalanced-learn library use **pip install imbalanced-learn** command"
   ]
  },
  {
   "cell_type": "code",
   "execution_count": 66,
   "metadata": {},
   "outputs": [],
   "source": [
    "# smote is similar to oversampling the samples equal to majority of class\n",
    "# but it not produce duplicates instead it produce synthetic samples equal to majority class samples\n",
    "# smote produces new samples out of current samples it will simply duplicate the samples\n",
    "# it uses k-nearest-neighbours algo"
   ]
  },
  {
   "cell_type": "code",
   "execution_count": 67,
   "metadata": {},
   "outputs": [],
   "source": [
    "X = df2.drop('Churn',axis='columns')\n",
    "y = df2['Churn']"
   ]
  },
  {
   "cell_type": "code",
   "execution_count": 68,
   "metadata": {},
   "outputs": [
    {
     "data": {
      "text/plain": [
       "0    5163\n",
       "1    1869\n",
       "Name: Churn, dtype: int64"
      ]
     },
     "execution_count": 68,
     "metadata": {},
     "output_type": "execute_result"
    }
   ],
   "source": [
    "y.value_counts()"
   ]
  },
  {
   "cell_type": "code",
   "execution_count": 69,
   "metadata": {},
   "outputs": [
    {
     "data": {
      "text/plain": [
       "1    5163\n",
       "0    5163\n",
       "Name: Churn, dtype: int64"
      ]
     },
     "execution_count": 69,
     "metadata": {},
     "output_type": "execute_result"
    }
   ],
   "source": [
    "# now smote will oversample class-1 to 5163 samples\n",
    "from imblearn.over_sampling import SMOTE\n",
    "\n",
    "smote = SMOTE(sampling_strategy='minority')\n",
    "X_sm, y_sm = smote.fit_resample(X, y)\n",
    "\n",
    "y_sm.value_counts()"
   ]
  },
  {
   "cell_type": "code",
   "execution_count": 70,
   "metadata": {},
   "outputs": [
    {
     "data": {
      "text/plain": [
       "pandas.core.frame.DataFrame"
      ]
     },
     "execution_count": 70,
     "metadata": {},
     "output_type": "execute_result"
    }
   ],
   "source": [
    "type(X_sm)"
   ]
  },
  {
   "cell_type": "code",
   "execution_count": 71,
   "metadata": {},
   "outputs": [],
   "source": [
    "from sklearn.model_selection import train_test_split\n",
    "X_train, X_test, y_train, y_test = train_test_split(X_sm, y_sm, test_size=0.2, random_state=15, stratify=y_sm)"
   ]
  },
  {
   "cell_type": "code",
   "execution_count": 72,
   "metadata": {
    "scrolled": true
   },
   "outputs": [
    {
     "data": {
      "text/plain": [
       "1    4130\n",
       "0    4130\n",
       "Name: Churn, dtype: int64"
      ]
     },
     "execution_count": 72,
     "metadata": {},
     "output_type": "execute_result"
    }
   ],
   "source": [
    "# Number of classes in training Data\n",
    "y_train.value_counts()"
   ]
  },
  {
   "cell_type": "code",
   "execution_count": 73,
   "metadata": {},
   "outputs": [
    {
     "data": {
      "text/plain": [
       "1    1033\n",
       "0    1033\n",
       "Name: Churn, dtype: int64"
      ]
     },
     "execution_count": 73,
     "metadata": {},
     "output_type": "execute_result"
    }
   ],
   "source": [
    "y_test.value_counts()"
   ]
  },
  {
   "cell_type": "code",
   "execution_count": 74,
   "metadata": {
    "scrolled": true
   },
   "outputs": [
    {
     "name": "stdout",
     "output_type": "stream",
     "text": [
      "Train on 8260 samples\n",
      "Epoch 1/100\n",
      "8260/8260 [==============================] - 3s 335us/sample - loss: 0.5434 - accuracy: 0.7241\n",
      "Epoch 2/100\n",
      "8260/8260 [==============================] - 2s 257us/sample - loss: 0.4732 - accuracy: 0.7763\n",
      "Epoch 3/100\n",
      "8260/8260 [==============================] - 3s 344us/sample - loss: 0.4638 - accuracy: 0.7798\n",
      "Epoch 4/100\n",
      "8260/8260 [==============================] - 3s 348us/sample - loss: 0.4556 - accuracy: 0.7873\n",
      "Epoch 5/100\n",
      "8260/8260 [==============================] - 3s 344us/sample - loss: 0.4491 - accuracy: 0.7926\n",
      "Epoch 6/100\n",
      "8260/8260 [==============================] - 3s 346us/sample - loss: 0.4457 - accuracy: 0.7931\n",
      "Epoch 7/100\n",
      "8260/8260 [==============================] - 3s 307us/sample - loss: 0.4402 - accuracy: 0.7933\n",
      "Epoch 8/100\n",
      "8260/8260 [==============================] - 2s 239us/sample - loss: 0.4360 - accuracy: 0.8000\n",
      "Epoch 9/100\n",
      "8260/8260 [==============================] - 2s 300us/sample - loss: 0.4318 - accuracy: 0.8031\n",
      "Epoch 10/100\n",
      "8260/8260 [==============================] - 3s 401us/sample - loss: 0.4287 - accuracy: 0.8011\n",
      "Epoch 11/100\n",
      "8260/8260 [==============================] - 3s 404us/sample - loss: 0.4247 - accuracy: 0.8051\n",
      "Epoch 12/100\n",
      "8260/8260 [==============================] - 3s 401us/sample - loss: 0.4202 - accuracy: 0.8085\n",
      "Epoch 13/100\n",
      "8260/8260 [==============================] - 3s 402us/sample - loss: 0.4173 - accuracy: 0.8092\n",
      "Epoch 14/100\n",
      "8260/8260 [==============================] - 3s 399us/sample - loss: 0.4155 - accuracy: 0.8096\n",
      "Epoch 15/100\n",
      "8260/8260 [==============================] - 3s 403us/sample - loss: 0.4108 - accuracy: 0.8151\n",
      "Epoch 16/100\n",
      "8260/8260 [==============================] - 3s 401us/sample - loss: 0.4080 - accuracy: 0.8183\n",
      "Epoch 17/100\n",
      "8260/8260 [==============================] - 3s 400us/sample - loss: 0.4053 - accuracy: 0.8176\n",
      "Epoch 18/100\n",
      "8260/8260 [==============================] - 3s 403us/sample - loss: 0.4025 - accuracy: 0.8196\n",
      "Epoch 19/100\n",
      "8260/8260 [==============================] - 3s 399us/sample - loss: 0.3999 - accuracy: 0.8218\n",
      "Epoch 20/100\n",
      "8260/8260 [==============================] - 3s 403us/sample - loss: 0.3977 - accuracy: 0.8189\n",
      "Epoch 21/100\n",
      "8260/8260 [==============================] - 3s 396us/sample - loss: 0.3967 - accuracy: 0.8223\n",
      "Epoch 22/100\n",
      "8260/8260 [==============================] - 3s 401us/sample - loss: 0.3923 - accuracy: 0.8262\n",
      "Epoch 23/100\n",
      "8260/8260 [==============================] - 3s 402us/sample - loss: 0.3921 - accuracy: 0.8265\n",
      "Epoch 24/100\n",
      "8260/8260 [==============================] - 3s 403us/sample - loss: 0.3906 - accuracy: 0.8275\n",
      "Epoch 25/100\n",
      "8260/8260 [==============================] - 3s 401us/sample - loss: 0.3880 - accuracy: 0.8264\n",
      "Epoch 26/100\n",
      "8260/8260 [==============================] - 3s 404us/sample - loss: 0.3863 - accuracy: 0.8311\n",
      "Epoch 27/100\n",
      "8260/8260 [==============================] - 3s 400us/sample - loss: 0.3851 - accuracy: 0.8309\n",
      "Epoch 28/100\n",
      "8260/8260 [==============================] - 3s 400us/sample - loss: 0.3846 - accuracy: 0.8312\n",
      "Epoch 29/100\n",
      "8260/8260 [==============================] - 3s 404us/sample - loss: 0.3819 - accuracy: 0.8329\n",
      "Epoch 30/100\n",
      "8260/8260 [==============================] - 3s 403us/sample - loss: 0.3802 - accuracy: 0.8339\n",
      "Epoch 31/100\n",
      "8260/8260 [==============================] - 3s 383us/sample - loss: 0.3789 - accuracy: 0.8335\n",
      "Epoch 32/100\n",
      "8260/8260 [==============================] - 3s 348us/sample - loss: 0.3784 - accuracy: 0.8349\n",
      "Epoch 33/100\n",
      "8260/8260 [==============================] - 2s 300us/sample - loss: 0.3760 - accuracy: 0.8334\n",
      "Epoch 34/100\n",
      "8260/8260 [==============================] - 2s 298us/sample - loss: 0.3757 - accuracy: 0.8363\n",
      "Epoch 35/100\n",
      "8260/8260 [==============================] - 2s 244us/sample - loss: 0.3753 - accuracy: 0.8340\n",
      "Epoch 36/100\n",
      "8260/8260 [==============================] - 3s 335us/sample - loss: 0.3736 - accuracy: 0.8364\n",
      "Epoch 37/100\n",
      "8260/8260 [==============================] - 3s 346us/sample - loss: 0.3735 - accuracy: 0.8377\n",
      "Epoch 38/100\n",
      "8260/8260 [==============================] - 3s 344us/sample - loss: 0.3722 - accuracy: 0.8362\n",
      "Epoch 39/100\n",
      "8260/8260 [==============================] - 3s 349us/sample - loss: 0.3707 - accuracy: 0.8396\n",
      "Epoch 40/100\n",
      "8260/8260 [==============================] - 3s 356us/sample - loss: 0.3697 - accuracy: 0.8381\n",
      "Epoch 41/100\n",
      "8260/8260 [==============================] - 3s 304us/sample - loss: 0.3688 - accuracy: 0.8413\n",
      "Epoch 42/100\n",
      "8260/8260 [==============================] - 2s 281us/sample - loss: 0.3691 - accuracy: 0.8380\n",
      "Epoch 43/100\n",
      "8260/8260 [==============================] - 2s 232us/sample - loss: 0.3661 - accuracy: 0.8416\n",
      "Epoch 44/100\n",
      "8260/8260 [==============================] - 3s 304us/sample - loss: 0.3656 - accuracy: 0.8409\n",
      "Epoch 45/100\n",
      "8260/8260 [==============================] - 3s 350us/sample - loss: 0.3657 - accuracy: 0.8415\n",
      "Epoch 46/100\n",
      "8260/8260 [==============================] - 3s 400us/sample - loss: 0.3643 - accuracy: 0.8390\n",
      "Epoch 47/100\n",
      "8260/8260 [==============================] - 3s 400us/sample - loss: 0.3646 - accuracy: 0.8390\n",
      "Epoch 48/100\n",
      "8260/8260 [==============================] - 3s 399us/sample - loss: 0.3635 - accuracy: 0.8437\n",
      "Epoch 49/100\n",
      "8260/8260 [==============================] - 3s 411us/sample - loss: 0.3629 - accuracy: 0.8413\n",
      "Epoch 50/100\n",
      "8260/8260 [==============================] - 3s 369us/sample - loss: 0.3610 - accuracy: 0.8421\n",
      "Epoch 51/100\n",
      "8260/8260 [==============================] - 3s 407us/sample - loss: 0.3614 - accuracy: 0.8427\n",
      "Epoch 52/100\n",
      "8260/8260 [==============================] - 3s 344us/sample - loss: 0.3636 - accuracy: 0.8421\n",
      "Epoch 53/100\n",
      "8260/8260 [==============================] - 3s 366us/sample - loss: 0.3586 - accuracy: 0.8466\n",
      "Epoch 54/100\n",
      "8260/8260 [==============================] - 2s 290us/sample - loss: 0.3608 - accuracy: 0.8436\n",
      "Epoch 55/100\n",
      "8260/8260 [==============================] - 2s 280us/sample - loss: 0.3581 - accuracy: 0.8431\n",
      "Epoch 56/100\n",
      "8260/8260 [==============================] - 2s 298us/sample - loss: 0.3584 - accuracy: 0.8462\n",
      "Epoch 57/100\n",
      "8260/8260 [==============================] - 2s 288us/sample - loss: 0.3579 - accuracy: 0.8449\n",
      "Epoch 58/100\n",
      "8260/8260 [==============================] - 2s 278us/sample - loss: 0.3588 - accuracy: 0.8460\n",
      "Epoch 59/100\n",
      "8260/8260 [==============================] - 3s 306us/sample - loss: 0.3561 - accuracy: 0.8459\n",
      "Epoch 60/100\n",
      "8260/8260 [==============================] - 3s 344us/sample - loss: 0.3554 - accuracy: 0.8479\n",
      "Epoch 61/100\n",
      "8260/8260 [==============================] - 3s 345us/sample - loss: 0.3541 - accuracy: 0.8444\n",
      "Epoch 62/100\n",
      "8260/8260 [==============================] - 3s 348us/sample - loss: 0.3533 - accuracy: 0.8485\n",
      "Epoch 63/100\n",
      "8260/8260 [==============================] - 3s 345us/sample - loss: 0.3541 - accuracy: 0.8458\n",
      "Epoch 64/100\n",
      "8260/8260 [==============================] - 2s 302us/sample - loss: 0.3534 - accuracy: 0.8489\n",
      "Epoch 65/100\n",
      "8260/8260 [==============================] - 3s 341us/sample - loss: 0.3508 - accuracy: 0.8454\n",
      "Epoch 66/100\n",
      "8260/8260 [==============================] - 3s 381us/sample - loss: 0.3506 - accuracy: 0.8471\n",
      "Epoch 67/100\n",
      "8260/8260 [==============================] - 3s 387us/sample - loss: 0.3518 - accuracy: 0.8484\n",
      "Epoch 68/100\n",
      "8260/8260 [==============================] - 3s 384us/sample - loss: 0.3517 - accuracy: 0.8498\n",
      "Epoch 69/100\n",
      "8260/8260 [==============================] - 3s 387us/sample - loss: 0.3492 - accuracy: 0.8492\n",
      "Epoch 70/100\n",
      "8260/8260 [==============================] - 3s 404us/sample - loss: 0.3508 - accuracy: 0.8505\n",
      "Epoch 71/100\n",
      "8260/8260 [==============================] - 3s 372us/sample - loss: 0.3490 - accuracy: 0.8484\n",
      "Epoch 72/100\n",
      "8260/8260 [==============================] - 3s 327us/sample - loss: 0.3486 - accuracy: 0.8513\n",
      "Epoch 73/100\n",
      "8260/8260 [==============================] - 3s 404us/sample - loss: 0.3475 - accuracy: 0.8501\n",
      "Epoch 74/100\n",
      "8260/8260 [==============================] - 3s 399us/sample - loss: 0.3463 - accuracy: 0.8538\n",
      "Epoch 75/100\n",
      "8260/8260 [==============================] - 3s 401us/sample - loss: 0.3472 - accuracy: 0.8516\n",
      "Epoch 76/100\n"
     ]
    },
    {
     "name": "stdout",
     "output_type": "stream",
     "text": [
      "8260/8260 [==============================] - 3s 378us/sample - loss: 0.3466 - accuracy: 0.8487\n",
      "Epoch 77/100\n",
      "8260/8260 [==============================] - 3s 345us/sample - loss: 0.3464 - accuracy: 0.8489\n",
      "Epoch 78/100\n",
      "8260/8260 [==============================] - 3s 338us/sample - loss: 0.3428 - accuracy: 0.8525\n",
      "Epoch 79/100\n",
      "8260/8260 [==============================] - 3s 364us/sample - loss: 0.3451 - accuracy: 0.8517\n",
      "Epoch 80/100\n",
      "8260/8260 [==============================] - 3s 392us/sample - loss: 0.3435 - accuracy: 0.8523\n",
      "Epoch 81/100\n",
      "8260/8260 [==============================] - 3s 396us/sample - loss: 0.3441 - accuracy: 0.8512\n",
      "Epoch 82/100\n",
      "8260/8260 [==============================] - 3s 412us/sample - loss: 0.3430 - accuracy: 0.8505\n",
      "Epoch 83/100\n",
      "8260/8260 [==============================] - 3s 388us/sample - loss: 0.3441 - accuracy: 0.8512\n",
      "Epoch 84/100\n",
      "8260/8260 [==============================] - 3s 397us/sample - loss: 0.3424 - accuracy: 0.8527\n",
      "Epoch 85/100\n",
      "8260/8260 [==============================] - 3s 398us/sample - loss: 0.3431 - accuracy: 0.8536\n",
      "Epoch 86/100\n",
      "8260/8260 [==============================] - 3s 403us/sample - loss: 0.3428 - accuracy: 0.8533\n",
      "Epoch 87/100\n",
      "8260/8260 [==============================] - 3s 355us/sample - loss: 0.3418 - accuracy: 0.8524\n",
      "Epoch 88/100\n",
      "8260/8260 [==============================] - 3s 390us/sample - loss: 0.3405 - accuracy: 0.8548\n",
      "Epoch 89/100\n",
      "8260/8260 [==============================] - 3s 351us/sample - loss: 0.3423 - accuracy: 0.8502\n",
      "Epoch 90/100\n",
      "8260/8260 [==============================] - 3s 347us/sample - loss: 0.3384 - accuracy: 0.8541\n",
      "Epoch 91/100\n",
      "8260/8260 [==============================] - 3s 345us/sample - loss: 0.3419 - accuracy: 0.8538\n",
      "Epoch 92/100\n",
      "8260/8260 [==============================] - 3s 348us/sample - loss: 0.3400 - accuracy: 0.8531\n",
      "Epoch 93/100\n",
      "8260/8260 [==============================] - 3s 344us/sample - loss: 0.3382 - accuracy: 0.8553\n",
      "Epoch 94/100\n",
      "8260/8260 [==============================] - 3s 345us/sample - loss: 0.3375 - accuracy: 0.8539\n",
      "Epoch 95/100\n",
      "8260/8260 [==============================] - 3s 344us/sample - loss: 0.3405 - accuracy: 0.8525\n",
      "Epoch 96/100\n",
      "8260/8260 [==============================] - 2s 269us/sample - loss: 0.3381 - accuracy: 0.8554\n",
      "Epoch 97/100\n",
      "8260/8260 [==============================] - 2s 298us/sample - loss: 0.3371 - accuracy: 0.8553\n",
      "Epoch 98/100\n",
      "8260/8260 [==============================] - 3s 338us/sample - loss: 0.3407 - accuracy: 0.8518\n",
      "Epoch 99/100\n",
      "8260/8260 [==============================] - 3s 339us/sample - loss: 0.3373 - accuracy: 0.8546\n",
      "Epoch 100/100\n",
      "8260/8260 [==============================] - 3s 316us/sample - loss: 0.3377 - accuracy: 0.8547\n",
      "Classification Report: \n",
      "               precision    recall  f1-score   support\n",
      "\n",
      "           0       0.86      0.73      0.79      1033\n",
      "           1       0.76      0.88      0.82      1033\n",
      "\n",
      "    accuracy                           0.81      2066\n",
      "   macro avg       0.81      0.81      0.80      2066\n",
      "weighted avg       0.81      0.81      0.80      2066\n",
      "\n"
     ]
    }
   ],
   "source": [
    "y_preds = ANN(X_train.values, y_train.values, X_test.values, y_test.values, 'binary_crossentropy', -1)"
   ]
  },
  {
   "cell_type": "code",
   "execution_count": 75,
   "metadata": {},
   "outputs": [],
   "source": [
    "# smote is better than simple oversampling, oversampling is simple duplication but smote is not"
   ]
  },
  {
   "cell_type": "markdown",
   "metadata": {},
   "source": [
    "### Method4: Use of Ensemble with undersampling"
   ]
  },
  {
   "cell_type": "code",
   "execution_count": 76,
   "metadata": {},
   "outputs": [
    {
     "data": {
      "text/plain": [
       "0    5163\n",
       "1    1869\n",
       "Name: Churn, dtype: int64"
      ]
     },
     "execution_count": 76,
     "metadata": {},
     "output_type": "execute_result"
    }
   ],
   "source": [
    "df2.Churn.value_counts()"
   ]
  },
  {
   "cell_type": "code",
   "execution_count": 77,
   "metadata": {},
   "outputs": [],
   "source": [
    "# Regain Original features and labels\n",
    "X = df2.drop('Churn',axis='columns')\n",
    "y = df2['Churn']"
   ]
  },
  {
   "cell_type": "code",
   "execution_count": 78,
   "metadata": {},
   "outputs": [],
   "source": [
    "from sklearn.model_selection import train_test_split\n",
    "X_train, X_test, y_train, y_test = train_test_split(X, y, test_size=0.2, random_state=15, stratify=y)"
   ]
  },
  {
   "cell_type": "code",
   "execution_count": 79,
   "metadata": {},
   "outputs": [
    {
     "data": {
      "text/plain": [
       "0    4130\n",
       "1    1495\n",
       "Name: Churn, dtype: int64"
      ]
     },
     "execution_count": 79,
     "metadata": {},
     "output_type": "execute_result"
    }
   ],
   "source": [
    "y_train.value_counts()"
   ]
  },
  {
   "cell_type": "code",
   "execution_count": 80,
   "metadata": {},
   "outputs": [
    {
     "data": {
      "text/plain": [
       "2.762541806020067"
      ]
     },
     "execution_count": 80,
     "metadata": {},
     "output_type": "execute_result"
    }
   ],
   "source": [
    "4130/1495"
   ]
  },
  {
   "cell_type": "code",
   "execution_count": 81,
   "metadata": {},
   "outputs": [
    {
     "data": {
      "text/plain": [
       "2990"
      ]
     },
     "execution_count": 81,
     "metadata": {},
     "output_type": "execute_result"
    }
   ],
   "source": [
    "1495+1495"
   ]
  },
  {
   "cell_type": "code",
   "execution_count": 82,
   "metadata": {},
   "outputs": [],
   "source": [
    "# so approxmately we divide 3 parts\n",
    "# 0:1495, 1495:1495+1495, 2990:"
   ]
  },
  {
   "cell_type": "code",
   "execution_count": 83,
   "metadata": {},
   "outputs": [
    {
     "data": {
      "text/plain": [
       "0    1033\n",
       "1     374\n",
       "Name: Churn, dtype: int64"
      ]
     },
     "execution_count": 83,
     "metadata": {},
     "output_type": "execute_result"
    }
   ],
   "source": [
    "y_test.value_counts()"
   ]
  },
  {
   "cell_type": "markdown",
   "metadata": {},
   "source": [
    "model1 --> class1(1495) + class0(0, 1495)\n",
    "\n",
    "model2 --> class1(1495) + class0(1496, 2990)\n",
    "\n",
    "model3 --> class1(1495) + class0(2990, 4130)"
   ]
  },
  {
   "cell_type": "code",
   "execution_count": 84,
   "metadata": {},
   "outputs": [],
   "source": [
    "# first we divide the train and test samples\n",
    "# then we join X_train, y_train into one data frame named df3\n",
    "# then we under sample majotity class into equal parts\n",
    "# we are creating 3 models from training data, we are not createing models directly from the given data\n",
    "# in all three models test data is same but we divide the training data\n",
    "# after dividing the the three models we merge the least ones with majority ones three different times"
   ]
  },
  {
   "cell_type": "code",
   "execution_count": 85,
   "metadata": {},
   "outputs": [],
   "source": [
    "df3 = X_train.copy()\n",
    "df3['Churn'] = y_train"
   ]
  },
  {
   "cell_type": "code",
   "execution_count": 86,
   "metadata": {},
   "outputs": [
    {
     "data": {
      "text/html": [
       "<div>\n",
       "<style scoped>\n",
       "    .dataframe tbody tr th:only-of-type {\n",
       "        vertical-align: middle;\n",
       "    }\n",
       "\n",
       "    .dataframe tbody tr th {\n",
       "        vertical-align: top;\n",
       "    }\n",
       "\n",
       "    .dataframe thead th {\n",
       "        text-align: right;\n",
       "    }\n",
       "</style>\n",
       "<table border=\"1\" class=\"dataframe\">\n",
       "  <thead>\n",
       "    <tr style=\"text-align: right;\">\n",
       "      <th></th>\n",
       "      <th>gender</th>\n",
       "      <th>SeniorCitizen</th>\n",
       "      <th>Partner</th>\n",
       "      <th>Dependents</th>\n",
       "      <th>tenure</th>\n",
       "      <th>PhoneService</th>\n",
       "      <th>MultipleLines</th>\n",
       "      <th>OnlineSecurity</th>\n",
       "      <th>OnlineBackup</th>\n",
       "      <th>DeviceProtection</th>\n",
       "      <th>...</th>\n",
       "      <th>InternetService_Fiber optic</th>\n",
       "      <th>InternetService_No</th>\n",
       "      <th>Contract_Month-to-month</th>\n",
       "      <th>Contract_One year</th>\n",
       "      <th>Contract_Two year</th>\n",
       "      <th>PaymentMethod_Bank transfer (automatic)</th>\n",
       "      <th>PaymentMethod_Credit card (automatic)</th>\n",
       "      <th>PaymentMethod_Electronic check</th>\n",
       "      <th>PaymentMethod_Mailed check</th>\n",
       "      <th>Churn</th>\n",
       "    </tr>\n",
       "  </thead>\n",
       "  <tbody>\n",
       "    <tr>\n",
       "      <th>684</th>\n",
       "      <td>1</td>\n",
       "      <td>0</td>\n",
       "      <td>0</td>\n",
       "      <td>0</td>\n",
       "      <td>0.000000</td>\n",
       "      <td>1</td>\n",
       "      <td>0</td>\n",
       "      <td>0</td>\n",
       "      <td>0</td>\n",
       "      <td>0</td>\n",
       "      <td>...</td>\n",
       "      <td>1</td>\n",
       "      <td>0</td>\n",
       "      <td>1</td>\n",
       "      <td>0</td>\n",
       "      <td>0</td>\n",
       "      <td>0</td>\n",
       "      <td>0</td>\n",
       "      <td>0</td>\n",
       "      <td>1</td>\n",
       "      <td>0</td>\n",
       "    </tr>\n",
       "    <tr>\n",
       "      <th>2446</th>\n",
       "      <td>1</td>\n",
       "      <td>0</td>\n",
       "      <td>0</td>\n",
       "      <td>0</td>\n",
       "      <td>0.239437</td>\n",
       "      <td>1</td>\n",
       "      <td>1</td>\n",
       "      <td>0</td>\n",
       "      <td>1</td>\n",
       "      <td>0</td>\n",
       "      <td>...</td>\n",
       "      <td>1</td>\n",
       "      <td>0</td>\n",
       "      <td>1</td>\n",
       "      <td>0</td>\n",
       "      <td>0</td>\n",
       "      <td>0</td>\n",
       "      <td>1</td>\n",
       "      <td>0</td>\n",
       "      <td>0</td>\n",
       "      <td>1</td>\n",
       "    </tr>\n",
       "    <tr>\n",
       "      <th>1680</th>\n",
       "      <td>0</td>\n",
       "      <td>0</td>\n",
       "      <td>1</td>\n",
       "      <td>1</td>\n",
       "      <td>0.774648</td>\n",
       "      <td>1</td>\n",
       "      <td>1</td>\n",
       "      <td>0</td>\n",
       "      <td>0</td>\n",
       "      <td>0</td>\n",
       "      <td>...</td>\n",
       "      <td>0</td>\n",
       "      <td>1</td>\n",
       "      <td>0</td>\n",
       "      <td>1</td>\n",
       "      <td>0</td>\n",
       "      <td>0</td>\n",
       "      <td>0</td>\n",
       "      <td>0</td>\n",
       "      <td>1</td>\n",
       "      <td>0</td>\n",
       "    </tr>\n",
       "    <tr>\n",
       "      <th>2220</th>\n",
       "      <td>0</td>\n",
       "      <td>0</td>\n",
       "      <td>1</td>\n",
       "      <td>0</td>\n",
       "      <td>1.000000</td>\n",
       "      <td>1</td>\n",
       "      <td>0</td>\n",
       "      <td>1</td>\n",
       "      <td>1</td>\n",
       "      <td>0</td>\n",
       "      <td>...</td>\n",
       "      <td>0</td>\n",
       "      <td>0</td>\n",
       "      <td>0</td>\n",
       "      <td>0</td>\n",
       "      <td>1</td>\n",
       "      <td>1</td>\n",
       "      <td>0</td>\n",
       "      <td>0</td>\n",
       "      <td>0</td>\n",
       "      <td>0</td>\n",
       "    </tr>\n",
       "    <tr>\n",
       "      <th>2842</th>\n",
       "      <td>1</td>\n",
       "      <td>0</td>\n",
       "      <td>0</td>\n",
       "      <td>0</td>\n",
       "      <td>0.042254</td>\n",
       "      <td>0</td>\n",
       "      <td>0</td>\n",
       "      <td>1</td>\n",
       "      <td>0</td>\n",
       "      <td>1</td>\n",
       "      <td>...</td>\n",
       "      <td>0</td>\n",
       "      <td>0</td>\n",
       "      <td>1</td>\n",
       "      <td>0</td>\n",
       "      <td>0</td>\n",
       "      <td>0</td>\n",
       "      <td>0</td>\n",
       "      <td>0</td>\n",
       "      <td>1</td>\n",
       "      <td>0</td>\n",
       "    </tr>\n",
       "  </tbody>\n",
       "</table>\n",
       "<p>5 rows × 27 columns</p>\n",
       "</div>"
      ],
      "text/plain": [
       "      gender  SeniorCitizen  Partner  Dependents    tenure  PhoneService  \\\n",
       "684        1              0        0           0  0.000000             1   \n",
       "2446       1              0        0           0  0.239437             1   \n",
       "1680       0              0        1           1  0.774648             1   \n",
       "2220       0              0        1           0  1.000000             1   \n",
       "2842       1              0        0           0  0.042254             0   \n",
       "\n",
       "      MultipleLines  OnlineSecurity  OnlineBackup  DeviceProtection  ...  \\\n",
       "684               0               0             0                 0  ...   \n",
       "2446              1               0             1                 0  ...   \n",
       "1680              1               0             0                 0  ...   \n",
       "2220              0               1             1                 0  ...   \n",
       "2842              0               1             0                 1  ...   \n",
       "\n",
       "      InternetService_Fiber optic  InternetService_No  \\\n",
       "684                             1                   0   \n",
       "2446                            1                   0   \n",
       "1680                            0                   1   \n",
       "2220                            0                   0   \n",
       "2842                            0                   0   \n",
       "\n",
       "      Contract_Month-to-month  Contract_One year  Contract_Two year  \\\n",
       "684                         1                  0                  0   \n",
       "2446                        1                  0                  0   \n",
       "1680                        0                  1                  0   \n",
       "2220                        0                  0                  1   \n",
       "2842                        1                  0                  0   \n",
       "\n",
       "      PaymentMethod_Bank transfer (automatic)  \\\n",
       "684                                         0   \n",
       "2446                                        0   \n",
       "1680                                        0   \n",
       "2220                                        1   \n",
       "2842                                        0   \n",
       "\n",
       "      PaymentMethod_Credit card (automatic)  PaymentMethod_Electronic check  \\\n",
       "684                                       0                               0   \n",
       "2446                                      1                               0   \n",
       "1680                                      0                               0   \n",
       "2220                                      0                               0   \n",
       "2842                                      0                               0   \n",
       "\n",
       "      PaymentMethod_Mailed check  Churn  \n",
       "684                            1      0  \n",
       "2446                           0      1  \n",
       "1680                           1      0  \n",
       "2220                           0      0  \n",
       "2842                           1      0  \n",
       "\n",
       "[5 rows x 27 columns]"
      ]
     },
     "execution_count": 86,
     "metadata": {},
     "output_type": "execute_result"
    }
   ],
   "source": [
    "df3.head()"
   ]
  },
  {
   "cell_type": "code",
   "execution_count": 87,
   "metadata": {},
   "outputs": [],
   "source": [
    "df3_class_0 = df3[df3.Churn==0]\n",
    "df3_class_1 = df3[df3.Churn==1]"
   ]
  },
  {
   "cell_type": "code",
   "execution_count": 88,
   "metadata": {},
   "outputs": [],
   "source": [
    "def get_train_batch(df_majority, df_minority, start, end):\n",
    "    df_train = pd.concat([df_majority[start:end], df_minority], ignore_index=True, axis=0)\n",
    "\n",
    "    X_train = df_train.drop('Churn', axis='columns')\n",
    "    y_train = df_train.Churn\n",
    "    return X_train, y_train    "
   ]
  },
  {
   "cell_type": "code",
   "execution_count": 89,
   "metadata": {},
   "outputs": [
    {
     "name": "stdout",
     "output_type": "stream",
     "text": [
      "Train on 2990 samples\n",
      "Epoch 1/100\n",
      "2990/2990 [==============================] - 2s 615us/sample - loss: 0.6402 - accuracy: 0.6308\n",
      "Epoch 2/100\n",
      "2990/2990 [==============================] - 1s 265us/sample - loss: 0.5320 - accuracy: 0.7485\n",
      "Epoch 3/100\n",
      "2990/2990 [==============================] - 1s 343us/sample - loss: 0.5053 - accuracy: 0.7585\n",
      "Epoch 4/100\n",
      "2990/2990 [==============================] - 1s 342us/sample - loss: 0.4936 - accuracy: 0.7649\n",
      "Epoch 5/100\n",
      "2990/2990 [==============================] - 1s 346us/sample - loss: 0.4906 - accuracy: 0.7652\n",
      "Epoch 6/100\n",
      "2990/2990 [==============================] - 1s 345us/sample - loss: 0.4837 - accuracy: 0.7656\n",
      "Epoch 7/100\n",
      "2990/2990 [==============================] - 1s 239us/sample - loss: 0.4813 - accuracy: 0.7699\n",
      "Epoch 8/100\n",
      "2990/2990 [==============================] - 1s 234us/sample - loss: 0.4772 - accuracy: 0.7692\n",
      "Epoch 9/100\n",
      "2990/2990 [==============================] - 1s 279us/sample - loss: 0.4757 - accuracy: 0.7722\n",
      "Epoch 10/100\n",
      "2990/2990 [==============================] - 1s 237us/sample - loss: 0.4726 - accuracy: 0.7726\n",
      "Epoch 11/100\n",
      "2990/2990 [==============================] - 1s 297us/sample - loss: 0.4728 - accuracy: 0.7776\n",
      "Epoch 12/100\n",
      "2990/2990 [==============================] - 1s 343us/sample - loss: 0.4687 - accuracy: 0.7779\n",
      "Epoch 13/100\n",
      "2990/2990 [==============================] - 1s 380us/sample - loss: 0.4676 - accuracy: 0.7753\n",
      "Epoch 14/100\n",
      "2990/2990 [==============================] - 1s 350us/sample - loss: 0.4646 - accuracy: 0.7769\n",
      "Epoch 15/100\n",
      "2990/2990 [==============================] - 1s 378us/sample - loss: 0.4629 - accuracy: 0.7829\n",
      "Epoch 16/100\n",
      "2990/2990 [==============================] - 1s 383us/sample - loss: 0.4633 - accuracy: 0.7826\n",
      "Epoch 17/100\n",
      "2990/2990 [==============================] - 1s 360us/sample - loss: 0.4601 - accuracy: 0.7843\n",
      "Epoch 18/100\n",
      "2990/2990 [==============================] - 1s 298us/sample - loss: 0.4588 - accuracy: 0.7809\n",
      "Epoch 19/100\n",
      "2990/2990 [==============================] - 1s 335us/sample - loss: 0.4574 - accuracy: 0.7839\n",
      "Epoch 20/100\n",
      "2990/2990 [==============================] - 1s 260us/sample - loss: 0.4575 - accuracy: 0.7873\n",
      "Epoch 21/100\n",
      "2990/2990 [==============================] - 1s 399us/sample - loss: 0.4550 - accuracy: 0.7836\n",
      "Epoch 22/100\n",
      "2990/2990 [==============================] - 1s 407us/sample - loss: 0.4546 - accuracy: 0.7870\n",
      "Epoch 23/100\n",
      "2990/2990 [==============================] - 1s 405us/sample - loss: 0.4528 - accuracy: 0.7853\n",
      "Epoch 24/100\n",
      "2990/2990 [==============================] - 1s 403us/sample - loss: 0.4517 - accuracy: 0.7900\n",
      "Epoch 25/100\n",
      "2990/2990 [==============================] - 1s 404us/sample - loss: 0.4505 - accuracy: 0.7916\n",
      "Epoch 26/100\n",
      "2990/2990 [==============================] - 1s 400us/sample - loss: 0.4487 - accuracy: 0.7933\n",
      "Epoch 27/100\n",
      "2990/2990 [==============================] - 1s 399us/sample - loss: 0.4475 - accuracy: 0.7910\n",
      "Epoch 28/100\n",
      "2990/2990 [==============================] - 1s 405us/sample - loss: 0.4464 - accuracy: 0.7963\n",
      "Epoch 29/100\n",
      "2990/2990 [==============================] - 1s 402us/sample - loss: 0.4447 - accuracy: 0.7953\n",
      "Epoch 30/100\n",
      "2990/2990 [==============================] - 1s 408us/sample - loss: 0.4454 - accuracy: 0.7953\n",
      "Epoch 31/100\n",
      "2990/2990 [==============================] - 1s 399us/sample - loss: 0.4434 - accuracy: 0.7910\n",
      "Epoch 32/100\n",
      "2990/2990 [==============================] - 1s 402us/sample - loss: 0.4432 - accuracy: 0.7953\n",
      "Epoch 33/100\n",
      "2990/2990 [==============================] - 1s 403us/sample - loss: 0.4415 - accuracy: 0.7953\n",
      "Epoch 34/100\n",
      "2990/2990 [==============================] - 1s 404us/sample - loss: 0.4402 - accuracy: 0.7973\n",
      "Epoch 35/100\n",
      "2990/2990 [==============================] - 1s 411us/sample - loss: 0.4409 - accuracy: 0.7926\n",
      "Epoch 36/100\n",
      "2990/2990 [==============================] - 1s 404us/sample - loss: 0.4389 - accuracy: 0.7920\n",
      "Epoch 37/100\n",
      "2990/2990 [==============================] - 1s 401us/sample - loss: 0.4356 - accuracy: 0.8017\n",
      "Epoch 38/100\n",
      "2990/2990 [==============================] - 1s 402us/sample - loss: 0.4360 - accuracy: 0.8017\n",
      "Epoch 39/100\n",
      "2990/2990 [==============================] - 1s 408us/sample - loss: 0.4339 - accuracy: 0.7987 - loss: 0\n",
      "Epoch 40/100\n",
      "2990/2990 [==============================] - 1s 405us/sample - loss: 0.4348 - accuracy: 0.8020\n",
      "Epoch 41/100\n",
      "2990/2990 [==============================] - 1s 406us/sample - loss: 0.4341 - accuracy: 0.7980\n",
      "Epoch 42/100\n",
      "2990/2990 [==============================] - 1s 408us/sample - loss: 0.4322 - accuracy: 0.8010\n",
      "Epoch 43/100\n",
      "2990/2990 [==============================] - 1s 409us/sample - loss: 0.4309 - accuracy: 0.8030\n",
      "Epoch 44/100\n",
      "2990/2990 [==============================] - 1s 408us/sample - loss: 0.4306 - accuracy: 0.8037\n",
      "Epoch 45/100\n",
      "2990/2990 [==============================] - 1s 408us/sample - loss: 0.4287 - accuracy: 0.8007\n",
      "Epoch 46/100\n",
      "2990/2990 [==============================] - 1s 410us/sample - loss: 0.4260 - accuracy: 0.8037\n",
      "Epoch 47/100\n",
      "2990/2990 [==============================] - 1s 406us/sample - loss: 0.4265 - accuracy: 0.8057\n",
      "Epoch 48/100\n",
      "2990/2990 [==============================] - 1s 405us/sample - loss: 0.4257 - accuracy: 0.8064\n",
      "Epoch 49/100\n",
      "2990/2990 [==============================] - 1s 406us/sample - loss: 0.4247 - accuracy: 0.8054\n",
      "Epoch 50/100\n",
      "2990/2990 [==============================] - 1s 410us/sample - loss: 0.4230 - accuracy: 0.8120\n",
      "Epoch 51/100\n",
      "2990/2990 [==============================] - 1s 368us/sample - loss: 0.4225 - accuracy: 0.8087\n",
      "Epoch 52/100\n",
      "2990/2990 [==============================] - 1s 226us/sample - loss: 0.4211 - accuracy: 0.8057\n",
      "Epoch 53/100\n",
      "2990/2990 [==============================] - 1s 230us/sample - loss: 0.4205 - accuracy: 0.8094\n",
      "Epoch 54/100\n",
      "2990/2990 [==============================] - 1s 346us/sample - loss: 0.4182 - accuracy: 0.8114\n",
      "Epoch 55/100\n",
      "2990/2990 [==============================] - 1s 267us/sample - loss: 0.4172 - accuracy: 0.8147\n",
      "Epoch 56/100\n",
      "2990/2990 [==============================] - 1s 280us/sample - loss: 0.4208 - accuracy: 0.8064\n",
      "Epoch 57/100\n",
      "2990/2990 [==============================] - 1s 271us/sample - loss: 0.4164 - accuracy: 0.8067\n",
      "Epoch 58/100\n",
      "2990/2990 [==============================] - 1s 315us/sample - loss: 0.4161 - accuracy: 0.8144\n",
      "Epoch 59/100\n",
      "2990/2990 [==============================] - 1s 349us/sample - loss: 0.4151 - accuracy: 0.8134\n",
      "Epoch 60/100\n",
      "2990/2990 [==============================] - 1s 377us/sample - loss: 0.4142 - accuracy: 0.8140\n",
      "Epoch 61/100\n",
      "2990/2990 [==============================] - 1s 393us/sample - loss: 0.4127 - accuracy: 0.8107\n",
      "Epoch 62/100\n",
      "2990/2990 [==============================] - 1s 376us/sample - loss: 0.4125 - accuracy: 0.8114\n",
      "Epoch 63/100\n",
      "2990/2990 [==============================] - 1s 354us/sample - loss: 0.4104 - accuracy: 0.8127\n",
      "Epoch 64/100\n",
      "2990/2990 [==============================] - 1s 351us/sample - loss: 0.4080 - accuracy: 0.8174\n",
      "Epoch 65/100\n",
      "2990/2990 [==============================] - 1s 380us/sample - loss: 0.4091 - accuracy: 0.8161\n",
      "Epoch 66/100\n",
      "2990/2990 [==============================] - 1s 360us/sample - loss: 0.4090 - accuracy: 0.8140\n",
      "Epoch 67/100\n",
      "2990/2990 [==============================] - 1s 378us/sample - loss: 0.4062 - accuracy: 0.8207\n",
      "Epoch 68/100\n",
      "2990/2990 [==============================] - 1s 366us/sample - loss: 0.4052 - accuracy: 0.8167\n",
      "Epoch 69/100\n",
      "2990/2990 [==============================] - 1s 383us/sample - loss: 0.4038 - accuracy: 0.8231\n",
      "Epoch 70/100\n",
      "2990/2990 [==============================] - 1s 348us/sample - loss: 0.4028 - accuracy: 0.8201\n",
      "Epoch 71/100\n",
      "2990/2990 [==============================] - 1s 370us/sample - loss: 0.4032 - accuracy: 0.8217\n",
      "Epoch 72/100\n",
      "2990/2990 [==============================] - 1s 375us/sample - loss: 0.4015 - accuracy: 0.8184\n",
      "Epoch 73/100\n",
      "2990/2990 [==============================] - 1s 344us/sample - loss: 0.4020 - accuracy: 0.8174\n",
      "Epoch 74/100\n",
      "2990/2990 [==============================] - 1s 367us/sample - loss: 0.3985 - accuracy: 0.8224\n",
      "Epoch 75/100\n",
      "2990/2990 [==============================] - 1s 403us/sample - loss: 0.3979 - accuracy: 0.8197\n",
      "Epoch 76/100\n"
     ]
    },
    {
     "name": "stdout",
     "output_type": "stream",
     "text": [
      "2990/2990 [==============================] - 1s 396us/sample - loss: 0.3993 - accuracy: 0.8281\n",
      "Epoch 77/100\n",
      "2990/2990 [==============================] - 1s 350us/sample - loss: 0.3972 - accuracy: 0.8214\n",
      "Epoch 78/100\n",
      "2990/2990 [==============================] - 1s 344us/sample - loss: 0.3980 - accuracy: 0.8204\n",
      "Epoch 79/100\n",
      "2990/2990 [==============================] - 1s 345us/sample - loss: 0.3967 - accuracy: 0.8244\n",
      "Epoch 80/100\n",
      "2990/2990 [==============================] - 1s 343us/sample - loss: 0.3968 - accuracy: 0.8237\n",
      "Epoch 81/100\n",
      "2990/2990 [==============================] - 1s 344us/sample - loss: 0.3947 - accuracy: 0.8244\n",
      "Epoch 82/100\n",
      "2990/2990 [==============================] - 1s 347us/sample - loss: 0.3932 - accuracy: 0.8207\n",
      "Epoch 83/100\n",
      "2990/2990 [==============================] - 1s 342us/sample - loss: 0.3930 - accuracy: 0.8254\n",
      "Epoch 84/100\n",
      "2990/2990 [==============================] - 1s 346us/sample - loss: 0.3914 - accuracy: 0.8244\n",
      "Epoch 85/100\n",
      "2990/2990 [==============================] - 1s 354us/sample - loss: 0.3914 - accuracy: 0.8298\n",
      "Epoch 86/100\n",
      "2990/2990 [==============================] - 1s 347us/sample - loss: 0.3928 - accuracy: 0.8244\n",
      "Epoch 87/100\n",
      "2990/2990 [==============================] - 1s 342us/sample - loss: 0.3902 - accuracy: 0.8247\n",
      "Epoch 88/100\n",
      "2990/2990 [==============================] - 1s 347us/sample - loss: 0.3887 - accuracy: 0.8274\n",
      "Epoch 89/100\n",
      "2990/2990 [==============================] - 1s 347us/sample - loss: 0.3892 - accuracy: 0.8291\n",
      "Epoch 90/100\n",
      "2990/2990 [==============================] - 1s 350us/sample - loss: 0.3882 - accuracy: 0.8291\n",
      "Epoch 91/100\n",
      "2990/2990 [==============================] - 1s 347us/sample - loss: 0.3871 - accuracy: 0.8301\n",
      "Epoch 92/100\n",
      "2990/2990 [==============================] - 1s 346us/sample - loss: 0.3865 - accuracy: 0.8274\n",
      "Epoch 93/100\n",
      "2990/2990 [==============================] - 1s 345us/sample - loss: 0.3863 - accuracy: 0.8264\n",
      "Epoch 94/100\n",
      "2990/2990 [==============================] - 1s 347us/sample - loss: 0.3837 - accuracy: 0.8298\n",
      "Epoch 95/100\n",
      "2990/2990 [==============================] - 1s 346us/sample - loss: 0.3832 - accuracy: 0.8298\n",
      "Epoch 96/100\n",
      "2990/2990 [==============================] - 1s 346us/sample - loss: 0.3823 - accuracy: 0.8324\n",
      "Epoch 97/100\n",
      "2990/2990 [==============================] - 1s 343us/sample - loss: 0.3807 - accuracy: 0.8338\n",
      "Epoch 98/100\n",
      "2990/2990 [==============================] - 1s 346us/sample - loss: 0.3831 - accuracy: 0.8314\n",
      "Epoch 99/100\n",
      "2990/2990 [==============================] - 1s 349us/sample - loss: 0.3811 - accuracy: 0.8321\n",
      "Epoch 100/100\n",
      "2990/2990 [==============================] - 1s 343us/sample - loss: 0.3807 - accuracy: 0.8298\n",
      "Classification Report: \n",
      "               precision    recall  f1-score   support\n",
      "\n",
      "           0       0.88      0.73      0.79      1033\n",
      "           1       0.49      0.72      0.58       374\n",
      "\n",
      "    accuracy                           0.72      1407\n",
      "   macro avg       0.68      0.72      0.69      1407\n",
      "weighted avg       0.77      0.72      0.74      1407\n",
      "\n"
     ]
    }
   ],
   "source": [
    "X_train, y_train = get_train_batch(df3_class_0, df3_class_1, 0, 1495)\n",
    "\n",
    "y_pred1 = ANN(X_train.values, y_train.values, X_test.values, y_test.values, 'binary_crossentropy', -1)"
   ]
  },
  {
   "cell_type": "code",
   "execution_count": 92,
   "metadata": {},
   "outputs": [
    {
     "name": "stdout",
     "output_type": "stream",
     "text": [
      "Train on 2990 samples\n",
      "Epoch 1/100\n",
      "2990/2990 [==============================] - 1s 284us/sample - loss: 0.6351 - accuracy: 0.6535\n",
      "Epoch 2/100\n",
      "2990/2990 [==============================] - 0s 146us/sample - loss: 0.5270 - accuracy: 0.7495\n",
      "Epoch 3/100\n",
      "2990/2990 [==============================] - 0s 151us/sample - loss: 0.5016 - accuracy: 0.7548\n",
      "Epoch 4/100\n",
      "2990/2990 [==============================] - 0s 151us/sample - loss: 0.4952 - accuracy: 0.7605\n",
      "Epoch 5/100\n",
      "2990/2990 [==============================] - 0s 142us/sample - loss: 0.4907 - accuracy: 0.7609\n",
      "Epoch 6/100\n",
      "2990/2990 [==============================] - 0s 148us/sample - loss: 0.4864 - accuracy: 0.7629\n",
      "Epoch 7/100\n",
      "2990/2990 [==============================] - 0s 156us/sample - loss: 0.4831 - accuracy: 0.7645\n",
      "Epoch 8/100\n",
      "2990/2990 [==============================] - 1s 169us/sample - loss: 0.4812 - accuracy: 0.7672\n",
      "Epoch 9/100\n",
      "2990/2990 [==============================] - 0s 159us/sample - loss: 0.4783 - accuracy: 0.7659\n",
      "Epoch 10/100\n",
      "2990/2990 [==============================] - 0s 146us/sample - loss: 0.4787 - accuracy: 0.7642\n",
      "Epoch 11/100\n",
      "2990/2990 [==============================] - 0s 148us/sample - loss: 0.4763 - accuracy: 0.7672\n",
      "Epoch 12/100\n",
      "2990/2990 [==============================] - 0s 150us/sample - loss: 0.4742 - accuracy: 0.7679\n",
      "Epoch 13/100\n",
      "2990/2990 [==============================] - 0s 155us/sample - loss: 0.4719 - accuracy: 0.7692\n",
      "Epoch 14/100\n",
      "2990/2990 [==============================] - 0s 144us/sample - loss: 0.4706 - accuracy: 0.7686\n",
      "Epoch 15/100\n",
      "2990/2990 [==============================] - 0s 143us/sample - loss: 0.4687 - accuracy: 0.7689\n",
      "Epoch 16/100\n",
      "2990/2990 [==============================] - 0s 145us/sample - loss: 0.4671 - accuracy: 0.7692\n",
      "Epoch 17/100\n",
      "2990/2990 [==============================] - 0s 163us/sample - loss: 0.4662 - accuracy: 0.7676\n",
      "Epoch 18/100\n",
      "2990/2990 [==============================] - 0s 143us/sample - loss: 0.4638 - accuracy: 0.7679\n",
      "Epoch 19/100\n",
      "2990/2990 [==============================] - 0s 157us/sample - loss: 0.4624 - accuracy: 0.7729\n",
      "Epoch 20/100\n",
      "2990/2990 [==============================] - 0s 145us/sample - loss: 0.4619 - accuracy: 0.7746\n",
      "Epoch 21/100\n",
      "2990/2990 [==============================] - 1s 168us/sample - loss: 0.4594 - accuracy: 0.7716\n",
      "Epoch 22/100\n",
      "2990/2990 [==============================] - 0s 149us/sample - loss: 0.4573 - accuracy: 0.7763\n",
      "Epoch 23/100\n",
      "2990/2990 [==============================] - 0s 148us/sample - loss: 0.4548 - accuracy: 0.7742\n",
      "Epoch 24/100\n",
      "2990/2990 [==============================] - 0s 150us/sample - loss: 0.4544 - accuracy: 0.7739\n",
      "Epoch 25/100\n",
      "2990/2990 [==============================] - 0s 151us/sample - loss: 0.4521 - accuracy: 0.7756\n",
      "Epoch 26/100\n",
      "2990/2990 [==============================] - 0s 152us/sample - loss: 0.4507 - accuracy: 0.7779\n",
      "Epoch 27/100\n",
      "2990/2990 [==============================] - 0s 151us/sample - loss: 0.4493 - accuracy: 0.7813\n",
      "Epoch 28/100\n",
      "2990/2990 [==============================] - 0s 146us/sample - loss: 0.4477 - accuracy: 0.7799\n",
      "Epoch 29/100\n",
      "2990/2990 [==============================] - 0s 152us/sample - loss: 0.4462 - accuracy: 0.7809\n",
      "Epoch 30/100\n",
      "2990/2990 [==============================] - 0s 143us/sample - loss: 0.4453 - accuracy: 0.7863\n",
      "Epoch 31/100\n",
      "2990/2990 [==============================] - 0s 147us/sample - loss: 0.4438 - accuracy: 0.7826\n",
      "Epoch 32/100\n",
      "2990/2990 [==============================] - 0s 146us/sample - loss: 0.4426 - accuracy: 0.7829\n",
      "Epoch 33/100\n",
      "2990/2990 [==============================] - 0s 150us/sample - loss: 0.4411 - accuracy: 0.7870\n",
      "Epoch 34/100\n",
      "2990/2990 [==============================] - 0s 157us/sample - loss: 0.4390 - accuracy: 0.7853\n",
      "Epoch 35/100\n",
      "2990/2990 [==============================] - 0s 155us/sample - loss: 0.4386 - accuracy: 0.7893\n",
      "Epoch 36/100\n",
      "2990/2990 [==============================] - 0s 152us/sample - loss: 0.4387 - accuracy: 0.7946\n",
      "Epoch 37/100\n",
      "2990/2990 [==============================] - 0s 144us/sample - loss: 0.4368 - accuracy: 0.7870\n",
      "Epoch 38/100\n",
      "2990/2990 [==============================] - 0s 145us/sample - loss: 0.4342 - accuracy: 0.7923\n",
      "Epoch 39/100\n",
      "2990/2990 [==============================] - 0s 144us/sample - loss: 0.4338 - accuracy: 0.7890\n",
      "Epoch 40/100\n",
      "2990/2990 [==============================] - 0s 141us/sample - loss: 0.4336 - accuracy: 0.7926\n",
      "Epoch 41/100\n",
      "2990/2990 [==============================] - 0s 142us/sample - loss: 0.4306 - accuracy: 0.7916\n",
      "Epoch 42/100\n",
      "2990/2990 [==============================] - 0s 163us/sample - loss: 0.4293 - accuracy: 0.7960\n",
      "Epoch 43/100\n",
      "2990/2990 [==============================] - 0s 151us/sample - loss: 0.4291 - accuracy: 0.7983\n",
      "Epoch 44/100\n",
      "2990/2990 [==============================] - 0s 157us/sample - loss: 0.4284 - accuracy: 0.7967\n",
      "Epoch 45/100\n",
      "2990/2990 [==============================] - 0s 154us/sample - loss: 0.4261 - accuracy: 0.7967\n",
      "Epoch 46/100\n",
      "2990/2990 [==============================] - 0s 145us/sample - loss: 0.4249 - accuracy: 0.8020\n",
      "Epoch 47/100\n",
      "2990/2990 [==============================] - 0s 147us/sample - loss: 0.4232 - accuracy: 0.7980\n",
      "Epoch 48/100\n",
      "2990/2990 [==============================] - 0s 143us/sample - loss: 0.4244 - accuracy: 0.8000\n",
      "Epoch 49/100\n",
      "2990/2990 [==============================] - 0s 167us/sample - loss: 0.4244 - accuracy: 0.7957\n",
      "Epoch 50/100\n",
      "2990/2990 [==============================] - 0s 148us/sample - loss: 0.4229 - accuracy: 0.7997\n",
      "Epoch 51/100\n",
      "2990/2990 [==============================] - 0s 141us/sample - loss: 0.4188 - accuracy: 0.8023\n",
      "Epoch 52/100\n",
      "2990/2990 [==============================] - 0s 143us/sample - loss: 0.4184 - accuracy: 0.8027\n",
      "Epoch 53/100\n",
      "2990/2990 [==============================] - 0s 144us/sample - loss: 0.4170 - accuracy: 0.8054\n",
      "Epoch 54/100\n",
      "2990/2990 [==============================] - 0s 144us/sample - loss: 0.4170 - accuracy: 0.8010\n",
      "Epoch 55/100\n",
      "2990/2990 [==============================] - 0s 144us/sample - loss: 0.4153 - accuracy: 0.8047\n",
      "Epoch 56/100\n",
      "2990/2990 [==============================] - 0s 142us/sample - loss: 0.4153 - accuracy: 0.8017\n",
      "Epoch 57/100\n",
      "2990/2990 [==============================] - 0s 160us/sample - loss: 0.4113 - accuracy: 0.8033\n",
      "Epoch 58/100\n",
      "2990/2990 [==============================] - ETA: 0s - loss: 0.4147 - accuracy: 0.80 - 0s 156us/sample - loss: 0.4137 - accuracy: 0.8037\n",
      "Epoch 59/100\n",
      "2990/2990 [==============================] - 0s 154us/sample - loss: 0.4104 - accuracy: 0.8050\n",
      "Epoch 60/100\n",
      "2990/2990 [==============================] - 0s 153us/sample - loss: 0.4104 - accuracy: 0.8054\n",
      "Epoch 61/100\n",
      "2990/2990 [==============================] - 0s 155us/sample - loss: 0.4075 - accuracy: 0.8077\n",
      "Epoch 62/100\n",
      "2990/2990 [==============================] - 0s 153us/sample - loss: 0.4082 - accuracy: 0.8151\n",
      "Epoch 63/100\n",
      "2990/2990 [==============================] - 0s 152us/sample - loss: 0.4074 - accuracy: 0.8080\n",
      "Epoch 64/100\n",
      "2990/2990 [==============================] - 0s 143us/sample - loss: 0.4072 - accuracy: 0.8070\n",
      "Epoch 65/100\n",
      "2990/2990 [==============================] - 0s 148us/sample - loss: 0.4050 - accuracy: 0.8094\n",
      "Epoch 66/100\n",
      "2990/2990 [==============================] - 0s 147us/sample - loss: 0.4036 - accuracy: 0.8077 - loss: 0.4044 - accuracy: 0.\n",
      "Epoch 67/100\n",
      "2990/2990 [==============================] - 0s 145us/sample - loss: 0.4027 - accuracy: 0.8087\n",
      "Epoch 68/100\n",
      "2990/2990 [==============================] - 0s 147us/sample - loss: 0.4023 - accuracy: 0.8120\n",
      "Epoch 69/100\n",
      "2990/2990 [==============================] - 0s 146us/sample - loss: 0.4015 - accuracy: 0.8070\n",
      "Epoch 70/100\n",
      "2990/2990 [==============================] - 0s 153us/sample - loss: 0.4006 - accuracy: 0.8107\n",
      "Epoch 71/100\n",
      "2990/2990 [==============================] - 0s 153us/sample - loss: 0.3984 - accuracy: 0.8120\n",
      "Epoch 72/100\n",
      "2990/2990 [==============================] - 0s 150us/sample - loss: 0.3996 - accuracy: 0.8114\n",
      "Epoch 73/100\n",
      "2990/2990 [==============================] - 0s 149us/sample - loss: 0.3979 - accuracy: 0.8107\n",
      "Epoch 74/100\n",
      "2990/2990 [==============================] - 0s 152us/sample - loss: 0.3973 - accuracy: 0.8127\n",
      "Epoch 75/100\n",
      "2990/2990 [==============================] - 0s 148us/sample - loss: 0.3966 - accuracy: 0.8120\n",
      "Epoch 76/100\n"
     ]
    },
    {
     "name": "stdout",
     "output_type": "stream",
     "text": [
      "2990/2990 [==============================] - 0s 139us/sample - loss: 0.3928 - accuracy: 0.8154\n",
      "Epoch 77/100\n",
      "2990/2990 [==============================] - 0s 139us/sample - loss: 0.3936 - accuracy: 0.8171\n",
      "Epoch 78/100\n",
      "2990/2990 [==============================] - 0s 139us/sample - loss: 0.3934 - accuracy: 0.8194\n",
      "Epoch 79/100\n",
      "2990/2990 [==============================] - 0s 139us/sample - loss: 0.3931 - accuracy: 0.8144\n",
      "Epoch 80/100\n",
      "2990/2990 [==============================] - 0s 139us/sample - loss: 0.3917 - accuracy: 0.8191\n",
      "Epoch 81/100\n",
      "2990/2990 [==============================] - 0s 139us/sample - loss: 0.3911 - accuracy: 0.8157\n",
      "Epoch 82/100\n",
      "2990/2990 [==============================] - 0s 135us/sample - loss: 0.3893 - accuracy: 0.8194\n",
      "Epoch 83/100\n",
      "2990/2990 [==============================] - 0s 148us/sample - loss: 0.3893 - accuracy: 0.8204\n",
      "Epoch 84/100\n",
      "2990/2990 [==============================] - 0s 146us/sample - loss: 0.3887 - accuracy: 0.8171\n",
      "Epoch 85/100\n",
      "2990/2990 [==============================] - 0s 145us/sample - loss: 0.3896 - accuracy: 0.8177\n",
      "Epoch 86/100\n",
      "2990/2990 [==============================] - 0s 144us/sample - loss: 0.3866 - accuracy: 0.8237\n",
      "Epoch 87/100\n",
      "2990/2990 [==============================] - 0s 139us/sample - loss: 0.3860 - accuracy: 0.8227\n",
      "Epoch 88/100\n",
      "2990/2990 [==============================] - 0s 139us/sample - loss: 0.3858 - accuracy: 0.8167\n",
      "Epoch 89/100\n",
      "2990/2990 [==============================] - 0s 142us/sample - loss: 0.3849 - accuracy: 0.8241\n",
      "Epoch 90/100\n",
      "2990/2990 [==============================] - 0s 140us/sample - loss: 0.3860 - accuracy: 0.8181\n",
      "Epoch 91/100\n",
      "2990/2990 [==============================] - 0s 139us/sample - loss: 0.3828 - accuracy: 0.8214\n",
      "Epoch 92/100\n",
      "2990/2990 [==============================] - 0s 139us/sample - loss: 0.3829 - accuracy: 0.8187\n",
      "Epoch 93/100\n",
      "2990/2990 [==============================] - 0s 148us/sample - loss: 0.3846 - accuracy: 0.8221\n",
      "Epoch 94/100\n",
      "2990/2990 [==============================] - 0s 144us/sample - loss: 0.3809 - accuracy: 0.8227\n",
      "Epoch 95/100\n",
      "2990/2990 [==============================] - 0s 158us/sample - loss: 0.3796 - accuracy: 0.8254\n",
      "Epoch 96/100\n",
      "2990/2990 [==============================] - 0s 167us/sample - loss: 0.3781 - accuracy: 0.8254\n",
      "Epoch 97/100\n",
      "2990/2990 [==============================] - 0s 163us/sample - loss: 0.3804 - accuracy: 0.8278\n",
      "Epoch 98/100\n",
      "2990/2990 [==============================] - 0s 149us/sample - loss: 0.3783 - accuracy: 0.8227\n",
      "Epoch 99/100\n",
      "2990/2990 [==============================] - 0s 143us/sample - loss: 0.3758 - accuracy: 0.8247\n",
      "Epoch 100/100\n",
      "2990/2990 [==============================] - 0s 146us/sample - loss: 0.3794 - accuracy: 0.8231\n",
      "Classification Report: \n",
      "               precision    recall  f1-score   support\n",
      "\n",
      "           0       0.88      0.71      0.79      1033\n",
      "           1       0.48      0.73      0.58       374\n",
      "\n",
      "    accuracy                           0.72      1407\n",
      "   macro avg       0.68      0.72      0.68      1407\n",
      "weighted avg       0.77      0.72      0.73      1407\n",
      "\n"
     ]
    }
   ],
   "source": [
    "X_train, y_train = get_train_batch(df3_class_0, df3_class_1, 1495, 2990)\n",
    "\n",
    "y_pred2 = ANN(X_train.values, y_train.values, X_test.values, y_test.values, 'binary_crossentropy', -1)"
   ]
  },
  {
   "cell_type": "code",
   "execution_count": 93,
   "metadata": {},
   "outputs": [
    {
     "name": "stdout",
     "output_type": "stream",
     "text": [
      "Train on 2635 samples\n",
      "Epoch 1/100\n",
      "2635/2635 [==============================] - 1s 327us/sample - loss: 0.6386 - accuracy: 0.6353\n",
      "Epoch 2/100\n",
      "2635/2635 [==============================] - 0s 145us/sample - loss: 0.5123 - accuracy: 0.7620\n",
      "Epoch 3/100\n",
      "2635/2635 [==============================] - 0s 160us/sample - loss: 0.4903 - accuracy: 0.7677\n",
      "Epoch 4/100\n",
      "2635/2635 [==============================] - 0s 158us/sample - loss: 0.4831 - accuracy: 0.7769\n",
      "Epoch 5/100\n",
      "2635/2635 [==============================] - 0s 142us/sample - loss: 0.4783 - accuracy: 0.7769\n",
      "Epoch 6/100\n",
      "2635/2635 [==============================] - 0s 142us/sample - loss: 0.4743 - accuracy: 0.7814\n",
      "Epoch 7/100\n",
      "2635/2635 [==============================] - 0s 144us/sample - loss: 0.4702 - accuracy: 0.7772\n",
      "Epoch 8/100\n",
      "2635/2635 [==============================] - 0s 143us/sample - loss: 0.4697 - accuracy: 0.7852\n",
      "Epoch 9/100\n",
      "2635/2635 [==============================] - 0s 142us/sample - loss: 0.4674 - accuracy: 0.7841\n",
      "Epoch 10/100\n",
      "2635/2635 [==============================] - 0s 145us/sample - loss: 0.4664 - accuracy: 0.7867\n",
      "Epoch 11/100\n",
      "2635/2635 [==============================] - 0s 144us/sample - loss: 0.4621 - accuracy: 0.7867\n",
      "Epoch 12/100\n",
      "2635/2635 [==============================] - 0s 143us/sample - loss: 0.4616 - accuracy: 0.7913\n",
      "Epoch 13/100\n",
      "2635/2635 [==============================] - 0s 145us/sample - loss: 0.4616 - accuracy: 0.7863\n",
      "Epoch 14/100\n",
      "2635/2635 [==============================] - 0s 142us/sample - loss: 0.4574 - accuracy: 0.7913\n",
      "Epoch 15/100\n",
      "2635/2635 [==============================] - 0s 144us/sample - loss: 0.4559 - accuracy: 0.7970\n",
      "Epoch 16/100\n",
      "2635/2635 [==============================] - 0s 145us/sample - loss: 0.4549 - accuracy: 0.7909\n",
      "Epoch 17/100\n",
      "2635/2635 [==============================] - 0s 145us/sample - loss: 0.4527 - accuracy: 0.7901\n",
      "Epoch 18/100\n",
      "2635/2635 [==============================] - 0s 144us/sample - loss: 0.4540 - accuracy: 0.7886\n",
      "Epoch 19/100\n",
      "2635/2635 [==============================] - 0s 147us/sample - loss: 0.4490 - accuracy: 0.7966\n",
      "Epoch 20/100\n",
      "2635/2635 [==============================] - 0s 144us/sample - loss: 0.4515 - accuracy: 0.7935\n",
      "Epoch 21/100\n",
      "2635/2635 [==============================] - 0s 145us/sample - loss: 0.4461 - accuracy: 0.8004\n",
      "Epoch 22/100\n",
      "2635/2635 [==============================] - 0s 145us/sample - loss: 0.4452 - accuracy: 0.8053\n",
      "Epoch 23/100\n",
      "2635/2635 [==============================] - 0s 183us/sample - loss: 0.4429 - accuracy: 0.8053\n",
      "Epoch 24/100\n",
      "2635/2635 [==============================] - 1s 216us/sample - loss: 0.4412 - accuracy: 0.8053\n",
      "Epoch 25/100\n",
      "2635/2635 [==============================] - 1s 217us/sample - loss: 0.4412 - accuracy: 0.8042\n",
      "Epoch 26/100\n",
      "2635/2635 [==============================] - 1s 217us/sample - loss: 0.4407 - accuracy: 0.8019\n",
      "Epoch 27/100\n",
      "2635/2635 [==============================] - 1s 277us/sample - loss: 0.4369 - accuracy: 0.8072\n",
      "Epoch 28/100\n",
      "2635/2635 [==============================] - 1s 409us/sample - loss: 0.4378 - accuracy: 0.8095\n",
      "Epoch 29/100\n",
      "2635/2635 [==============================] - 1s 407us/sample - loss: 0.4357 - accuracy: 0.8102\n",
      "Epoch 30/100\n",
      "2635/2635 [==============================] - 1s 401us/sample - loss: 0.4333 - accuracy: 0.8137\n",
      "Epoch 31/100\n",
      "2635/2635 [==============================] - 1s 407us/sample - loss: 0.4327 - accuracy: 0.8129\n",
      "Epoch 32/100\n",
      "2635/2635 [==============================] - 1s 404us/sample - loss: 0.4326 - accuracy: 0.8080\n",
      "Epoch 33/100\n",
      "2635/2635 [==============================] - 1s 393us/sample - loss: 0.4326 - accuracy: 0.8099\n",
      "Epoch 34/100\n",
      "2635/2635 [==============================] - 1s 261us/sample - loss: 0.4281 - accuracy: 0.8087\n",
      "Epoch 35/100\n",
      "2635/2635 [==============================] - 1s 230us/sample - loss: 0.4284 - accuracy: 0.8133\n",
      "Epoch 36/100\n",
      "2635/2635 [==============================] - 1s 239us/sample - loss: 0.4268 - accuracy: 0.8144\n",
      "Epoch 37/100\n",
      "2635/2635 [==============================] - 1s 230us/sample - loss: 0.4249 - accuracy: 0.8133\n",
      "Epoch 38/100\n",
      "2635/2635 [==============================] - 1s 351us/sample - loss: 0.4267 - accuracy: 0.8118\n",
      "Epoch 39/100\n",
      "2635/2635 [==============================] - 1s 408us/sample - loss: 0.4241 - accuracy: 0.8061\n",
      "Epoch 40/100\n",
      "2635/2635 [==============================] - 1s 407us/sample - loss: 0.4218 - accuracy: 0.8148\n",
      "Epoch 41/100\n",
      "2635/2635 [==============================] - 1s 408us/sample - loss: 0.4250 - accuracy: 0.8110\n",
      "Epoch 42/100\n",
      "2635/2635 [==============================] - 1s 399us/sample - loss: 0.4203 - accuracy: 0.8110\n",
      "Epoch 43/100\n",
      "2635/2635 [==============================] - 1s 419us/sample - loss: 0.4181 - accuracy: 0.8144\n",
      "Epoch 44/100\n",
      "2635/2635 [==============================] - 1s 250us/sample - loss: 0.4179 - accuracy: 0.8137\n",
      "Epoch 45/100\n",
      "2635/2635 [==============================] - 1s 337us/sample - loss: 0.4184 - accuracy: 0.8133\n",
      "Epoch 46/100\n",
      "2635/2635 [==============================] - 1s 402us/sample - loss: 0.4171 - accuracy: 0.8148\n",
      "Epoch 47/100\n",
      "2635/2635 [==============================] - 1s 405us/sample - loss: 0.4163 - accuracy: 0.8125\n",
      "Epoch 48/100\n",
      "2635/2635 [==============================] - 1s 372us/sample - loss: 0.4148 - accuracy: 0.8137\n",
      "Epoch 49/100\n",
      "2635/2635 [==============================] - 1s 404us/sample - loss: 0.4136 - accuracy: 0.8224\n",
      "Epoch 50/100\n",
      "2635/2635 [==============================] - 1s 404us/sample - loss: 0.4133 - accuracy: 0.8171\n",
      "Epoch 51/100\n",
      "2635/2635 [==============================] - 1s 403us/sample - loss: 0.4113 - accuracy: 0.8186\n",
      "Epoch 52/100\n",
      "2635/2635 [==============================] - 1s 321us/sample - loss: 0.4087 - accuracy: 0.8186\n",
      "Epoch 53/100\n",
      "2635/2635 [==============================] - 1s 369us/sample - loss: 0.4104 - accuracy: 0.8182\n",
      "Epoch 54/100\n",
      "2635/2635 [==============================] - 1s 399us/sample - loss: 0.4087 - accuracy: 0.8201\n",
      "Epoch 55/100\n",
      "2635/2635 [==============================] - 1s 405us/sample - loss: 0.4083 - accuracy: 0.8190\n",
      "Epoch 56/100\n",
      "2635/2635 [==============================] - 1s 239us/sample - loss: 0.4075 - accuracy: 0.8178\n",
      "Epoch 57/100\n",
      "2635/2635 [==============================] - 1s 241us/sample - loss: 0.4063 - accuracy: 0.8197\n",
      "Epoch 58/100\n",
      "2635/2635 [==============================] - 1s 245us/sample - loss: 0.4062 - accuracy: 0.8201\n",
      "Epoch 59/100\n",
      "2635/2635 [==============================] - 1s 279us/sample - loss: 0.4050 - accuracy: 0.8239\n",
      "Epoch 60/100\n",
      "2635/2635 [==============================] - 1s 267us/sample - loss: 0.4042 - accuracy: 0.8190\n",
      "Epoch 61/100\n",
      "2635/2635 [==============================] - 1s 314us/sample - loss: 0.4021 - accuracy: 0.8213\n",
      "Epoch 62/100\n",
      "2635/2635 [==============================] - 1s 265us/sample - loss: 0.4014 - accuracy: 0.8239\n",
      "Epoch 63/100\n",
      "2635/2635 [==============================] - 1s 314us/sample - loss: 0.4013 - accuracy: 0.8205\n",
      "Epoch 64/100\n",
      "2635/2635 [==============================] - 1s 364us/sample - loss: 0.3992 - accuracy: 0.8231\n",
      "Epoch 65/100\n",
      "2635/2635 [==============================] - 1s 385us/sample - loss: 0.3986 - accuracy: 0.8224\n",
      "Epoch 66/100\n",
      "2635/2635 [==============================] - 1s 352us/sample - loss: 0.3996 - accuracy: 0.8239\n",
      "Epoch 67/100\n",
      "2635/2635 [==============================] - 1s 345us/sample - loss: 0.3991 - accuracy: 0.8250\n",
      "Epoch 68/100\n",
      "2635/2635 [==============================] - 1s 343us/sample - loss: 0.3966 - accuracy: 0.8239\n",
      "Epoch 69/100\n",
      "2635/2635 [==============================] - 1s 345us/sample - loss: 0.3982 - accuracy: 0.8235\n",
      "Epoch 70/100\n",
      "2635/2635 [==============================] - 1s 350us/sample - loss: 0.3963 - accuracy: 0.8243\n",
      "Epoch 71/100\n",
      "2635/2635 [==============================] - 1s 345us/sample - loss: 0.3938 - accuracy: 0.8285\n",
      "Epoch 72/100\n",
      "2635/2635 [==============================] - 1s 361us/sample - loss: 0.3952 - accuracy: 0.8216\n",
      "Epoch 73/100\n",
      "2635/2635 [==============================] - 1s 356us/sample - loss: 0.3931 - accuracy: 0.8285\n",
      "Epoch 74/100\n",
      "2635/2635 [==============================] - 1s 349us/sample - loss: 0.3937 - accuracy: 0.8239\n",
      "Epoch 75/100\n",
      "2635/2635 [==============================] - 1s 347us/sample - loss: 0.3909 - accuracy: 0.8277\n",
      "Epoch 76/100\n"
     ]
    },
    {
     "name": "stdout",
     "output_type": "stream",
     "text": [
      "2635/2635 [==============================] - 1s 348us/sample - loss: 0.3904 - accuracy: 0.8254\n",
      "Epoch 77/100\n",
      "2635/2635 [==============================] - 1s 324us/sample - loss: 0.3908 - accuracy: 0.8258\n",
      "Epoch 78/100\n",
      "2635/2635 [==============================] - 1s 241us/sample - loss: 0.3887 - accuracy: 0.8307\n",
      "Epoch 79/100\n",
      "2635/2635 [==============================] - 1s 243us/sample - loss: 0.3906 - accuracy: 0.8231\n",
      "Epoch 80/100\n",
      "2635/2635 [==============================] - 1s 323us/sample - loss: 0.3870 - accuracy: 0.8296\n",
      "Epoch 81/100\n",
      "2635/2635 [==============================] - 1s 289us/sample - loss: 0.3856 - accuracy: 0.8288\n",
      "Epoch 82/100\n",
      "2635/2635 [==============================] - 1s 367us/sample - loss: 0.3859 - accuracy: 0.8231\n",
      "Epoch 83/100\n",
      "2635/2635 [==============================] - 1s 375us/sample - loss: 0.3858 - accuracy: 0.8296\n",
      "Epoch 84/100\n",
      "2635/2635 [==============================] - 1s 343us/sample - loss: 0.3849 - accuracy: 0.8311\n",
      "Epoch 85/100\n",
      "2635/2635 [==============================] - 1s 372us/sample - loss: 0.3859 - accuracy: 0.8281\n",
      "Epoch 86/100\n",
      "2635/2635 [==============================] - 1s 361us/sample - loss: 0.3839 - accuracy: 0.8281\n",
      "Epoch 87/100\n",
      "2635/2635 [==============================] - 1s 374us/sample - loss: 0.3849 - accuracy: 0.8281\n",
      "Epoch 88/100\n",
      "2635/2635 [==============================] - 1s 345us/sample - loss: 0.3811 - accuracy: 0.8285\n",
      "Epoch 89/100\n",
      "2635/2635 [==============================] - 1s 346us/sample - loss: 0.3818 - accuracy: 0.8288\n",
      "Epoch 90/100\n",
      "2635/2635 [==============================] - 1s 356us/sample - loss: 0.3813 - accuracy: 0.8292\n",
      "Epoch 91/100\n",
      "2635/2635 [==============================] - 1s 363us/sample - loss: 0.3788 - accuracy: 0.8342\n",
      "Epoch 92/100\n",
      "2635/2635 [==============================] - 1s 338us/sample - loss: 0.3798 - accuracy: 0.8338\n",
      "Epoch 93/100\n",
      "2635/2635 [==============================] - 1s 338us/sample - loss: 0.3783 - accuracy: 0.8292\n",
      "Epoch 94/100\n",
      "2635/2635 [==============================] - 1s 332us/sample - loss: 0.3803 - accuracy: 0.8368\n",
      "Epoch 95/100\n",
      "2635/2635 [==============================] - 1s 305us/sample - loss: 0.3762 - accuracy: 0.8281\n",
      "Epoch 96/100\n",
      "2635/2635 [==============================] - 1s 297us/sample - loss: 0.3773 - accuracy: 0.8330\n",
      "Epoch 97/100\n",
      "2635/2635 [==============================] - 1s 347us/sample - loss: 0.3769 - accuracy: 0.8323\n",
      "Epoch 98/100\n",
      "2635/2635 [==============================] - 1s 335us/sample - loss: 0.3795 - accuracy: 0.8300\n",
      "Epoch 99/100\n",
      "2635/2635 [==============================] - 1s 349us/sample - loss: 0.3745 - accuracy: 0.8349\n",
      "Epoch 100/100\n",
      "2635/2635 [==============================] - 1s 341us/sample - loss: 0.3723 - accuracy: 0.8330\n",
      "Classification Report: \n",
      "               precision    recall  f1-score   support\n",
      "\n",
      "           0       0.90      0.63      0.74      1033\n",
      "           1       0.44      0.81      0.57       374\n",
      "\n",
      "    accuracy                           0.68      1407\n",
      "   macro avg       0.67      0.72      0.66      1407\n",
      "weighted avg       0.78      0.68      0.70      1407\n",
      "\n"
     ]
    }
   ],
   "source": [
    "X_train, y_train = get_train_batch(df3_class_0, df3_class_1, 2990, 4130)\n",
    "\n",
    "y_pred3 = ANN(X_train.values, y_train.values, X_test.values, y_test.values, 'binary_crossentropy', -1)"
   ]
  },
  {
   "cell_type": "code",
   "execution_count": 94,
   "metadata": {},
   "outputs": [
    {
     "data": {
      "text/plain": [
       "1407"
      ]
     },
     "execution_count": 94,
     "metadata": {},
     "output_type": "execute_result"
    }
   ],
   "source": [
    "len(y_pred1)"
   ]
  },
  {
   "cell_type": "code",
   "execution_count": 95,
   "metadata": {},
   "outputs": [
    {
     "data": {
      "text/plain": [
       "0"
      ]
     },
     "execution_count": 95,
     "metadata": {},
     "output_type": "execute_result"
    }
   ],
   "source": [
    "vote1 = 0\n",
    "vote2 = 0\n",
    "vote3 = 0\n",
    "\n",
    "vote1+vote2+vote3"
   ]
  },
  {
   "cell_type": "code",
   "execution_count": 96,
   "metadata": {},
   "outputs": [
    {
     "data": {
      "text/plain": [
       "1"
      ]
     },
     "execution_count": 96,
     "metadata": {},
     "output_type": "execute_result"
    }
   ],
   "source": [
    "vote1 = 0\n",
    "vote2 = 0\n",
    "vote3 = 1\n",
    "\n",
    "vote1+vote2+vote3"
   ]
  },
  {
   "cell_type": "code",
   "execution_count": 97,
   "metadata": {},
   "outputs": [
    {
     "data": {
      "text/plain": [
       "2"
      ]
     },
     "execution_count": 97,
     "metadata": {},
     "output_type": "execute_result"
    }
   ],
   "source": [
    "vote1 = 0\n",
    "vote2 = 1\n",
    "vote3 = 1\n",
    "\n",
    "vote1+vote2+vote3"
   ]
  },
  {
   "cell_type": "code",
   "execution_count": 98,
   "metadata": {},
   "outputs": [
    {
     "data": {
      "text/plain": [
       "3"
      ]
     },
     "execution_count": 98,
     "metadata": {},
     "output_type": "execute_result"
    }
   ],
   "source": [
    "vote1 = 1\n",
    "vote2 = 1\n",
    "vote3 = 1\n",
    "\n",
    "vote1+vote2+vote3"
   ]
  },
  {
   "cell_type": "code",
   "execution_count": 99,
   "metadata": {},
   "outputs": [],
   "source": [
    "# if sum of votes is less than 1 then majority vote is 0\n",
    "# if sum of votes is greater than 1 then majority vote is 1"
   ]
  },
  {
   "cell_type": "code",
   "execution_count": 100,
   "metadata": {},
   "outputs": [],
   "source": [
    "y_pred_final = y_pred1.copy()\n",
    "for i in range(len(y_pred1)):\n",
    "    n_ones = y_pred1[i] + y_pred2[i] + y_pred3[i]\n",
    "    if n_ones>1:\n",
    "        y_pred_final[i] = 1\n",
    "    else:\n",
    "        y_pred_final[i] = 0"
   ]
  },
  {
   "cell_type": "code",
   "execution_count": 101,
   "metadata": {},
   "outputs": [
    {
     "name": "stdout",
     "output_type": "stream",
     "text": [
      "              precision    recall  f1-score   support\n",
      "\n",
      "           0       0.89      0.70      0.78      1033\n",
      "           1       0.47      0.76      0.58       374\n",
      "\n",
      "    accuracy                           0.71      1407\n",
      "   macro avg       0.68      0.73      0.68      1407\n",
      "weighted avg       0.78      0.71      0.73      1407\n",
      "\n"
     ]
    }
   ],
   "source": [
    "cl_rep = classification_report(y_test, y_pred_final)\n",
    "print(cl_rep)"
   ]
  },
  {
   "cell_type": "code",
   "execution_count": null,
   "metadata": {},
   "outputs": [],
   "source": [
    "# f1-score is improved a little but not that much like smote, so smote is best one"
   ]
  }
 ],
 "metadata": {
  "kernelspec": {
   "display_name": "Python 3",
   "language": "python",
   "name": "python3"
  },
  "language_info": {
   "codemirror_mode": {
    "name": "ipython",
    "version": 3
   },
   "file_extension": ".py",
   "mimetype": "text/x-python",
   "name": "python",
   "nbconvert_exporter": "python",
   "pygments_lexer": "ipython3",
   "version": "3.6.12"
  }
 },
 "nbformat": 4,
 "nbformat_minor": 4
}
