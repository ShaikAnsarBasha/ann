{
 "cells": [
  {
   "cell_type": "markdown",
   "metadata": {},
   "source": [
    "<h2 style='color:blue' align='center'>Implementation of stochastic and batch grandient descent in python</h2>"
   ]
  },
  {
   "cell_type": "code",
   "execution_count": 1,
   "metadata": {},
   "outputs": [],
   "source": [
    "import pandas as pd\n",
    "import numpy as np\n",
    "from matplotlib import pyplot as plt\n",
    "%matplotlib inline"
   ]
  },
  {
   "cell_type": "code",
   "execution_count": 2,
   "metadata": {},
   "outputs": [
    {
     "data": {
      "text/html": [
       "<div>\n",
       "<style scoped>\n",
       "    .dataframe tbody tr th:only-of-type {\n",
       "        vertical-align: middle;\n",
       "    }\n",
       "\n",
       "    .dataframe tbody tr th {\n",
       "        vertical-align: top;\n",
       "    }\n",
       "\n",
       "    .dataframe thead th {\n",
       "        text-align: right;\n",
       "    }\n",
       "</style>\n",
       "<table border=\"1\" class=\"dataframe\">\n",
       "  <thead>\n",
       "    <tr style=\"text-align: right;\">\n",
       "      <th></th>\n",
       "      <th>area</th>\n",
       "      <th>bedrooms</th>\n",
       "      <th>price</th>\n",
       "    </tr>\n",
       "  </thead>\n",
       "  <tbody>\n",
       "    <tr>\n",
       "      <th>13</th>\n",
       "      <td>1100</td>\n",
       "      <td>2</td>\n",
       "      <td>40.00</td>\n",
       "    </tr>\n",
       "    <tr>\n",
       "      <th>17</th>\n",
       "      <td>1540</td>\n",
       "      <td>3</td>\n",
       "      <td>60.00</td>\n",
       "    </tr>\n",
       "    <tr>\n",
       "      <th>0</th>\n",
       "      <td>1056</td>\n",
       "      <td>2</td>\n",
       "      <td>39.07</td>\n",
       "    </tr>\n",
       "    <tr>\n",
       "      <th>8</th>\n",
       "      <td>1310</td>\n",
       "      <td>3</td>\n",
       "      <td>50.00</td>\n",
       "    </tr>\n",
       "    <tr>\n",
       "      <th>9</th>\n",
       "      <td>3700</td>\n",
       "      <td>5</td>\n",
       "      <td>167.00</td>\n",
       "    </tr>\n",
       "  </tbody>\n",
       "</table>\n",
       "</div>"
      ],
      "text/plain": [
       "    area  bedrooms   price\n",
       "13  1100         2   40.00\n",
       "17  1540         3   60.00\n",
       "0   1056         2   39.07\n",
       "8   1310         3   50.00\n",
       "9   3700         5  167.00"
      ]
     },
     "execution_count": 2,
     "metadata": {},
     "output_type": "execute_result"
    }
   ],
   "source": [
    "df = pd.read_csv(\"homeprices_banglore.csv\")\n",
    "df.sample(5)"
   ]
  },
  {
   "cell_type": "code",
   "execution_count": 3,
   "metadata": {},
   "outputs": [
    {
     "data": {
      "text/plain": [
       "(20, 3)"
      ]
     },
     "execution_count": 3,
     "metadata": {},
     "output_type": "execute_result"
    }
   ],
   "source": [
    "df.shape"
   ]
  },
  {
   "cell_type": "code",
   "execution_count": 4,
   "metadata": {},
   "outputs": [],
   "source": [
    "from sklearn.preprocessing import MinMaxScaler\n",
    "sx = MinMaxScaler()\n",
    "sy = MinMaxScaler()\n",
    "\n",
    "scaled_X = sx.fit_transform(df.drop('price', axis='columns'))\n",
    "scaled_y = sy.fit_transform(df['price'].values.reshape(-1, 1))"
   ]
  },
  {
   "cell_type": "code",
   "execution_count": 5,
   "metadata": {},
   "outputs": [
    {
     "data": {
      "text/plain": [
       "(20, 2)"
      ]
     },
     "execution_count": 5,
     "metadata": {},
     "output_type": "execute_result"
    }
   ],
   "source": [
    "scaled_X.shape"
   ]
  },
  {
   "cell_type": "code",
   "execution_count": 6,
   "metadata": {},
   "outputs": [
    {
     "data": {
      "text/plain": [
       "(20, 1)"
      ]
     },
     "execution_count": 6,
     "metadata": {},
     "output_type": "execute_result"
    }
   ],
   "source": [
    "scaled_y.shape"
   ]
  },
  {
   "cell_type": "markdown",
   "metadata": {},
   "source": [
    "##### Now is the time to implement mini batch gradient descent. "
   ]
  },
  {
   "cell_type": "code",
   "execution_count": 26,
   "metadata": {},
   "outputs": [],
   "source": [
    "def cost_mse(y, y_pred):\n",
    "    n = y.shape[0]\n",
    "    cost = (1/n)*sum((y-y_pred)**2)\n",
    "    return cost   "
   ]
  },
  {
   "cell_type": "code",
   "execution_count": 30,
   "metadata": {},
   "outputs": [],
   "source": [
    "def batch_gradient_descent_mse(X, y, epochs):\n",
    "    \n",
    "    weights = np.random.rand(1, 2)-0.5\n",
    "    biases = np.random.rand(1,)-0.5\n",
    "    learning_rate = 0.01\n",
    "    n = X.shape[0]  \n",
    "    \n",
    "    cost_list = []\n",
    "    epochs_list = []\n",
    "    \n",
    "    for i in range(epochs):\n",
    "        output_z = X.dot(weights.T) + biases\n",
    "        \n",
    "        cost = cost_mse(y.reshape(-1, 1), output_z)\n",
    "        \n",
    "        # here y, y_hat are interchanged viceversa to logisticregression\n",
    "        output_errors = y.reshape(-1, 1) - output_z\n",
    "        \n",
    "        gradients = (-2/n)*(output_errors.T.dot(X))\n",
    "        gradients_biases = (-2/n)*sum(output_errors)\n",
    "        \n",
    "        weights = weights - learning_rate*gradients\n",
    "        biases = biases - learning_rate*gradients_biases\n",
    "        \n",
    "        cost_list.append(cost)\n",
    "        epochs_list.append(i)\n",
    "        \n",
    "        # print(f'weigths: {weights} biases: {biases} cost: {cost}')\n",
    "        \n",
    "    return weights, biases, cost_list, epochs_list, cost"
   ]
  },
  {
   "cell_type": "code",
   "execution_count": 34,
   "metadata": {},
   "outputs": [],
   "source": [
    "w, b, cost_list, epochs_list, c = batch_gradient_descent_mse(scaled_X, scaled_y.reshape(-1,), 10000)"
   ]
  },
  {
   "cell_type": "code",
   "execution_count": 35,
   "metadata": {},
   "outputs": [
    {
     "data": {
      "text/plain": [
       "(array([[0.80532883, 0.35208596]]), array([-0.10404931]), array([0.00315169]))"
      ]
     },
     "execution_count": 35,
     "metadata": {},
     "output_type": "execute_result"
    }
   ],
   "source": [
    "w, b, c"
   ]
  },
  {
   "cell_type": "code",
   "execution_count": 36,
   "metadata": {
    "scrolled": true
   },
   "outputs": [
    {
     "data": {
      "text/plain": [
       "[<matplotlib.lines.Line2D at 0x2a5ef798af0>]"
      ]
     },
     "execution_count": 36,
     "metadata": {},
     "output_type": "execute_result"
    },
    {
     "data": {
      "image/png": "[encoded data removed]",
      "text/plain": [
       "<Figure size 432x288 with 1 Axes>"
      ]
     },
     "metadata": {
      "needs_background": "light"
     },
     "output_type": "display_data"
    }
   ],
   "source": [
    "plt.xlabel(\"epoch\")\n",
    "plt.ylabel(\"cost\")\n",
    "plt.plot(epochs_list, cost_list)"
   ]
  },
  {
   "cell_type": "markdown",
   "metadata": {},
   "source": [
    "<h3 style='color:purple'>Stochastic Gradient Descent</h3>"
   ]
  },
  {
   "cell_type": "code",
   "execution_count": 89,
   "metadata": {},
   "outputs": [],
   "source": [
    "def stochastic_gradient_descent_mse(X, y, epochs, learning_rate = 0.01):\n",
    " \n",
    "    weights = np.random.rand(1, 2)-0.5\n",
    "    biases = np.random.rand(1,)-0.5\n",
    "    learning_rate = 0.01\n",
    "    n = X.shape[0]\n",
    "    \n",
    "    cost_list = []\n",
    "    epochs_list = []\n",
    "    \n",
    "    for i in range(epochs):    \n",
    "        random_index = np.random.randint(0, n)\n",
    "        \n",
    "        sample_X = X[random_index].reshape(1, -1)\n",
    "        sample_y = y[random_index].reshape(-1,)\n",
    "        \n",
    "        output_z = sample_X.dot(weights.T) + biases\n",
    "        \n",
    "        cost = cost_mse(sample_y.reshape(-1, 1), output_z)\n",
    "        \n",
    "        # here y, y_hat are interchanged viceversa to logisticregression\n",
    "        output_errors = sample_y.reshape(-1, 1) - output_z\n",
    "             \n",
    "        gradients = (-2/n)*(output_errors.T.dot(sample_X))\n",
    "        gradients_biases = (-2/n)*sum(output_errors)\n",
    "        \n",
    "        weights -= learning_rate*gradients\n",
    "        biases -= learning_rate*gradients_biases\n",
    "        \n",
    "        if i%100==0: # at every 100th iteration record the cost and epoch value\n",
    "            cost_list.append(cost)\n",
    "            epochs_list.append(i)\n",
    "        \n",
    "        \n",
    "    return weights, biases, cost, cost_list, epochs_list\n",
    "\n"
   ]
  },
  {
   "cell_type": "code",
   "execution_count": 101,
   "metadata": {},
   "outputs": [],
   "source": [
    "w, b, cost, cost_list, epoch_list = stochastic_gradient_descent(scaled_X, scaled_y.reshape(-1,), 40000)"
   ]
  },
  {
   "cell_type": "code",
   "execution_count": 92,
   "metadata": {},
   "outputs": [
    {
     "data": {
      "text/plain": [
       "(array([[0.73198931, 0.37545997]]), array([-0.09057215]), array([0.00821975]))"
      ]
     },
     "execution_count": 92,
     "metadata": {},
     "output_type": "execute_result"
    }
   ],
   "source": [
    "w, b, cost"
   ]
  },
  {
   "cell_type": "code",
   "execution_count": 102,
   "metadata": {
    "scrolled": true
   },
   "outputs": [
    {
     "data": {
      "text/plain": [
       "[<matplotlib.lines.Line2D at 0x2a5f10487f0>]"
      ]
     },
     "execution_count": 102,
     "metadata": {},
     "output_type": "execute_result"
    },
    {
     "data": {
      "image/png": "[encoded data removed]",
      "text/plain": [
       "<Figure size 432x288 with 1 Axes>"
      ]
     },
     "metadata": {
      "needs_background": "light"
     },
     "output_type": "display_data"
    }
   ],
   "source": [
    "plt.xlabel(\"epoch\")\n",
    "plt.ylabel(\"cost\")\n",
    "plt.plot(epoch_list, cost_list)"
   ]
  },
  {
   "cell_type": "code",
   "execution_count": 106,
   "metadata": {},
   "outputs": [],
   "source": [
    "# from batch gradient descent and sgd weights and biases are almost equal"
   ]
  },
  {
   "cell_type": "markdown",
   "metadata": {},
   "source": [
    "<h3 style='color:purple'>Mini Batch Gradient Descent</h3>"
   ]
  },
  {
   "cell_type": "code",
   "execution_count": 107,
   "metadata": {
    "scrolled": true
   },
   "outputs": [
    {
     "data": {
      "text/plain": [
       "array([16,  7, 17,  8,  0, 14,  9, 18,  5,  3,  1,  2,  4, 10, 11, 13, 15,\n",
       "       12,  6, 19])"
      ]
     },
     "execution_count": 107,
     "metadata": {},
     "output_type": "execute_result"
    }
   ],
   "source": [
    "np.random.permutation(20)"
   ]
  },
  {
   "cell_type": "code",
   "execution_count": 137,
   "metadata": {},
   "outputs": [],
   "source": [
    "def mini_batch_gradient_descent(X, y, epochs, batch_size):\n",
    "    \n",
    "    weights = np.random.rand(1, 2)-0.5\n",
    "    biases = np.random.rand(1,)-0.5\n",
    "    learning_rate = 0.01\n",
    "    n = X.shape[0]\n",
    "    \n",
    "    if batch_size > n: # In this case mini batch becomes same as batch gradient descent\n",
    "        batch_size = n\n",
    "        \n",
    "    cost_list = []\n",
    "    epoch_list = []\n",
    "    \n",
    "    num_batches = int(n/batch_size)\n",
    "    \n",
    "    for i in range(epochs):    \n",
    "        random_indices = np.random.permutation(n)\n",
    "        X_tmp = X[random_indices]\n",
    "        y_tmp = y[random_indices]\n",
    "        \n",
    "        for j in range(0, n, batch_size):\n",
    "            Xj = X_tmp[j:j+batch_size]\n",
    "            yj = y_tmp[j:j+batch_size]\n",
    "            \n",
    "            output_z = Xj.dot(weights.T) + biases\n",
    "        \n",
    "            cost = cost_mse(yj.reshape(-1, 1), output_z)\n",
    "\n",
    "            output_errors = yj.reshape(-1, 1) - output_z\n",
    "\n",
    "            gradients = (-2/n)*(output_errors.T.dot(Xj))\n",
    "            gradients_biases = (-2/n)*sum(output_errors)\n",
    "\n",
    "            weights = weights - learning_rate*gradients\n",
    "            biases = biases - learning_rate*gradients_biases\n",
    "        \n",
    "        \n",
    "        cost_list.append(cost)\n",
    "        epoch_list.append(i)\n",
    "        \n",
    "    return weights, biases, cost, cost_list, epoch_list\n",
    "\n",
    "w, b, cost, cost_list, epoch_list = mini_batch_gradient_descent(\n",
    "    scaled_X,\n",
    "    scaled_y.reshape(-1,),\n",
    "    epochs = 10000,\n",
    "    batch_size = 5\n",
    ")"
   ]
  },
  {
   "cell_type": "code",
   "execution_count": 140,
   "metadata": {},
   "outputs": [
    {
     "data": {
      "text/plain": [
       "(array([[0.83582748, 0.31315491]]), array([-0.09623141]), array([0.00359987]))"
      ]
     },
     "execution_count": 140,
     "metadata": {},
     "output_type": "execute_result"
    }
   ],
   "source": [
    "w, b, cost"
   ]
  },
  {
   "cell_type": "code",
   "execution_count": 139,
   "metadata": {},
   "outputs": [
    {
     "data": {
      "text/plain": [
       "[<matplotlib.lines.Line2D at 0x2a5efbaf490>]"
      ]
     },
     "execution_count": 139,
     "metadata": {},
     "output_type": "execute_result"
    },
    {
     "data": {
      "image/png": "[encoded data removed]",
      "text/plain": [
       "<Figure size 432x288 with 1 Axes>"
      ]
     },
     "metadata": {
      "needs_background": "light"
     },
     "output_type": "display_data"
    }
   ],
   "source": [
    "plt.xlabel(\"epoch\")\n",
    "plt.ylabel(\"cost\")\n",
    "plt.plot(epoch_list, cost_list)"
   ]
  },
  {
   "cell_type": "code",
   "execution_count": 1,
   "metadata": {},
   "outputs": [
    {
     "name": "stdout",
     "output_type": "stream",
     "text": [
      "[[0.99767048 0.9975925 ]\n",
      " [0.00507047 0.99999697]\n",
      " [0.99999728 0.0051415 ]\n",
      " [0.9979203  0.99770795]]\n"
     ]
    }
   ],
   "source": [
    "import numpy as np\n",
    "\n",
    "\n",
    "def sigmoid(z):\n",
    "    z = 1 / (1 + np.exp(-z))\n",
    "    return z\n",
    "\n",
    "\n",
    "def sigmoid_der(z):\n",
    "    return sigmoid(z)*(1-sigmoid(z))\n",
    "\n",
    "\n",
    "class Neural:\n",
    "    def __init__(self, input_nodes, hidden_nodes_1, hidden_nodes_2, output_nodes):\n",
    "        self.learning_rate = 0.5\n",
    "\n",
    "        self.weights_o_h2 = np.random.rand(output_nodes, hidden_nodes_2)-0.5\n",
    "        self.weights_h2_h1 = np.random.rand(hidden_nodes_2, hidden_nodes_1)-0.5\n",
    "        self.weights_h1_i = np.random.rand(hidden_nodes_1, input_nodes)-0.5\n",
    "\n",
    "        self.biases_o = np.random.rand(output_nodes,)-0.5\n",
    "        self.biases_h2 = np.random.rand(hidden_nodes_2,)-0.5\n",
    "        self.biases_h1 = np.random.rand(hidden_nodes_1,)-0.5\n",
    "\n",
    "    def forward(self, X):\n",
    "        hidden_1_z = X.dot(self.weights_h1_i.T) + self.biases_h1\n",
    "        hidden_1_a = sigmoid(hidden_1_z)\n",
    "\n",
    "        hidden_2_z = hidden_1_a.dot(self.weights_h2_h1.T) + self.biases_h2\n",
    "        hidden_2_a = sigmoid(hidden_2_z)\n",
    "\n",
    "        output_z = hidden_2_a.dot(self.weights_o_h2.T) + self.biases_o\n",
    "        output_a = sigmoid(output_z)\n",
    "        return output_a\n",
    "\n",
    "    def batch_gradient_descent(self, X, y):\n",
    "        n = X.shape[0]\n",
    "        epochs = 5000\n",
    "        for i in range(epochs):\n",
    "            hidden_1_z = X.dot(self.weights_h1_i.T) + self.biases_h1\n",
    "            hidden_1_a = sigmoid(hidden_1_z)\n",
    "\n",
    "            hidden_2_z = hidden_1_a.dot(self.weights_h2_h1.T) + self.biases_h2\n",
    "            hidden_2_a = sigmoid(hidden_2_z)\n",
    "\n",
    "            output_z = hidden_2_a.dot(self.weights_o_h2.T) + self.biases_o\n",
    "            output_a = sigmoid(output_z)\n",
    "\n",
    "            output_errors = output_a - y\n",
    "            gradients_o_h2 = (1/n)*(output_errors.T.dot(hidden_2_a))\n",
    "            gradients_biases_o = (1/n)*np.array([np.sum(output_errors)],)\n",
    "\n",
    "            hidden_errors_2 = (output_errors.dot(self.weights_o_h2)) * sigmoid_der(hidden_2_z)\n",
    "            gradients_h2_h1 = (1/n)*(hidden_errors_2.T.dot(hidden_1_a))\n",
    "            gradients_biases_h2 = (1/n)*(np.sum(hidden_errors_2, axis=0))\n",
    "\n",
    "            hidden_errors_1 = (hidden_errors_2.dot(self.weights_h2_h1)) * sigmoid_der(hidden_1_z)\n",
    "            gradients_h1_i = (1/n)*(hidden_errors_1.T.dot(X))\n",
    "            gradients_biases_h1 = (1/n)*(np.sum(hidden_errors_1, axis=0))\n",
    "\n",
    "            self.weights_o_h2 -= self.learning_rate * gradients_o_h2\n",
    "            self.weights_h2_h1 -= self.learning_rate * gradients_h2_h1\n",
    "            self.weights_h1_i -= self.learning_rate * gradients_h1_i\n",
    "\n",
    "            self.biases_o -= self.learning_rate * gradients_biases_o\n",
    "            self.biases_h2 -= self.learning_rate * gradients_biases_h2\n",
    "            self.biases_h1 -= self.learning_rate * gradients_biases_h1\n",
    "\n",
    "\n",
    "X_train = [[0, 0, 0],\n",
    "           [0, 1, 0],\n",
    "           [1, 0, 1],\n",
    "           [1, 1, 1]]\n",
    "y_train = [[1, 1], [0, 1], [1, 0], [1, 1]]\n",
    "# y_train = [0, 1, 1, 1]\n",
    "\n",
    "X_train = np.array(X_train)\n",
    "y_train = np.array(y_train)\n",
    "nn = Neural(3, 3, 2, 2)\n",
    "nn.batch_gradient_descent(X_train, y_train)\n",
    "print(nn.forward(X_train))\n"
   ]
  },
  {
   "cell_type": "code",
   "execution_count": null,
   "metadata": {},
   "outputs": [],
   "source": []
  }
 ],
 "metadata": {
  "kernelspec": {
   "display_name": "Python 3",
   "language": "python",
   "name": "python3"
  },
  "language_info": {
   "codemirror_mode": {
    "name": "ipython",
    "version": 3
   },
   "file_extension": ".py",
   "mimetype": "text/x-python",
   "name": "python",
   "nbconvert_exporter": "python",
   "pygments_lexer": "ipython3",
   "version": "3.8.0"
  }
 },
 "nbformat": 4,
 "nbformat_minor": 4
}
